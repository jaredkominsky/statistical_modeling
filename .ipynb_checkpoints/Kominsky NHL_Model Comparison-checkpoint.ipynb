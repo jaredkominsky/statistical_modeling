{
 "cells": [
  {
   "cell_type": "code",
   "execution_count": 34,
   "metadata": {},
   "outputs": [],
   "source": [
    "import pandas as pd\n",
    "import matplotlib.pyplot as plt\n",
    "\n",
    "from sklearn import metrics\n",
    "from sklearn.model_selection import train_test_split, KFold\n",
    "from sklearn.metrics import confusion_matrix, classification_report\n",
    "from sklearn.metrics import roc_curve, auc, roc_auc_score\n",
    "from sklearn.linear_model import LogisticRegression\n",
    "from sklearn.discriminant_analysis import LinearDiscriminantAnalysis, QuadraticDiscriminantAnalysis\n",
    "\n",
    "from sklearn.model_selection import GridSearchCV\n",
    "\n",
    "from sklearn import model_selection\n",
    "from sklearn.linear_model import LogisticRegression\n",
    "from sklearn.tree import DecisionTreeClassifier\n",
    "from sklearn.ensemble.forest import RandomForestClassifier\n",
    "from sklearn.ensemble.bagging import BaggingClassifier\n",
    "from sklearn.neighbors import KNeighborsClassifier\n",
    "from sklearn.svm import SVC, LinearSVC\n",
    "from sklearn.neural_network.multilayer_perceptron import MLPClassifier\n",
    "from sklearn.linear_model import LogisticRegressionCV\n",
    "from sklearn.discriminant_analysis import LinearDiscriminantAnalysis\n",
    "\n",
    "\n"
   ]
  },
  {
   "cell_type": "code",
   "execution_count": 2,
   "metadata": {},
   "outputs": [],
   "source": [
    "def show_grid_search(model, X_train, y_train, tuned_parameters, scores):\n",
    "    for score in scores:\n",
    "        print(\"# Tuning hyper-parameters for %s\" % score)\n",
    "        print()\n",
    "\n",
    "        clf = GridSearchCV(\n",
    "            model, tuned_parameters, cv=3,\n",
    "            scoring='%s_macro' % score, n_jobs=-1\n",
    "        )\n",
    "        clf.fit(X_train, y_train)\n",
    "\n",
    "        print(\"Best parameters set found on development set:\")\n",
    "        print()\n",
    "        print(clf.best_params_)\n",
    "        print()\n",
    "#        print(\"Grid scores on development set:\")\n",
    "#        print()\n",
    "#        means = clf.cv_results_['mean_test_score']\n",
    "#        stds = clf.cv_results_['std_test_score']\n",
    "#        for mean, std, params in zip(means, stds, clf.cv_results_['params']):\n",
    "#            print(\"%0.3f (+/-%0.03f) for %r\"\n",
    "#                  % (mean, std * 2, params))\n",
    "#        print()\n",
    "\n",
    "        print(\"Detailed classification report:\")\n",
    "        print()\n",
    "        print(\"The model is trained on the full development set.\")\n",
    "        print(\"The scores are computed on the full evaluation set.\")\n",
    "        print()\n",
    "        y_true, y_pred = y_test, clf.predict(X_test)\n",
    "        print(classification_report(y_true, y_pred))\n",
    "        print()\n",
    "\n",
    "# function for printing the ROC curve\n",
    "def plot_roc_curve(fpr, tpr):\n",
    "    plt.plot(fpr, tpr, color='orange', label='ROC')\n",
    "    plt.plot([0, 1], [0, 1], color='darkblue', linestyle='--')\n",
    "    plt.xlabel('False Positive Rate')\n",
    "    plt.ylabel('True Positive Rate')\n",
    "    plt.title('Receiver Operating Characteristic (ROC) Curve')\n",
    "    plt.legend()\n",
    "    plt.show()"
   ]
  },
  {
   "cell_type": "code",
   "execution_count": 32,
   "metadata": {},
   "outputs": [],
   "source": [
    "# Load data\n",
    "df = pd.read_csv(\"nhl_game_data/game_teams_stats.csv\")\n",
    "# normalize \n",
    "df['shots'] = (df['shots'] - df['shots'].mean()) / (df['shots'].max() - df['shots'].min())\n",
    "df['goals'] = (df['goals'] - df['goals'].mean()) / (df['goals'].max() - df['goals'].min())\n",
    "df['pim'] = (df['pim'] - df['pim'].mean()) / (df['pim'].max() - df['pim'].min())\n",
    "df['powerPlayGoals'] = (df['powerPlayGoals'] - df['powerPlayGoals'].mean()) / (df['powerPlayGoals'].max() - df['powerPlayGoals'].min())\n",
    "df['giveaways'] = (df['giveaways'] - df['giveaways'].mean()) / (df['giveaways'].max() - df['giveaways'].min())\n",
    "df['takeaways'] = (df['takeaways'] - df['takeaways'].mean()) / (df['takeaways'].max() - df['takeaways'].min())\n",
    "df['faceOffWinPercentage'] = (df['faceOffWinPercentage'] - df['faceOffWinPercentage'].mean()) / (df['faceOffWinPercentage'].max() - df['faceOffWinPercentage'].min())\n",
    "\n",
    "# Change catergorical data to numerical\n",
    "#df['won_true'] = df['won'].astype(int)\n",
    "df['won_true'] = df['won'].map({True: 1, False:-1})\n",
    "# Features\n",
    "X = df[['goals', 'shots', 'pim', 'powerPlayGoals', 'giveaways', 'takeaways', 'faceOffWinPercentage']]\n",
    "# Target Variable\n",
    "y = df['won_true']"
   ]
  },
  {
   "cell_type": "markdown",
   "metadata": {},
   "source": [
    "Make sure all models are using the same training set."
   ]
  },
  {
   "cell_type": "code",
   "execution_count": 4,
   "metadata": {},
   "outputs": [],
   "source": [
    "X_train, X_test, y_train, y_test = train_test_split(X, y, test_size=0.3, random_state=1) # 70% training and 30% test"
   ]
  },
  {
   "cell_type": "markdown",
   "metadata": {},
   "source": [
    "Compare all models without optimization to determine best fits to \n",
    "move forward with optimization. A few new models added to test."
   ]
  },
  {
   "cell_type": "code",
   "execution_count": 35,
   "metadata": {},
   "outputs": [
    {
     "name": "stderr",
     "output_type": "stream",
     "text": [
      "C:\\Users\\jkom8\\Anaconda3\\lib\\site-packages\\sklearn\\linear_model\\logistic.py:432: FutureWarning: Default solver will be changed to 'lbfgs' in 0.22. Specify a solver to silence this warning.\n",
      "  FutureWarning)\n",
      "C:\\Users\\jkom8\\Anaconda3\\lib\\site-packages\\sklearn\\linear_model\\logistic.py:432: FutureWarning: Default solver will be changed to 'lbfgs' in 0.22. Specify a solver to silence this warning.\n",
      "  FutureWarning)\n",
      "C:\\Users\\jkom8\\Anaconda3\\lib\\site-packages\\sklearn\\linear_model\\logistic.py:432: FutureWarning: Default solver will be changed to 'lbfgs' in 0.22. Specify a solver to silence this warning.\n",
      "  FutureWarning)\n",
      "C:\\Users\\jkom8\\Anaconda3\\lib\\site-packages\\sklearn\\linear_model\\logistic.py:432: FutureWarning: Default solver will be changed to 'lbfgs' in 0.22. Specify a solver to silence this warning.\n",
      "  FutureWarning)\n",
      "C:\\Users\\jkom8\\Anaconda3\\lib\\site-packages\\sklearn\\linear_model\\logistic.py:432: FutureWarning: Default solver will be changed to 'lbfgs' in 0.22. Specify a solver to silence this warning.\n",
      "  FutureWarning)\n",
      "C:\\Users\\jkom8\\Anaconda3\\lib\\site-packages\\sklearn\\linear_model\\logistic.py:432: FutureWarning: Default solver will be changed to 'lbfgs' in 0.22. Specify a solver to silence this warning.\n",
      "  FutureWarning)\n",
      "C:\\Users\\jkom8\\Anaconda3\\lib\\site-packages\\sklearn\\linear_model\\logistic.py:432: FutureWarning: Default solver will be changed to 'lbfgs' in 0.22. Specify a solver to silence this warning.\n",
      "  FutureWarning)\n",
      "C:\\Users\\jkom8\\Anaconda3\\lib\\site-packages\\sklearn\\linear_model\\logistic.py:432: FutureWarning: Default solver will be changed to 'lbfgs' in 0.22. Specify a solver to silence this warning.\n",
      "  FutureWarning)\n",
      "C:\\Users\\jkom8\\Anaconda3\\lib\\site-packages\\sklearn\\linear_model\\logistic.py:432: FutureWarning: Default solver will be changed to 'lbfgs' in 0.22. Specify a solver to silence this warning.\n",
      "  FutureWarning)\n",
      "C:\\Users\\jkom8\\Anaconda3\\lib\\site-packages\\sklearn\\linear_model\\logistic.py:432: FutureWarning: Default solver will be changed to 'lbfgs' in 0.22. Specify a solver to silence this warning.\n",
      "  FutureWarning)\n"
     ]
    },
    {
     "name": "stdout",
     "output_type": "stream",
     "text": [
      "LR: 0.778603 (0.011108)\n",
      "DTC: 0.688088 (0.019630)\n"
     ]
    },
    {
     "name": "stderr",
     "output_type": "stream",
     "text": [
      "C:\\Users\\jkom8\\Anaconda3\\lib\\site-packages\\sklearn\\ensemble\\forest.py:245: FutureWarning: The default value of n_estimators will change from 10 in version 0.20 to 100 in 0.22.\n",
      "  \"10 in version 0.20 to 100 in 0.22.\", FutureWarning)\n",
      "C:\\Users\\jkom8\\Anaconda3\\lib\\site-packages\\sklearn\\ensemble\\forest.py:245: FutureWarning: The default value of n_estimators will change from 10 in version 0.20 to 100 in 0.22.\n",
      "  \"10 in version 0.20 to 100 in 0.22.\", FutureWarning)\n",
      "C:\\Users\\jkom8\\Anaconda3\\lib\\site-packages\\sklearn\\ensemble\\forest.py:245: FutureWarning: The default value of n_estimators will change from 10 in version 0.20 to 100 in 0.22.\n",
      "  \"10 in version 0.20 to 100 in 0.22.\", FutureWarning)\n",
      "C:\\Users\\jkom8\\Anaconda3\\lib\\site-packages\\sklearn\\ensemble\\forest.py:245: FutureWarning: The default value of n_estimators will change from 10 in version 0.20 to 100 in 0.22.\n",
      "  \"10 in version 0.20 to 100 in 0.22.\", FutureWarning)\n",
      "C:\\Users\\jkom8\\Anaconda3\\lib\\site-packages\\sklearn\\ensemble\\forest.py:245: FutureWarning: The default value of n_estimators will change from 10 in version 0.20 to 100 in 0.22.\n",
      "  \"10 in version 0.20 to 100 in 0.22.\", FutureWarning)\n",
      "C:\\Users\\jkom8\\Anaconda3\\lib\\site-packages\\sklearn\\ensemble\\forest.py:245: FutureWarning: The default value of n_estimators will change from 10 in version 0.20 to 100 in 0.22.\n",
      "  \"10 in version 0.20 to 100 in 0.22.\", FutureWarning)\n",
      "C:\\Users\\jkom8\\Anaconda3\\lib\\site-packages\\sklearn\\ensemble\\forest.py:245: FutureWarning: The default value of n_estimators will change from 10 in version 0.20 to 100 in 0.22.\n",
      "  \"10 in version 0.20 to 100 in 0.22.\", FutureWarning)\n",
      "C:\\Users\\jkom8\\Anaconda3\\lib\\site-packages\\sklearn\\ensemble\\forest.py:245: FutureWarning: The default value of n_estimators will change from 10 in version 0.20 to 100 in 0.22.\n",
      "  \"10 in version 0.20 to 100 in 0.22.\", FutureWarning)\n",
      "C:\\Users\\jkom8\\Anaconda3\\lib\\site-packages\\sklearn\\ensemble\\forest.py:245: FutureWarning: The default value of n_estimators will change from 10 in version 0.20 to 100 in 0.22.\n",
      "  \"10 in version 0.20 to 100 in 0.22.\", FutureWarning)\n",
      "C:\\Users\\jkom8\\Anaconda3\\lib\\site-packages\\sklearn\\ensemble\\forest.py:245: FutureWarning: The default value of n_estimators will change from 10 in version 0.20 to 100 in 0.22.\n",
      "  \"10 in version 0.20 to 100 in 0.22.\", FutureWarning)\n"
     ]
    },
    {
     "name": "stdout",
     "output_type": "stream",
     "text": [
      "RFC: 0.751931 (0.005916)\n",
      "BC: 0.740414 (0.013322)\n",
      "KNC: 0.743477 (0.015129)\n"
     ]
    },
    {
     "name": "stderr",
     "output_type": "stream",
     "text": [
      "C:\\Users\\jkom8\\Anaconda3\\lib\\site-packages\\sklearn\\svm\\base.py:193: FutureWarning: The default value of gamma will change from 'auto' to 'scale' in version 0.22 to account better for unscaled features. Set gamma explicitly to 'auto' or 'scale' to avoid this warning.\n",
      "  \"avoid this warning.\", FutureWarning)\n",
      "C:\\Users\\jkom8\\Anaconda3\\lib\\site-packages\\sklearn\\svm\\base.py:193: FutureWarning: The default value of gamma will change from 'auto' to 'scale' in version 0.22 to account better for unscaled features. Set gamma explicitly to 'auto' or 'scale' to avoid this warning.\n",
      "  \"avoid this warning.\", FutureWarning)\n",
      "C:\\Users\\jkom8\\Anaconda3\\lib\\site-packages\\sklearn\\svm\\base.py:193: FutureWarning: The default value of gamma will change from 'auto' to 'scale' in version 0.22 to account better for unscaled features. Set gamma explicitly to 'auto' or 'scale' to avoid this warning.\n",
      "  \"avoid this warning.\", FutureWarning)\n",
      "C:\\Users\\jkom8\\Anaconda3\\lib\\site-packages\\sklearn\\svm\\base.py:193: FutureWarning: The default value of gamma will change from 'auto' to 'scale' in version 0.22 to account better for unscaled features. Set gamma explicitly to 'auto' or 'scale' to avoid this warning.\n",
      "  \"avoid this warning.\", FutureWarning)\n",
      "C:\\Users\\jkom8\\Anaconda3\\lib\\site-packages\\sklearn\\svm\\base.py:193: FutureWarning: The default value of gamma will change from 'auto' to 'scale' in version 0.22 to account better for unscaled features. Set gamma explicitly to 'auto' or 'scale' to avoid this warning.\n",
      "  \"avoid this warning.\", FutureWarning)\n",
      "C:\\Users\\jkom8\\Anaconda3\\lib\\site-packages\\sklearn\\svm\\base.py:193: FutureWarning: The default value of gamma will change from 'auto' to 'scale' in version 0.22 to account better for unscaled features. Set gamma explicitly to 'auto' or 'scale' to avoid this warning.\n",
      "  \"avoid this warning.\", FutureWarning)\n",
      "C:\\Users\\jkom8\\Anaconda3\\lib\\site-packages\\sklearn\\svm\\base.py:193: FutureWarning: The default value of gamma will change from 'auto' to 'scale' in version 0.22 to account better for unscaled features. Set gamma explicitly to 'auto' or 'scale' to avoid this warning.\n",
      "  \"avoid this warning.\", FutureWarning)\n",
      "C:\\Users\\jkom8\\Anaconda3\\lib\\site-packages\\sklearn\\svm\\base.py:193: FutureWarning: The default value of gamma will change from 'auto' to 'scale' in version 0.22 to account better for unscaled features. Set gamma explicitly to 'auto' or 'scale' to avoid this warning.\n",
      "  \"avoid this warning.\", FutureWarning)\n",
      "C:\\Users\\jkom8\\Anaconda3\\lib\\site-packages\\sklearn\\svm\\base.py:193: FutureWarning: The default value of gamma will change from 'auto' to 'scale' in version 0.22 to account better for unscaled features. Set gamma explicitly to 'auto' or 'scale' to avoid this warning.\n",
      "  \"avoid this warning.\", FutureWarning)\n",
      "C:\\Users\\jkom8\\Anaconda3\\lib\\site-packages\\sklearn\\svm\\base.py:193: FutureWarning: The default value of gamma will change from 'auto' to 'scale' in version 0.22 to account better for unscaled features. Set gamma explicitly to 'auto' or 'scale' to avoid this warning.\n",
      "  \"avoid this warning.\", FutureWarning)\n"
     ]
    },
    {
     "name": "stdout",
     "output_type": "stream",
     "text": [
      "SVM: 0.776562 (0.010532)\n",
      "MLPC: 0.778748 (0.012964)\n"
     ]
    },
    {
     "name": "stderr",
     "output_type": "stream",
     "text": [
      "C:\\Users\\jkom8\\Anaconda3\\lib\\site-packages\\sklearn\\model_selection\\_split.py:1978: FutureWarning: The default value of cv will change from 3 to 5 in version 0.22. Specify it explicitly to silence this warning.\n",
      "  warnings.warn(CV_WARNING, FutureWarning)\n",
      "C:\\Users\\jkom8\\Anaconda3\\lib\\site-packages\\sklearn\\model_selection\\_split.py:1978: FutureWarning: The default value of cv will change from 3 to 5 in version 0.22. Specify it explicitly to silence this warning.\n",
      "  warnings.warn(CV_WARNING, FutureWarning)\n",
      "C:\\Users\\jkom8\\Anaconda3\\lib\\site-packages\\sklearn\\model_selection\\_split.py:1978: FutureWarning: The default value of cv will change from 3 to 5 in version 0.22. Specify it explicitly to silence this warning.\n",
      "  warnings.warn(CV_WARNING, FutureWarning)\n",
      "C:\\Users\\jkom8\\Anaconda3\\lib\\site-packages\\sklearn\\model_selection\\_split.py:1978: FutureWarning: The default value of cv will change from 3 to 5 in version 0.22. Specify it explicitly to silence this warning.\n",
      "  warnings.warn(CV_WARNING, FutureWarning)\n",
      "C:\\Users\\jkom8\\Anaconda3\\lib\\site-packages\\sklearn\\model_selection\\_split.py:1978: FutureWarning: The default value of cv will change from 3 to 5 in version 0.22. Specify it explicitly to silence this warning.\n",
      "  warnings.warn(CV_WARNING, FutureWarning)\n",
      "C:\\Users\\jkom8\\Anaconda3\\lib\\site-packages\\sklearn\\model_selection\\_split.py:1978: FutureWarning: The default value of cv will change from 3 to 5 in version 0.22. Specify it explicitly to silence this warning.\n",
      "  warnings.warn(CV_WARNING, FutureWarning)\n",
      "C:\\Users\\jkom8\\Anaconda3\\lib\\site-packages\\sklearn\\model_selection\\_split.py:1978: FutureWarning: The default value of cv will change from 3 to 5 in version 0.22. Specify it explicitly to silence this warning.\n",
      "  warnings.warn(CV_WARNING, FutureWarning)\n",
      "C:\\Users\\jkom8\\Anaconda3\\lib\\site-packages\\sklearn\\model_selection\\_split.py:1978: FutureWarning: The default value of cv will change from 3 to 5 in version 0.22. Specify it explicitly to silence this warning.\n",
      "  warnings.warn(CV_WARNING, FutureWarning)\n",
      "C:\\Users\\jkom8\\Anaconda3\\lib\\site-packages\\sklearn\\model_selection\\_split.py:1978: FutureWarning: The default value of cv will change from 3 to 5 in version 0.22. Specify it explicitly to silence this warning.\n",
      "  warnings.warn(CV_WARNING, FutureWarning)\n",
      "C:\\Users\\jkom8\\Anaconda3\\lib\\site-packages\\sklearn\\model_selection\\_split.py:1978: FutureWarning: The default value of cv will change from 3 to 5 in version 0.22. Specify it explicitly to silence this warning.\n",
      "  warnings.warn(CV_WARNING, FutureWarning)\n"
     ]
    },
    {
     "name": "stdout",
     "output_type": "stream",
     "text": [
      "LRCV: 0.778020 (0.010732)\n",
      "LDA: 0.777436 (0.012019)\n",
      "LSVC: 0.778020 (0.010332)\n"
     ]
    },
    {
     "data": {
      "image/png": "[encoded data removed]",
      "text/plain": [
       "<Figure size 432x288 with 1 Axes>"
      ]
     },
     "metadata": {
      "needs_background": "light"
     },
     "output_type": "display_data"
    }
   ],
   "source": [
    "# prepare configuration for cross validation test harness\n",
    "seed = 7\n",
    "# prepare models\n",
    "models = []\n",
    "models.append(('LR', LogisticRegression()))\n",
    "models.append(('DTC', DecisionTreeClassifier()))\n",
    "models.append(('RFC', RandomForestClassifier()))\n",
    "models.append(('BC', BaggingClassifier()))\n",
    "models.append(('KNC', KNeighborsClassifier()))\n",
    "models.append(('SVM', SVC()))\n",
    "models.append(('MLPC', MLPClassifier()))\n",
    "models.append(('LRCV', LogisticRegressionCV()))\n",
    "models.append(('LDA', LinearDiscriminantAnalysis()))\n",
    "models.append(('LSVC', LinearSVC()))\n",
    "\n",
    "\n",
    "# evaluate each model in turn\n",
    "results = []\n",
    "names = []\n",
    "scoring = 'accuracy'\n",
    "for name, model in models:\n",
    "    kfold = model_selection.KFold(n_splits=10, random_state=seed)\n",
    "    cv_results = model_selection.cross_val_score(model, X_test, y_test, cv=kfold, scoring=scoring)\n",
    "    results.append(cv_results)\n",
    "    names.append(name)\n",
    "    msg = \"%s: %f (%f)\" % (name, cv_results.mean(), cv_results.std())\n",
    "    print(msg)\n",
    "# boxplot algorithm comparison\n",
    "fig = plt.figure()\n",
    "fig.suptitle('Algorithm Comparison')\n",
    "ax = fig.add_subplot(111)\n",
    "plt.boxplot(results)\n",
    "ax.set_xticklabels(names)\n",
    "plt.show()"
   ]
  },
  {
   "cell_type": "markdown",
   "metadata": {},
   "source": [
    "DecisionTreeClassifier, RandomForestClassifier, Bagging Classifier, KNearestNeighbor do not hold up against the others.\n",
    "Will be removed. Lets move onto optimization of all models."
   ]
  },
  {
   "cell_type": "markdown",
   "metadata": {},
   "source": [
    "LR model first."
   ]
  },
  {
   "cell_type": "code",
   "execution_count": 6,
   "metadata": {
    "scrolled": true
   },
   "outputs": [
    {
     "name": "stdout",
     "output_type": "stream",
     "text": [
      "# Tuning hyper-parameters for precision\n",
      "\n",
      "Best parameters set found on development set:\n",
      "\n",
      "{'C': 100, 'multi_class': 'auto', 'penalty': 'l1', 'solver': 'liblinear'}\n",
      "\n",
      "Detailed classification report:\n",
      "\n",
      "The model is trained on the full development set.\n",
      "The scores are computed on the full evaluation set.\n",
      "\n",
      "              precision    recall  f1-score   support\n",
      "\n",
      "          -1       0.78      0.77      0.78      3413\n",
      "           1       0.78      0.78      0.78      3448\n",
      "\n",
      "    accuracy                           0.78      6861\n",
      "   macro avg       0.78      0.78      0.78      6861\n",
      "weighted avg       0.78      0.78      0.78      6861\n",
      "\n",
      "\n",
      "# Tuning hyper-parameters for recall\n",
      "\n",
      "Best parameters set found on development set:\n",
      "\n",
      "{'C': 100, 'multi_class': 'auto', 'penalty': 'l1', 'solver': 'liblinear'}\n",
      "\n",
      "Detailed classification report:\n",
      "\n",
      "The model is trained on the full development set.\n",
      "The scores are computed on the full evaluation set.\n",
      "\n",
      "              precision    recall  f1-score   support\n",
      "\n",
      "          -1       0.78      0.77      0.78      3413\n",
      "           1       0.78      0.78      0.78      3448\n",
      "\n",
      "    accuracy                           0.78      6861\n",
      "   macro avg       0.78      0.78      0.78      6861\n",
      "weighted avg       0.78      0.78      0.78      6861\n",
      "\n",
      "\n",
      "# Tuning hyper-parameters for f1\n",
      "\n",
      "Best parameters set found on development set:\n",
      "\n",
      "{'C': 100, 'multi_class': 'auto', 'penalty': 'l1', 'solver': 'liblinear'}\n",
      "\n",
      "Detailed classification report:\n",
      "\n",
      "The model is trained on the full development set.\n",
      "The scores are computed on the full evaluation set.\n",
      "\n",
      "              precision    recall  f1-score   support\n",
      "\n",
      "          -1       0.78      0.77      0.78      3413\n",
      "           1       0.78      0.78      0.78      3448\n",
      "\n",
      "    accuracy                           0.78      6861\n",
      "   macro avg       0.78      0.78      0.78      6861\n",
      "weighted avg       0.78      0.78      0.78      6861\n",
      "\n",
      "\n"
     ]
    }
   ],
   "source": [
    "lr = LogisticRegression()\n",
    "\n",
    "tuned_parameters = [{'solver':['liblinear'],\n",
    "                     'C': [10, 100, 150, 200, 300],\n",
    "                    'penalty':('l1', 'l2'),\n",
    "                    'multi_class':('auto', 'ovr')},\n",
    "                   {'solver':('newton-cg', 'lbfgs', 'sag',),\n",
    "                     'C': [10, 100, 150, 200, 300],\n",
    "                    'penalty':['l2'],\n",
    "                    'multi_class':('auto', 'ovr', 'multinomial')},\n",
    "                   {'solver':['saga'],\n",
    "                     'C': [10, 100, 150, 200, 300],\n",
    "                    'penalty':('l1', 'l2'),\n",
    "                    'multi_class':('auto', 'ovr', 'multinomial')}]\n",
    "\n",
    "scores = ['precision', 'recall', 'f1']\n",
    "\n",
    "show_grid_search(lr, X_train, y_train, tuned_parameters, scores)"
   ]
  },
  {
   "cell_type": "code",
   "execution_count": 7,
   "metadata": {},
   "outputs": [
    {
     "data": {
      "text/plain": [
       "LogisticRegression(C=100, class_weight=None, dual=False, fit_intercept=True,\n",
       "                   intercept_scaling=1, l1_ratio=None, max_iter=100,\n",
       "                   multi_class='auto', n_jobs=None, penalty='l1',\n",
       "                   random_state=None, solver='liblinear', tol=0.0001, verbose=0,\n",
       "                   warm_start=False)"
      ]
     },
     "execution_count": 7,
     "metadata": {},
     "output_type": "execute_result"
    }
   ],
   "source": [
    "#Best params are equal for precision and recall: \n",
    "#{'C': 100, 'multi_class': 'auto', 'penalty': 'l1', 'solver': 'liblinear'}\n",
    "lr = LogisticRegression(solver='liblinear', C=100, multi_class='auto', penalty='l1')\n",
    "lr.fit(X_train, y_train)"
   ]
  },
  {
   "cell_type": "markdown",
   "metadata": {},
   "source": [
    "Optimize SVC."
   ]
  },
  {
   "cell_type": "code",
   "execution_count": 8,
   "metadata": {
    "scrolled": true
   },
   "outputs": [
    {
     "name": "stdout",
     "output_type": "stream",
     "text": [
      "# Tuning hyper-parameters for precision\n",
      "\n",
      "Best parameters set found on development set:\n",
      "\n",
      "{'C': 0.1, 'gamma': 1, 'kernel': 'rbf'}\n",
      "\n",
      "Detailed classification report:\n",
      "\n",
      "The model is trained on the full development set.\n",
      "The scores are computed on the full evaluation set.\n",
      "\n",
      "              precision    recall  f1-score   support\n",
      "\n",
      "          -1       0.77      0.79      0.78      3413\n",
      "           1       0.78      0.77      0.78      3448\n",
      "\n",
      "    accuracy                           0.78      6861\n",
      "   macro avg       0.78      0.78      0.78      6861\n",
      "weighted avg       0.78      0.78      0.78      6861\n",
      "\n",
      "\n",
      "# Tuning hyper-parameters for recall\n",
      "\n"
     ]
    },
    {
     "name": "stderr",
     "output_type": "stream",
     "text": [
      "C:\\Users\\jkom8\\Anaconda3\\lib\\site-packages\\joblib\\externals\\loky\\process_executor.py:706: UserWarning: A worker stopped while some jobs were given to the executor. This can be caused by a too short worker timeout or by a memory leak.\n",
      "  \"timeout or by a memory leak.\", UserWarning\n"
     ]
    },
    {
     "name": "stdout",
     "output_type": "stream",
     "text": [
      "Best parameters set found on development set:\n",
      "\n",
      "{'C': 0.1, 'gamma': 1, 'kernel': 'rbf'}\n",
      "\n",
      "Detailed classification report:\n",
      "\n",
      "The model is trained on the full development set.\n",
      "The scores are computed on the full evaluation set.\n",
      "\n",
      "              precision    recall  f1-score   support\n",
      "\n",
      "          -1       0.77      0.79      0.78      3413\n",
      "           1       0.78      0.77      0.78      3448\n",
      "\n",
      "    accuracy                           0.78      6861\n",
      "   macro avg       0.78      0.78      0.78      6861\n",
      "weighted avg       0.78      0.78      0.78      6861\n",
      "\n",
      "\n",
      "# Tuning hyper-parameters for f1\n",
      "\n"
     ]
    },
    {
     "name": "stderr",
     "output_type": "stream",
     "text": [
      "C:\\Users\\jkom8\\Anaconda3\\lib\\site-packages\\joblib\\externals\\loky\\process_executor.py:706: UserWarning: A worker stopped while some jobs were given to the executor. This can be caused by a too short worker timeout or by a memory leak.\n",
      "  \"timeout or by a memory leak.\", UserWarning\n"
     ]
    },
    {
     "name": "stdout",
     "output_type": "stream",
     "text": [
      "Best parameters set found on development set:\n",
      "\n",
      "{'C': 0.1, 'gamma': 1, 'kernel': 'rbf'}\n",
      "\n",
      "Detailed classification report:\n",
      "\n",
      "The model is trained on the full development set.\n",
      "The scores are computed on the full evaluation set.\n",
      "\n",
      "              precision    recall  f1-score   support\n",
      "\n",
      "          -1       0.77      0.79      0.78      3413\n",
      "           1       0.78      0.77      0.78      3448\n",
      "\n",
      "    accuracy                           0.78      6861\n",
      "   macro avg       0.78      0.78      0.78      6861\n",
      "weighted avg       0.78      0.78      0.78      6861\n",
      "\n",
      "\n"
     ]
    }
   ],
   "source": [
    "svc = SVC()\n",
    "# Select the optimal C, kernel and gamma parameter by cross-validation\n",
    "tuned_parameters = [{'kernel':('rbf', 'poly', 'sigmoid'), 'C':(0.0001, 0.001, 0.01, .1, 1, 10),\n",
    "                    'gamma':(0.01, 0.1, 1, 10)}]\n",
    "#clf = GridSearchCV(svc, tuned_parameters, n_jobs=-1, cv=3, scoring='accuracy', verbose=10)\n",
    "show_grid_search(svc, X_train, y_train, tuned_parameters, scores)"
   ]
  },
  {
   "cell_type": "code",
   "execution_count": 9,
   "metadata": {},
   "outputs": [
    {
     "data": {
      "text/plain": [
       "SVC(C=0.1, cache_size=200, class_weight=None, coef0=0.0,\n",
       "    decision_function_shape='ovr', degree=3, gamma=1, kernel='rbf', max_iter=-1,\n",
       "    probability=True, random_state=None, shrinking=True, tol=0.001,\n",
       "    verbose=False)"
      ]
     },
     "execution_count": 9,
     "metadata": {},
     "output_type": "execute_result"
    }
   ],
   "source": [
    "#Best params are equal for precision and recall: \n",
    "#{'C': 0.1, 'gamma': 1, 'kernel': 'rbf'}\n",
    "svc = SVC(kernel='rbf', C=0.1, gamma=1, probability=True)\n",
    "svc.fit(X_train, y_train)"
   ]
  },
  {
   "cell_type": "markdown",
   "metadata": {},
   "source": [
    "MLPClassifier next."
   ]
  },
  {
   "cell_type": "code",
   "execution_count": 10,
   "metadata": {
    "scrolled": true
   },
   "outputs": [
    {
     "name": "stdout",
     "output_type": "stream",
     "text": [
      "# Tuning hyper-parameters for precision\n",
      "\n",
      "Iteration 1, loss = 0.66324438\n",
      "Iteration 2, loss = 0.59026776\n",
      "Iteration 3, loss = 0.52909716\n",
      "Iteration 4, loss = 0.49406363\n",
      "Iteration 5, loss = 0.47688720\n",
      "Iteration 6, loss = 0.46958583\n",
      "Iteration 7, loss = 0.46683319\n",
      "Iteration 8, loss = 0.46590484\n",
      "Iteration 9, loss = 0.46572661\n",
      "Iteration 10, loss = 0.46524673\n",
      "Iteration 11, loss = 0.46522183\n",
      "Iteration 12, loss = 0.46509856\n",
      "Iteration 13, loss = 0.46518202\n",
      "Iteration 14, loss = 0.46513129\n",
      "Iteration 15, loss = 0.46525245\n",
      "Iteration 16, loss = 0.46474526\n",
      "Iteration 17, loss = 0.46523493\n",
      "Iteration 18, loss = 0.46519159\n",
      "Iteration 19, loss = 0.46540004\n",
      "Iteration 20, loss = 0.46510192\n",
      "Iteration 21, loss = 0.46492098\n",
      "Iteration 22, loss = 0.46489313\n",
      "Iteration 23, loss = 0.46481181\n",
      "Iteration 24, loss = 0.46509079\n",
      "Iteration 25, loss = 0.46486573\n",
      "Iteration 26, loss = 0.46532459\n",
      "Iteration 27, loss = 0.46480645\n",
      "Training loss did not improve more than tol=0.000100 for 10 consecutive epochs. Stopping.\n",
      "Best parameters set found on development set:\n",
      "\n",
      "{'activation': 'relu', 'solver': 'adam', 'verbose': 10}\n",
      "\n",
      "Detailed classification report:\n",
      "\n",
      "The model is trained on the full development set.\n",
      "The scores are computed on the full evaluation set.\n",
      "\n",
      "              precision    recall  f1-score   support\n",
      "\n",
      "          -1       0.78      0.77      0.77      3413\n",
      "           1       0.77      0.79      0.78      3448\n",
      "\n",
      "    accuracy                           0.78      6861\n",
      "   macro avg       0.78      0.78      0.78      6861\n",
      "weighted avg       0.78      0.78      0.78      6861\n",
      "\n",
      "\n",
      "# Tuning hyper-parameters for recall\n",
      "\n",
      "Best parameters set found on development set:\n",
      "\n",
      "{'activation': 'relu', 'solver': 'lbfgs', 'verbose': 10}\n",
      "\n",
      "Detailed classification report:\n",
      "\n",
      "The model is trained on the full development set.\n",
      "The scores are computed on the full evaluation set.\n",
      "\n",
      "              precision    recall  f1-score   support\n",
      "\n",
      "          -1       0.78      0.77      0.78      3413\n",
      "           1       0.78      0.78      0.78      3448\n",
      "\n",
      "    accuracy                           0.78      6861\n",
      "   macro avg       0.78      0.78      0.78      6861\n",
      "weighted avg       0.78      0.78      0.78      6861\n",
      "\n",
      "\n",
      "# Tuning hyper-parameters for f1\n",
      "\n",
      "Iteration 1, loss = 0.65725291\n",
      "Iteration 2, loss = 0.57920717\n",
      "Iteration 3, loss = 0.51472523\n",
      "Iteration 4, loss = 0.48321674\n",
      "Iteration 5, loss = 0.47036908\n",
      "Iteration 6, loss = 0.46739213\n",
      "Iteration 7, loss = 0.46575811\n",
      "Iteration 8, loss = 0.46534281\n",
      "Iteration 9, loss = 0.46515249\n",
      "Iteration 10, loss = 0.46530954\n",
      "Iteration 11, loss = 0.46505732\n",
      "Iteration 12, loss = 0.46520338\n",
      "Iteration 13, loss = 0.46504677\n",
      "Iteration 14, loss = 0.46502242\n",
      "Iteration 15, loss = 0.46489593\n",
      "Iteration 16, loss = 0.46486371\n",
      "Iteration 17, loss = 0.46486636\n",
      "Iteration 18, loss = 0.46486131\n",
      "Iteration 19, loss = 0.46479900\n",
      "Iteration 20, loss = 0.46465700\n",
      "Iteration 21, loss = 0.46469124\n",
      "Iteration 22, loss = 0.46456570\n",
      "Iteration 23, loss = 0.46465293\n",
      "Iteration 24, loss = 0.46478402\n",
      "Iteration 25, loss = 0.46454963\n",
      "Iteration 26, loss = 0.46439275\n",
      "Iteration 27, loss = 0.46433550\n",
      "Iteration 28, loss = 0.46443482\n",
      "Iteration 29, loss = 0.46443370\n",
      "Iteration 30, loss = 0.46434418\n",
      "Iteration 31, loss = 0.46429516\n",
      "Iteration 32, loss = 0.46445809\n",
      "Iteration 33, loss = 0.46402990\n",
      "Iteration 34, loss = 0.46399157\n",
      "Iteration 35, loss = 0.46422813\n",
      "Iteration 36, loss = 0.46398248\n",
      "Iteration 37, loss = 0.46415630\n",
      "Iteration 38, loss = 0.46375226\n",
      "Iteration 39, loss = 0.46385280\n",
      "Iteration 40, loss = 0.46367318\n",
      "Iteration 41, loss = 0.46362954\n",
      "Iteration 42, loss = 0.46368062\n",
      "Iteration 43, loss = 0.46377358\n",
      "Iteration 44, loss = 0.46348346\n",
      "Iteration 45, loss = 0.46361296\n",
      "Iteration 46, loss = 0.46435668\n",
      "Iteration 47, loss = 0.46391924\n",
      "Iteration 48, loss = 0.46368935\n",
      "Iteration 49, loss = 0.46339586\n",
      "Iteration 50, loss = 0.46355986\n",
      "Iteration 51, loss = 0.46324983\n",
      "Iteration 52, loss = 0.46331335\n",
      "Iteration 53, loss = 0.46331166\n",
      "Iteration 54, loss = 0.46352787\n",
      "Iteration 55, loss = 0.46317501\n",
      "Iteration 56, loss = 0.46309907\n",
      "Iteration 57, loss = 0.46289795\n",
      "Iteration 58, loss = 0.46306501\n",
      "Iteration 59, loss = 0.46374550\n",
      "Iteration 60, loss = 0.46322802\n",
      "Iteration 61, loss = 0.46330897\n",
      "Iteration 62, loss = 0.46300595\n",
      "Iteration 63, loss = 0.46320632\n",
      "Iteration 64, loss = 0.46293615\n",
      "Iteration 65, loss = 0.46296990\n",
      "Iteration 66, loss = 0.46295688\n",
      "Iteration 67, loss = 0.46288428\n",
      "Iteration 68, loss = 0.46292728\n",
      "Training loss did not improve more than tol=0.000100 for 10 consecutive epochs. Stopping.\n",
      "Best parameters set found on development set:\n",
      "\n",
      "{'activation': 'relu', 'solver': 'adam', 'verbose': 10}\n",
      "\n",
      "Detailed classification report:\n",
      "\n",
      "The model is trained on the full development set.\n",
      "The scores are computed on the full evaluation set.\n",
      "\n",
      "              precision    recall  f1-score   support\n",
      "\n",
      "          -1       0.78      0.78      0.78      3413\n",
      "           1       0.78      0.78      0.78      3448\n",
      "\n",
      "    accuracy                           0.78      6861\n",
      "   macro avg       0.78      0.78      0.78      6861\n",
      "weighted avg       0.78      0.78      0.78      6861\n",
      "\n",
      "\n"
     ]
    }
   ],
   "source": [
    "mlp = MLPClassifier()\n",
    "\n",
    "tuned_parameters = [{'activation':('identity', 'logistic', 'tanh', 'relu'), \n",
    "                     'solver':('lbfgs', 'sgd', 'adam')},\n",
    "                   {'activation':('identity', 'logistic', 'tanh', 'relu'), \n",
    "                     'solver':['sgd'],\n",
    "                     'learning_rate':('constant', 'invscaling', 'adaptive')}]\n",
    "\n",
    "show_grid_search(mlp, X_train, y_train, tuned_parameters, scores)"
   ]
  },
  {
   "cell_type": "code",
   "execution_count": 13,
   "metadata": {},
   "outputs": [
    {
     "name": "stdout",
     "output_type": "stream",
     "text": [
      "Precision/F1 - Accuracy: 0.7772919399504445\n",
      "Recall - Accuracy: 0.7772919399504445\n"
     ]
    }
   ],
   "source": [
    "# Accuracy test to see which is more accurate\n",
    "#Best params for precision:\n",
    "#{'activation': 'relu', 'solver': 'adam', 'verbose': 10}\n",
    "mlp_precision_f1 = MLPClassifier(activation='relu', solver='adam')\n",
    "mlp_precision_f1.fit(X_train, y_train)\n",
    "#Best params for recall:\n",
    "#{'activation': 'relu', 'solver': 'lbfgs', 'verbose': 10}\n",
    "mlp_recall = MLPClassifier(activation='relu', solver='lbfgs')\n",
    "mlp_recall.fit(X_train, y_train)\n",
    "\n",
    "pred_precision_f1 = mlp_precision_f1.predict(X_test)\n",
    "print(\"Precision/F1 - Accuracy:\", metrics.accuracy_score(y_test, pred_precision_f1))\n",
    "pred_recall = mlp_recall.predict(X_test)\n",
    "print(\"Recall - Accuracy:\", metrics.accuracy_score(y_test, pred_recall))"
   ]
  },
  {
   "cell_type": "code",
   "execution_count": 14,
   "metadata": {},
   "outputs": [],
   "source": [
    "#Exact same result(?).\n",
    "mlp = mlp_recall"
   ]
  },
  {
   "cell_type": "markdown",
   "metadata": {},
   "source": [
    "LogisticRegressionCV next"
   ]
  },
  {
   "cell_type": "code",
   "execution_count": 15,
   "metadata": {
    "scrolled": true
   },
   "outputs": [
    {
     "name": "stdout",
     "output_type": "stream",
     "text": [
      "# Tuning hyper-parameters for precision\n",
      "\n",
      "Best parameters set found on development set:\n",
      "\n",
      "{'cv': 5, 'multi_class': 'multinomial', 'penalty': 'l2', 'solver': 'newton-cg'}\n",
      "\n",
      "Detailed classification report:\n",
      "\n",
      "The model is trained on the full development set.\n",
      "The scores are computed on the full evaluation set.\n",
      "\n",
      "              precision    recall  f1-score   support\n",
      "\n",
      "          -1       0.78      0.77      0.78      3413\n",
      "           1       0.78      0.78      0.78      3448\n",
      "\n",
      "    accuracy                           0.78      6861\n",
      "   macro avg       0.78      0.78      0.78      6861\n",
      "weighted avg       0.78      0.78      0.78      6861\n",
      "\n",
      "\n",
      "# Tuning hyper-parameters for recall\n",
      "\n",
      "Best parameters set found on development set:\n",
      "\n",
      "{'cv': 5, 'multi_class': 'multinomial', 'penalty': 'l2', 'solver': 'newton-cg'}\n",
      "\n",
      "Detailed classification report:\n",
      "\n",
      "The model is trained on the full development set.\n",
      "The scores are computed on the full evaluation set.\n",
      "\n",
      "              precision    recall  f1-score   support\n",
      "\n",
      "          -1       0.78      0.77      0.78      3413\n",
      "           1       0.78      0.78      0.78      3448\n",
      "\n",
      "    accuracy                           0.78      6861\n",
      "   macro avg       0.78      0.78      0.78      6861\n",
      "weighted avg       0.78      0.78      0.78      6861\n",
      "\n",
      "\n",
      "# Tuning hyper-parameters for f1\n",
      "\n",
      "Best parameters set found on development set:\n",
      "\n",
      "{'cv': 5, 'multi_class': 'multinomial', 'penalty': 'l2', 'solver': 'newton-cg'}\n",
      "\n",
      "Detailed classification report:\n",
      "\n",
      "The model is trained on the full development set.\n",
      "The scores are computed on the full evaluation set.\n",
      "\n",
      "              precision    recall  f1-score   support\n",
      "\n",
      "          -1       0.78      0.77      0.78      3413\n",
      "           1       0.78      0.78      0.78      3448\n",
      "\n",
      "    accuracy                           0.78      6861\n",
      "   macro avg       0.78      0.78      0.78      6861\n",
      "weighted avg       0.78      0.78      0.78      6861\n",
      "\n",
      "\n"
     ]
    }
   ],
   "source": [
    "lrcv = LogisticRegressionCV()\n",
    "\n",
    "tuned_parameters = [{'solver':['liblinear'],\n",
    "                    'penalty':('l1', 'l2'),\n",
    "                    'multi_class':('auto', 'ovr'),\n",
    "                    'cv':[5]},\n",
    "                   {'solver':('newton-cg', 'lbfgs', 'sag',),\n",
    "                    'penalty':['l2'],\n",
    "                    'multi_class':('auto', 'ovr', 'multinomial'),\n",
    "                    'cv':[5]},\n",
    "                   {'solver':['saga'],\n",
    "                    'penalty':('l1', 'l2'),\n",
    "                    'multi_class':('auto', 'ovr', 'multinomial'),\n",
    "                    'cv':[5]}]\n",
    "\n",
    "show_grid_search(lrcv, X_train, y_train, tuned_parameters, scores)"
   ]
  },
  {
   "cell_type": "code",
   "execution_count": 16,
   "metadata": {},
   "outputs": [
    {
     "data": {
      "text/plain": [
       "LogisticRegressionCV(Cs=10, class_weight=None, cv=5, dual=False,\n",
       "                     fit_intercept=True, intercept_scaling=1.0, l1_ratios=None,\n",
       "                     max_iter=100, multi_class='multinomial', n_jobs=None,\n",
       "                     penalty='l2', random_state=None, refit=True, scoring=None,\n",
       "                     solver='newton-cg', tol=0.0001, verbose=0)"
      ]
     },
     "execution_count": 16,
     "metadata": {},
     "output_type": "execute_result"
    }
   ],
   "source": [
    "lrcv = LogisticRegressionCV(solver='newton-cg', multi_class='multinomial', penalty='l2', cv=5)\n",
    "lrcv.fit(X_train, y_train)"
   ]
  },
  {
   "cell_type": "code",
   "execution_count": 17,
   "metadata": {
    "scrolled": true
   },
   "outputs": [
    {
     "name": "stdout",
     "output_type": "stream",
     "text": [
      "# Tuning hyper-parameters for precision\n",
      "\n",
      "Best parameters set found on development set:\n",
      "\n",
      "{'solver': 'svd'}\n",
      "\n",
      "Detailed classification report:\n",
      "\n",
      "The model is trained on the full development set.\n",
      "The scores are computed on the full evaluation set.\n",
      "\n",
      "              precision    recall  f1-score   support\n",
      "\n",
      "          -1       0.77      0.79      0.78      3413\n",
      "           1       0.78      0.77      0.78      3448\n",
      "\n",
      "    accuracy                           0.78      6861\n",
      "   macro avg       0.78      0.78      0.78      6861\n",
      "weighted avg       0.78      0.78      0.78      6861\n",
      "\n",
      "\n",
      "# Tuning hyper-parameters for recall\n",
      "\n",
      "Best parameters set found on development set:\n",
      "\n",
      "{'solver': 'svd'}\n",
      "\n",
      "Detailed classification report:\n",
      "\n",
      "The model is trained on the full development set.\n",
      "The scores are computed on the full evaluation set.\n",
      "\n",
      "              precision    recall  f1-score   support\n",
      "\n",
      "          -1       0.77      0.79      0.78      3413\n",
      "           1       0.78      0.77      0.78      3448\n",
      "\n",
      "    accuracy                           0.78      6861\n",
      "   macro avg       0.78      0.78      0.78      6861\n",
      "weighted avg       0.78      0.78      0.78      6861\n",
      "\n",
      "\n",
      "# Tuning hyper-parameters for f1\n",
      "\n",
      "Best parameters set found on development set:\n",
      "\n",
      "{'solver': 'svd'}\n",
      "\n",
      "Detailed classification report:\n",
      "\n",
      "The model is trained on the full development set.\n",
      "The scores are computed on the full evaluation set.\n",
      "\n",
      "              precision    recall  f1-score   support\n",
      "\n",
      "          -1       0.77      0.79      0.78      3413\n",
      "           1       0.78      0.77      0.78      3448\n",
      "\n",
      "    accuracy                           0.78      6861\n",
      "   macro avg       0.78      0.78      0.78      6861\n",
      "weighted avg       0.78      0.78      0.78      6861\n",
      "\n",
      "\n"
     ]
    }
   ],
   "source": [
    "lda = LinearDiscriminantAnalysis()\n",
    "\n",
    "tuned_parameters = [{'solver':('svd', 'lsqr', 'eigen'),}]\n",
    "\n",
    "show_grid_search(lda, X_train, y_train, tuned_parameters, scores)"
   ]
  },
  {
   "cell_type": "code",
   "execution_count": 18,
   "metadata": {},
   "outputs": [
    {
     "data": {
      "text/plain": [
       "LinearDiscriminantAnalysis(n_components=None, priors=None, shrinkage=None,\n",
       "                           solver='svd', store_covariance=False, tol=0.0001)"
      ]
     },
     "execution_count": 18,
     "metadata": {},
     "output_type": "execute_result"
    }
   ],
   "source": [
    "lda = LinearDiscriminantAnalysis(solver='svd')\n",
    "lda.fit(X_train, y_train)"
   ]
  },
  {
   "cell_type": "code",
   "execution_count": 52,
   "metadata": {
    "scrolled": true
   },
   "outputs": [
    {
     "name": "stdout",
     "output_type": "stream",
     "text": [
      "# Tuning hyper-parameters for precision\n",
      "\n"
     ]
    },
    {
     "name": "stderr",
     "output_type": "stream",
     "text": [
      "C:\\Users\\jkom8\\Anaconda3\\lib\\site-packages\\sklearn\\svm\\base.py:929: ConvergenceWarning: Liblinear failed to converge, increase the number of iterations.\n",
      "  \"the number of iterations.\", ConvergenceWarning)\n"
     ]
    },
    {
     "name": "stdout",
     "output_type": "stream",
     "text": [
      "Best parameters set found on development set:\n",
      "\n",
      "{'C': 10, 'dual': False, 'loss': 'squared_hinge', 'multi_class': 'crammer_singer', 'penalty': 'l1'}\n",
      "\n",
      "Detailed classification report:\n",
      "\n",
      "The model is trained on the full development set.\n",
      "The scores are computed on the full evaluation set.\n",
      "\n",
      "              precision    recall  f1-score   support\n",
      "\n",
      "          -1       0.77      0.78      0.78      3413\n",
      "           1       0.78      0.77      0.78      3448\n",
      "\n",
      "    accuracy                           0.78      6861\n",
      "   macro avg       0.78      0.78      0.78      6861\n",
      "weighted avg       0.78      0.78      0.78      6861\n",
      "\n",
      "\n",
      "# Tuning hyper-parameters for recall\n",
      "\n",
      "Best parameters set found on development set:\n",
      "\n",
      "{'C': 1, 'dual': False, 'loss': 'squared_hinge', 'multi_class': 'ovr', 'penalty': 'l1'}\n",
      "\n",
      "Detailed classification report:\n",
      "\n",
      "The model is trained on the full development set.\n",
      "The scores are computed on the full evaluation set.\n",
      "\n",
      "              precision    recall  f1-score   support\n",
      "\n",
      "          -1       0.78      0.77      0.78      3413\n",
      "           1       0.78      0.78      0.78      3448\n",
      "\n",
      "    accuracy                           0.78      6861\n",
      "   macro avg       0.78      0.78      0.78      6861\n",
      "weighted avg       0.78      0.78      0.78      6861\n",
      "\n",
      "\n",
      "# Tuning hyper-parameters for f1\n",
      "\n",
      "Best parameters set found on development set:\n",
      "\n",
      "{'C': 1, 'dual': False, 'loss': 'squared_hinge', 'multi_class': 'ovr', 'penalty': 'l1'}\n",
      "\n",
      "Detailed classification report:\n",
      "\n",
      "The model is trained on the full development set.\n",
      "The scores are computed on the full evaluation set.\n",
      "\n",
      "              precision    recall  f1-score   support\n",
      "\n",
      "          -1       0.78      0.77      0.78      3413\n",
      "           1       0.78      0.78      0.78      3448\n",
      "\n",
      "    accuracy                           0.78      6861\n",
      "   macro avg       0.78      0.78      0.78      6861\n",
      "weighted avg       0.78      0.78      0.78      6861\n",
      "\n",
      "\n"
     ]
    }
   ],
   "source": [
    "lsvc = LinearSVC()\n",
    "\n",
    "tuned_parameters = [{'penalty':('l1', 'l2'),\n",
    "                     'loss':['squared_hinge'],\n",
    "                    'dual':[False],\n",
    "                    'C':(0.0001, 0.001, 0.01, .1, 1, 10),\n",
    "                    'multi_class':('ovr', 'crammer_singer')},\n",
    "                   {'penalty':['l2'],\n",
    "                    'loss':('hinge', 'squared_hinge'),\n",
    "                    'dual':[True],\n",
    "                    'C':(0.0001, 0.001, 0.01, .1, 1, 10),\n",
    "                    'multi_class':('ovr', 'crammer_singer')},\n",
    "                    {'penalty':['l2'],\n",
    "                    'loss':['squared_hinge'],\n",
    "                    'dual':[False],\n",
    "                    'C':(0.0001, 0.001, 0.01, .1, 1, 10),\n",
    "                    'multi_class':('ovr', 'crammer_singer')},\n",
    "                   {'penalty':('l1', 'l2'),\n",
    "                     'loss':['squared_hinge'],\n",
    "                    'dual':[False],\n",
    "                    'C':(0.0001, 0.001, 0.01, .1, 1, 10),\n",
    "                    'multi_class':('ovr', 'crammer_singer')},\n",
    "                   {'penalty':['l2'],\n",
    "                    'dual':(True, False),\n",
    "                    'C':(0.0001, 0.001, 0.01, .1, 1, 10),\n",
    "                    'multi_class':('ovr', 'crammer_singer')}]\n",
    "\n",
    "show_grid_search(lsvc, X_train, y_train, tuned_parameters, scores)"
   ]
  },
  {
   "cell_type": "code",
   "execution_count": 53,
   "metadata": {},
   "outputs": [
    {
     "name": "stdout",
     "output_type": "stream",
     "text": [
      "Precision - Accuracy: 0.7762716805130447\n",
      "Recall    - Accuracy: 0.7768546859058446\n",
      "F1        - Accuracy: 0.7768546859058446\n"
     ]
    },
    {
     "name": "stderr",
     "output_type": "stream",
     "text": [
      "C:\\Users\\jkom8\\Anaconda3\\lib\\site-packages\\sklearn\\svm\\base.py:929: ConvergenceWarning: Liblinear failed to converge, increase the number of iterations.\n",
      "  \"the number of iterations.\", ConvergenceWarning)\n"
     ]
    }
   ],
   "source": [
    "#{'C': 10, 'dual': False, 'loss': 'squared_hinge', 'multi_class': 'crammer_singer', 'penalty': 'l1'}\n",
    "# Accuracy test to see which is more accurate\n",
    "#Best params for precision:\n",
    "#{'C': 10, 'dual': False, 'loss': 'squared_hinge', 'multi_class': 'crammer_singer', 'penalty': 'l1'}\n",
    "lsvc_precision = LinearSVC(C=10, dual=False, loss='squared_hinge',multi_class='crammer_singer', penalty='l1')\n",
    "lsvc_precision.fit(X_train, y_train)\n",
    "#Best params for recall:\n",
    "#{'C': 1, 'dual': False, 'loss': 'squared_hinge', 'multi_class': 'ovr', 'penalty': 'l1'}\n",
    "lsvc_recall = LinearSVC(C=1, dual=False, loss='squared_hinge',multi_class='ovr', penalty='l1')\n",
    "lsvc_recall.fit(X_train, y_train)\n",
    "#Best params for f1:\n",
    "#{'C': 1, 'dual': False, 'loss': 'squared_hinge', 'multi_class': 'ovr', 'penalty': 'l1'}\n",
    "lsvc_f1 = LinearSVC(C=1, dual=False, loss='squared_hinge',multi_class='ovr', penalty='l1')\n",
    "lsvc_f1.fit(X_train, y_train)\n",
    "\n",
    "pred_precision = lsvc_precision.predict(X_test)\n",
    "print(\"Precision - Accuracy:\", metrics.accuracy_score(y_test, pred_precision))\n",
    "pred_recall = lsvc_recall.predict(X_test)\n",
    "print(\"Recall    - Accuracy:\", metrics.accuracy_score(y_test, pred_recall))\n",
    "pred_f1 = lsvc_f1.predict(X_test)\n",
    "print(\"F1        - Accuracy:\", metrics.accuracy_score(y_test, pred_f1))"
   ]
  },
  {
   "cell_type": "code",
   "execution_count": 54,
   "metadata": {},
   "outputs": [],
   "source": [
    "lsvc = lsvc_recall"
   ]
  },
  {
   "cell_type": "markdown",
   "metadata": {},
   "source": [
    "Recompare the optimized fit models."
   ]
  },
  {
   "cell_type": "code",
   "execution_count": 55,
   "metadata": {},
   "outputs": [
    {
     "name": "stdout",
     "output_type": "stream",
     "text": [
      "LR: 0.778311 (0.010344)\n",
      "SVM: 0.778166 (0.012244)\n",
      "MLPC: 0.774376 (0.010280)\n",
      "LRCV: 0.778895 (0.010301)\n",
      "LDA: 0.777436 (0.012019)\n",
      "LSVC: 0.778165 (0.010813)\n"
     ]
    },
    {
     "data": {
      "image/png": "[encoded data removed]",
      "text/plain": [
       "<Figure size 432x288 with 1 Axes>"
      ]
     },
     "metadata": {
      "needs_background": "light"
     },
     "output_type": "display_data"
    }
   ],
   "source": [
    "# prepare models\n",
    "models = []\n",
    "models.append(('LR', lr))\n",
    "models.append(('SVM', svc))\n",
    "models.append(('MLPC', mlp))\n",
    "models.append(('LRCV', lrcv))\n",
    "models.append(('LDA', lda))\n",
    "models.append(('LSVC', lsvc))\n",
    "\n",
    "\n",
    "\n",
    "results = []\n",
    "names = []\n",
    "scoring = 'accuracy'\n",
    "for name, model in models:\n",
    "    kfold = model_selection.KFold(n_splits=10, random_state=seed)\n",
    "    cv_results = model_selection.cross_val_score(model, X_test, y_test, cv=kfold, scoring=scoring)\n",
    "    results.append(cv_results)\n",
    "    names.append(name)\n",
    "    msg = \"%s: %f (%f)\" % (name, cv_results.mean(), cv_results.std())\n",
    "    print(msg)\n",
    "# boxplot algorithm comparison\n",
    "fig = plt.figure()\n",
    "fig.suptitle('Algorithm Comparison')\n",
    "ax = fig.add_subplot(111)\n",
    "plt.boxplot(results)\n",
    "ax.set_xticklabels(names)\n",
    "plt.show()"
   ]
  },
  {
   "cell_type": "markdown",
   "metadata": {},
   "source": [
    "ROC Curves"
   ]
  },
  {
   "cell_type": "code",
   "execution_count": 21,
   "metadata": {},
   "outputs": [
    {
     "data": {
      "image/png": "[encoded data removed]",
      "text/plain": [
       "<Figure size 432x288 with 1 Axes>"
      ]
     },
     "metadata": {
      "needs_background": "light"
     },
     "output_type": "display_data"
    },
    {
     "data": {
      "text/plain": [
       "0.8609867722907432"
      ]
     },
     "execution_count": 21,
     "metadata": {},
     "output_type": "execute_result"
    }
   ],
   "source": [
    "#LR\n",
    "y_probs = lr.predict_proba(X_test) # we have to get the probability values to plot roc curve\n",
    "y_probs = y_probs[:, 1] # keep probabilities for the positive outcome only\n",
    "fpr, tpr, _ = roc_curve(y_test, y_probs)\n",
    "roc_auc = auc(fpr, tpr)\n",
    "plot_roc_curve(fpr, tpr)\n",
    "lr_auc = roc_auc_score(y_test, y_probs)\n",
    "lr_auc"
   ]
  },
  {
   "cell_type": "code",
   "execution_count": 23,
   "metadata": {},
   "outputs": [
    {
     "data": {
      "image/png": "[encoded data removed]",
      "text/plain": [
       "<Figure size 432x288 with 1 Axes>"
      ]
     },
     "metadata": {
      "needs_background": "light"
     },
     "output_type": "display_data"
    },
    {
     "data": {
      "text/plain": [
       "0.8598651736264304"
      ]
     },
     "execution_count": 23,
     "metadata": {},
     "output_type": "execute_result"
    }
   ],
   "source": [
    "#SVC\n",
    "y_probs = svc.predict_proba(X_test) # we have to get the probability values to plot roc curve\n",
    "y_probs = y_probs[:, 1] # keep probabilities for the positive outcome only\n",
    "fpr, tpr, _ = roc_curve(y_test, y_probs)\n",
    "roc_auc = auc(fpr, tpr)\n",
    "plot_roc_curve(fpr, tpr)\n",
    "svc_auc = roc_auc_score(y_test, y_probs)\n",
    "svc_auc"
   ]
  },
  {
   "cell_type": "code",
   "execution_count": 24,
   "metadata": {},
   "outputs": [
    {
     "data": {
      "image/png": "[encoded data removed]",
      "text/plain": [
       "<Figure size 432x288 with 1 Axes>"
      ]
     },
     "metadata": {
      "needs_background": "light"
     },
     "output_type": "display_data"
    },
    {
     "data": {
      "text/plain": [
       "0.8613567579399906"
      ]
     },
     "execution_count": 24,
     "metadata": {},
     "output_type": "execute_result"
    }
   ],
   "source": [
    "#MLPClassifier\n",
    "y_probs = mlp.predict_proba(X_test) # we have to get the probability values to plot roc curve\n",
    "y_probs = y_probs[:, 1] # keep probabilities for the positive outcome only\n",
    "fpr, tpr, _ = roc_curve(y_test, y_probs)\n",
    "roc_auc = auc(fpr, tpr)\n",
    "plot_roc_curve(fpr, tpr)\n",
    "mlp_auc = roc_auc_score(y_test, y_probs)\n",
    "mlp_auc"
   ]
  },
  {
   "cell_type": "code",
   "execution_count": 25,
   "metadata": {},
   "outputs": [
    {
     "data": {
      "image/png": "[encoded data removed]",
      "text/plain": [
       "<Figure size 432x288 with 1 Axes>"
      ]
     },
     "metadata": {
      "needs_background": "light"
     },
     "output_type": "display_data"
    },
    {
     "data": {
      "text/plain": [
       "0.8609902563081108"
      ]
     },
     "execution_count": 25,
     "metadata": {},
     "output_type": "execute_result"
    }
   ],
   "source": [
    "#LRCV\n",
    "y_probs = lrcv.predict_proba(X_test) # we have to get the probability values to plot roc curve\n",
    "y_probs = y_probs[:, 1] # keep probabilities for the positive outcome only\n",
    "fpr, tpr, _ = roc_curve(y_test, y_probs)\n",
    "roc_auc = auc(fpr, tpr)\n",
    "plot_roc_curve(fpr, tpr)\n",
    "lrcv_auc = roc_auc_score(y_test, y_probs)\n",
    "lrcv_auc"
   ]
  },
  {
   "cell_type": "code",
   "execution_count": 26,
   "metadata": {},
   "outputs": [
    {
     "data": {
      "image/png": "[encoded data removed]",
      "text/plain": [
       "<Figure size 432x288 with 1 Axes>"
      ]
     },
     "metadata": {
      "needs_background": "light"
     },
     "output_type": "display_data"
    },
    {
     "data": {
      "text/plain": [
       "0.8608857357870786"
      ]
     },
     "execution_count": 26,
     "metadata": {},
     "output_type": "execute_result"
    }
   ],
   "source": [
    "#LDA\n",
    "y_probs = lda.predict_proba(X_test) # we have to get the probability values to plot roc curve\n",
    "y_probs = y_probs[:, 1] # keep probabilities for the positive outcome only\n",
    "fpr, tpr, _ = roc_curve(y_test, y_probs)\n",
    "roc_auc = auc(fpr, tpr)\n",
    "plot_roc_curve(fpr, tpr)\n",
    "lda_auc = roc_auc_score(y_test, y_probs)\n",
    "lda_auc"
   ]
  },
  {
   "cell_type": "code",
   "execution_count": 57,
   "metadata": {},
   "outputs": [
    {
     "data": {
      "image/png": "[encoded data removed]",
      "text/plain": [
       "<Figure size 432x288 with 1 Axes>"
      ]
     },
     "metadata": {
      "needs_background": "light"
     },
     "output_type": "display_data"
    },
    {
     "data": {
      "text/plain": [
       "0.8609678226353039"
      ]
     },
     "execution_count": 57,
     "metadata": {},
     "output_type": "execute_result"
    }
   ],
   "source": [
    "from sklearn.preprocessing import StandardScaler\n",
    "from sklearn.calibration import CalibratedClassifierCV\n",
    "scaler = StandardScaler()\n",
    "\n",
    "#LSVC does not have predcit_proba so must go around\n",
    "cclf = CalibratedClassifierCV(base_estimator=lsvc, cv=5)\n",
    "cclf.fit(X_train, y_train)\n",
    "\n",
    "\n",
    "#LSVC\n",
    "y_probs = cclf.predict_proba(X_test) # we have to get the probability values to plot roc curve\n",
    "y_probs = y_probs[:, 1] # keep probabilities for the positive outcome only\n",
    "fpr, tpr, _ = roc_curve(y_test, y_probs)\n",
    "roc_auc = auc(fpr, tpr)\n",
    "plot_roc_curve(fpr, tpr)\n",
    "lsvc_auc = roc_auc_score(y_test, y_probs)\n",
    "lsvc_auc"
   ]
  },
  {
   "cell_type": "markdown",
   "metadata": {},
   "source": [
    "Confusion Matrixes"
   ]
  },
  {
   "cell_type": "code",
   "execution_count": 27,
   "metadata": {},
   "outputs": [
    {
     "name": "stdout",
     "output_type": "stream",
     "text": [
      "LR Confusion Matrix\n"
     ]
    },
    {
     "data": {
      "text/plain": [
       "array([[2635,  778],\n",
       "       [ 749, 2699]], dtype=int64)"
      ]
     },
     "execution_count": 27,
     "metadata": {},
     "output_type": "execute_result"
    }
   ],
   "source": [
    "print('LR Confusion Matrix')\n",
    "confusion_matrix(y_test, lr.predict(X_test))"
   ]
  },
  {
   "cell_type": "code",
   "execution_count": 28,
   "metadata": {},
   "outputs": [
    {
     "name": "stdout",
     "output_type": "stream",
     "text": [
      "SVC Confusion Matrix\n"
     ]
    },
    {
     "data": {
      "text/plain": [
       "array([[2680,  733],\n",
       "       [ 791, 2657]], dtype=int64)"
      ]
     },
     "execution_count": 28,
     "metadata": {},
     "output_type": "execute_result"
    }
   ],
   "source": [
    "print('SVC Confusion Matrix')\n",
    "confusion_matrix(y_test, svc.predict(X_test))"
   ]
  },
  {
   "cell_type": "code",
   "execution_count": 29,
   "metadata": {},
   "outputs": [
    {
     "name": "stdout",
     "output_type": "stream",
     "text": [
      "MLP Confusion Matrix\n"
     ]
    },
    {
     "data": {
      "text/plain": [
       "array([[2667,  746],\n",
       "       [ 782, 2666]], dtype=int64)"
      ]
     },
     "execution_count": 29,
     "metadata": {},
     "output_type": "execute_result"
    }
   ],
   "source": [
    "print('MLP Confusion Matrix')\n",
    "confusion_matrix(y_test, mlp.predict(X_test))"
   ]
  },
  {
   "cell_type": "code",
   "execution_count": 30,
   "metadata": {},
   "outputs": [
    {
     "name": "stdout",
     "output_type": "stream",
     "text": [
      "LRCV Confusion Matrix\n"
     ]
    },
    {
     "data": {
      "text/plain": [
       "array([[2634,  779],\n",
       "       [ 748, 2700]], dtype=int64)"
      ]
     },
     "execution_count": 30,
     "metadata": {},
     "output_type": "execute_result"
    }
   ],
   "source": [
    "print('LRCV Confusion Matrix')\n",
    "confusion_matrix(y_test, lrcv.predict(X_test))"
   ]
  },
  {
   "cell_type": "code",
   "execution_count": 31,
   "metadata": {},
   "outputs": [
    {
     "name": "stdout",
     "output_type": "stream",
     "text": [
      "LDA Confusion Matrix\n"
     ]
    },
    {
     "data": {
      "text/plain": [
       "array([[2686,  727],\n",
       "       [ 796, 2652]], dtype=int64)"
      ]
     },
     "execution_count": 31,
     "metadata": {},
     "output_type": "execute_result"
    }
   ],
   "source": [
    "print('LDA Confusion Matrix')\n",
    "confusion_matrix(y_test, lda.predict(X_test))"
   ]
  },
  {
   "cell_type": "code",
   "execution_count": 59,
   "metadata": {},
   "outputs": [
    {
     "name": "stdout",
     "output_type": "stream",
     "text": [
      "LSVC Confusion Matrix\n"
     ]
    },
    {
     "data": {
      "text/plain": [
       "array([[2641,  772],\n",
       "       [ 759, 2689]], dtype=int64)"
      ]
     },
     "execution_count": 59,
     "metadata": {},
     "output_type": "execute_result"
    }
   ],
   "source": [
    "print('LSVC Confusion Matrix')\n",
    "confusion_matrix(y_test, lsvc.predict(X_test))"
   ]
  },
  {
   "cell_type": "code",
   "execution_count": null,
   "metadata": {},
   "outputs": [],
   "source": []
  }
 ],
 "metadata": {
  "kernelspec": {
   "display_name": "Python 3",
   "language": "python",
   "name": "python3"
  },
  "language_info": {
   "codemirror_mode": {
    "name": "ipython",
    "version": 3
   },
   "file_extension": ".py",
   "mimetype": "text/x-python",
   "name": "python",
   "nbconvert_exporter": "python",
   "pygments_lexer": "ipython3",
   "version": "3.7.4"
  }
 },
 "nbformat": 4,
 "nbformat_minor": 2
}
