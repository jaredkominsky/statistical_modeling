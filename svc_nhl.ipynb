{
 "cells": [
  {
   "cell_type": "code",
   "execution_count": 1,
   "metadata": {},
   "outputs": [
    {
     "name": "stderr",
     "output_type": "stream",
     "text": [
      "C:\\Users\\jkom8\\Anaconda3\\lib\\site-packages\\sklearn\\externals\\six.py:31: DeprecationWarning: The module is deprecated in version 0.21 and will be removed in version 0.23 since we've dropped support for Python 2.7. Please rely on the official version of six (https://pypi.org/project/six/).\n",
      "  \"(https://pypi.org/project/six/).\", DeprecationWarning)\n"
     ]
    }
   ],
   "source": [
    "import pandas as pd\n",
    "import numpy as np\n",
    "import matplotlib.pyplot as plt\n",
    "import seaborn as sns\n",
    "import statsmodels.api as sm\n",
    "import statsmodels.formula.api as smf\n",
    "import math\n",
    "import random\n",
    "\n",
    "import pydot\n",
    "from sklearn import metrics #Import scikit-learn metrics module for accuracy calculation\n",
    "\n",
    "from IPython.display import Image\n",
    "\n",
    "from sklearn.model_selection import train_test_split, cross_val_score\n",
    "from sklearn.externals.six import StringIO  \n",
    "from sklearn.tree import DecisionTreeClassifier, export_graphviz\n",
    "from sklearn.ensemble import BaggingClassifier, RandomForestClassifier\n",
    "from sklearn.metrics import mean_squared_error,confusion_matrix, classification_report\n",
    "\n",
    "from sklearn.svm import SVC, LinearSVC\n",
    "from sklearn.ensemble import RandomForestClassifier\n",
    "from statsmodels.stats.anova import anova_lm\n",
    "from sklearn.model_selection import train_test_split, KFold\n",
    "from sklearn.metrics import confusion_matrix, classification_report\n",
    "from sklearn.metrics import precision_score, roc_curve, auc, roc_auc_score\n",
    "from sklearn.linear_model import LogisticRegression\n",
    "from sklearn.discriminant_analysis import LinearDiscriminantAnalysis, QuadraticDiscriminantAnalysis\n",
    "from sklearn.neighbors import KNeighborsClassifier\n",
    "from sklearn import preprocessing\n",
    "from sklearn.model_selection import GridSearchCV\n",
    "\n",
    "%matplotlib inline\n",
    "plt.style.use('seaborn-white')"
   ]
  },
  {
   "cell_type": "code",
   "execution_count": 2,
   "metadata": {},
   "outputs": [],
   "source": [
    "def show_grid_search(model, X_train, y_train, tuned_parameters, scores):\n",
    "    for score in scores:\n",
    "        print(\"# Tuning hyper-parameters for %s\" % score)\n",
    "        print()\n",
    "\n",
    "#        clf = GridSearchCV(\n",
    "#            svc, tuned_parameters, n_jobs=-1, cv=3,\n",
    "#            scoring='%s_macro' % score\n",
    "#        )\n",
    "        \n",
    "        clf = GridSearchCV(\n",
    "            model, tuned_parameters, cv=3,\n",
    "            verbose=10, scoring='%s_macro' % score, n_jobs=-1\n",
    "        )\n",
    "        clf.fit(X_train, y_train)\n",
    "\n",
    "        print(\"Best parameters set found on development set:\")\n",
    "        print()\n",
    "        print(clf.best_params_)\n",
    "        print()\n",
    "        print(\"Grid scores on development set:\")\n",
    "        print()\n",
    "        means = clf.cv_results_['mean_test_score']\n",
    "        stds = clf.cv_results_['std_test_score']\n",
    "        for mean, std, params in zip(means, stds, clf.cv_results_['params']):\n",
    "            print(\"%0.3f (+/-%0.03f) for %r\"\n",
    "                  % (mean, std * 2, params))\n",
    "        print()\n",
    "\n",
    "        print(\"Detailed classification report:\")\n",
    "        print()\n",
    "        print(\"The model is trained on the full development set.\")\n",
    "        print(\"The scores are computed on the full evaluation set.\")\n",
    "        print()\n",
    "        y_true, y_pred = y_test, clf.predict(X_test)\n",
    "        print(classification_report(y_true, y_pred))\n",
    "        print()"
   ]
  },
  {
   "cell_type": "code",
   "execution_count": 3,
   "metadata": {},
   "outputs": [
    {
     "data": {
      "text/html": [
       "<div>\n",
       "<style scoped>\n",
       "    .dataframe tbody tr th:only-of-type {\n",
       "        vertical-align: middle;\n",
       "    }\n",
       "\n",
       "    .dataframe tbody tr th {\n",
       "        vertical-align: top;\n",
       "    }\n",
       "\n",
       "    .dataframe thead th {\n",
       "        text-align: right;\n",
       "    }\n",
       "</style>\n",
       "<table border=\"1\" class=\"dataframe\">\n",
       "  <thead>\n",
       "    <tr style=\"text-align: right;\">\n",
       "      <th></th>\n",
       "      <th>game_id</th>\n",
       "      <th>team_id</th>\n",
       "      <th>HoA</th>\n",
       "      <th>won</th>\n",
       "      <th>settled_in</th>\n",
       "      <th>head_coach</th>\n",
       "      <th>goals</th>\n",
       "      <th>shots</th>\n",
       "      <th>hits</th>\n",
       "      <th>pim</th>\n",
       "      <th>powerPlayOpportunities</th>\n",
       "      <th>powerPlayGoals</th>\n",
       "      <th>faceOffWinPercentage</th>\n",
       "      <th>giveaways</th>\n",
       "      <th>takeaways</th>\n",
       "    </tr>\n",
       "  </thead>\n",
       "  <tbody>\n",
       "    <tr>\n",
       "      <td>0</td>\n",
       "      <td>2011030221</td>\n",
       "      <td>1</td>\n",
       "      <td>away</td>\n",
       "      <td>False</td>\n",
       "      <td>OT</td>\n",
       "      <td>Peter DeBoer</td>\n",
       "      <td>0.025695</td>\n",
       "      <td>-0.081415</td>\n",
       "      <td>31</td>\n",
       "      <td>0.009968</td>\n",
       "      <td>3</td>\n",
       "      <td>0.067941</td>\n",
       "      <td>-0.087329</td>\n",
       "      <td>-0.073560</td>\n",
       "      <td>0.002587</td>\n",
       "    </tr>\n",
       "    <tr>\n",
       "      <td>1</td>\n",
       "      <td>2011030221</td>\n",
       "      <td>4</td>\n",
       "      <td>home</td>\n",
       "      <td>True</td>\n",
       "      <td>OT</td>\n",
       "      <td>Peter Laviolette</td>\n",
       "      <td>0.125695</td>\n",
       "      <td>0.103770</td>\n",
       "      <td>27</td>\n",
       "      <td>-0.022819</td>\n",
       "      <td>6</td>\n",
       "      <td>0.067941</td>\n",
       "      <td>0.087329</td>\n",
       "      <td>0.120885</td>\n",
       "      <td>-0.094187</td>\n",
       "    </tr>\n",
       "    <tr>\n",
       "      <td>2</td>\n",
       "      <td>2011030222</td>\n",
       "      <td>1</td>\n",
       "      <td>away</td>\n",
       "      <td>True</td>\n",
       "      <td>REG</td>\n",
       "      <td>Peter DeBoer</td>\n",
       "      <td>0.125695</td>\n",
       "      <td>0.085252</td>\n",
       "      <td>32</td>\n",
       "      <td>0.009968</td>\n",
       "      <td>4</td>\n",
       "      <td>-0.098726</td>\n",
       "      <td>0.015411</td>\n",
       "      <td>-0.018004</td>\n",
       "      <td>0.002587</td>\n",
       "    </tr>\n",
       "    <tr>\n",
       "      <td>3</td>\n",
       "      <td>2011030222</td>\n",
       "      <td>4</td>\n",
       "      <td>home</td>\n",
       "      <td>False</td>\n",
       "      <td>REG</td>\n",
       "      <td>Peter Laviolette</td>\n",
       "      <td>-0.174305</td>\n",
       "      <td>-0.192526</td>\n",
       "      <td>24</td>\n",
       "      <td>0.119258</td>\n",
       "      <td>5</td>\n",
       "      <td>-0.098726</td>\n",
       "      <td>-0.015411</td>\n",
       "      <td>0.009773</td>\n",
       "      <td>-0.029671</td>\n",
       "    </tr>\n",
       "    <tr>\n",
       "      <td>4</td>\n",
       "      <td>2011030223</td>\n",
       "      <td>4</td>\n",
       "      <td>away</td>\n",
       "      <td>False</td>\n",
       "      <td>OT</td>\n",
       "      <td>Peter Laviolette</td>\n",
       "      <td>0.025695</td>\n",
       "      <td>-0.044378</td>\n",
       "      <td>28</td>\n",
       "      <td>-0.033747</td>\n",
       "      <td>5</td>\n",
       "      <td>0.067941</td>\n",
       "      <td>0.013699</td>\n",
       "      <td>-0.184671</td>\n",
       "      <td>-0.190961</td>\n",
       "    </tr>\n",
       "  </tbody>\n",
       "</table>\n",
       "</div>"
      ],
      "text/plain": [
       "      game_id  team_id   HoA    won settled_in        head_coach     goals  \\\n",
       "0  2011030221        1  away  False         OT      Peter DeBoer  0.025695   \n",
       "1  2011030221        4  home   True         OT  Peter Laviolette  0.125695   \n",
       "2  2011030222        1  away   True        REG      Peter DeBoer  0.125695   \n",
       "3  2011030222        4  home  False        REG  Peter Laviolette -0.174305   \n",
       "4  2011030223        4  away  False         OT  Peter Laviolette  0.025695   \n",
       "\n",
       "      shots  hits       pim  powerPlayOpportunities  powerPlayGoals  \\\n",
       "0 -0.081415    31  0.009968                       3        0.067941   \n",
       "1  0.103770    27 -0.022819                       6        0.067941   \n",
       "2  0.085252    32  0.009968                       4       -0.098726   \n",
       "3 -0.192526    24  0.119258                       5       -0.098726   \n",
       "4 -0.044378    28 -0.033747                       5        0.067941   \n",
       "\n",
       "   faceOffWinPercentage  giveaways  takeaways  \n",
       "0             -0.087329  -0.073560   0.002587  \n",
       "1              0.087329   0.120885  -0.094187  \n",
       "2              0.015411  -0.018004   0.002587  \n",
       "3             -0.015411   0.009773  -0.029671  \n",
       "4              0.013699  -0.184671  -0.190961  "
      ]
     },
     "execution_count": 3,
     "metadata": {},
     "output_type": "execute_result"
    }
   ],
   "source": [
    "# Load data\n",
    "df = pd.read_csv(\"nhl_game_data/game_teams_stats.csv\")\n",
    "# normalize \n",
    "df['shots'] = (df['shots'] - df['shots'].mean()) / (df['shots'].max() - df['shots'].min())\n",
    "df['goals'] = (df['goals'] - df['goals'].mean()) / (df['goals'].max() - df['goals'].min())\n",
    "df['pim'] = (df['pim'] - df['pim'].mean()) / (df['pim'].max() - df['pim'].min())\n",
    "df['powerPlayGoals'] = (df['powerPlayGoals'] - df['powerPlayGoals'].mean()) / (df['powerPlayGoals'].max() - df['powerPlayGoals'].min())\n",
    "df['giveaways'] = (df['giveaways'] - df['giveaways'].mean()) / (df['giveaways'].max() - df['giveaways'].min())\n",
    "df['takeaways'] = (df['takeaways'] - df['takeaways'].mean()) / (df['takeaways'].max() - df['takeaways'].min())\n",
    "df['faceOffWinPercentage'] = (df['faceOffWinPercentage'] - df['faceOffWinPercentage'].mean()) / (df['faceOffWinPercentage'].max() - df['faceOffWinPercentage'].min())\n",
    "df.head()"
   ]
  },
  {
   "cell_type": "code",
   "execution_count": 4,
   "metadata": {},
   "outputs": [],
   "source": [
    "# Change catergorical data to numerical\n",
    "df['won_true'] = df['won'].astype(int)\n",
    "# Features\n",
    "X = df[['goals', 'shots', 'pim', 'powerPlayGoals', 'giveaways', 'takeaways', 'faceOffWinPercentage']]\n",
    "# Target Variable\n",
    "y = df['won_true']"
   ]
  },
  {
   "cell_type": "code",
   "execution_count": 5,
   "metadata": {},
   "outputs": [],
   "source": [
    "X_train, X_test, y_train, y_test = train_test_split(X, y, test_size=0.3, random_state=1) # 70% training and 30% test"
   ]
  },
  {
   "cell_type": "code",
   "execution_count": 6,
   "metadata": {},
   "outputs": [],
   "source": [
    "svc = SVC()"
   ]
  },
  {
   "cell_type": "code",
   "execution_count": 7,
   "metadata": {
    "scrolled": false
   },
   "outputs": [
    {
     "name": "stdout",
     "output_type": "stream",
     "text": [
      "# Tuning hyper-parameters for precision\n",
      "\n",
      "Fitting 3 folds for each of 24 candidates, totalling 72 fits\n"
     ]
    },
    {
     "name": "stderr",
     "output_type": "stream",
     "text": [
      "[Parallel(n_jobs=-1)]: Using backend LokyBackend with 12 concurrent workers.\n",
      "[Parallel(n_jobs=-1)]: Done   1 tasks      | elapsed:    9.3s\n",
      "[Parallel(n_jobs=-1)]: Done   8 tasks      | elapsed:   10.0s\n",
      "[Parallel(n_jobs=-1)]: Done  17 tasks      | elapsed:   17.1s\n",
      "[Parallel(n_jobs=-1)]: Done  26 tasks      | elapsed:   22.6s\n",
      "[Parallel(n_jobs=-1)]: Done  37 tasks      | elapsed:   27.6s\n",
      "[Parallel(n_jobs=-1)]: Done  48 tasks      | elapsed:   29.6s\n",
      "[Parallel(n_jobs=-1)]: Done  57 out of  72 | elapsed:   32.6s remaining:    8.5s\n",
      "[Parallel(n_jobs=-1)]: Done  65 out of  72 | elapsed:   36.2s remaining:    3.8s\n",
      "[Parallel(n_jobs=-1)]: Done  72 out of  72 | elapsed:   39.3s finished\n"
     ]
    },
    {
     "name": "stdout",
     "output_type": "stream",
     "text": [
      "Best parameters set found on development set:\n",
      "\n",
      "{'C': 0.1, 'gamma': 1, 'kernel': 'rbf'}\n",
      "\n",
      "Grid scores on development set:\n",
      "\n",
      "0.251 (+/-0.000) for {'C': 0.0001, 'gamma': 0.01, 'kernel': 'rbf'}\n",
      "0.251 (+/-0.000) for {'C': 0.0001, 'gamma': 0.1, 'kernel': 'rbf'}\n",
      "0.251 (+/-0.000) for {'C': 0.0001, 'gamma': 1, 'kernel': 'rbf'}\n",
      "0.251 (+/-0.000) for {'C': 0.0001, 'gamma': 10, 'kernel': 'rbf'}\n",
      "0.251 (+/-0.000) for {'C': 0.001, 'gamma': 0.01, 'kernel': 'rbf'}\n",
      "0.251 (+/-0.000) for {'C': 0.001, 'gamma': 0.1, 'kernel': 'rbf'}\n",
      "0.753 (+/-0.005) for {'C': 0.001, 'gamma': 1, 'kernel': 'rbf'}\n",
      "0.763 (+/-0.006) for {'C': 0.001, 'gamma': 10, 'kernel': 'rbf'}\n",
      "0.251 (+/-0.000) for {'C': 0.01, 'gamma': 0.01, 'kernel': 'rbf'}\n",
      "0.757 (+/-0.002) for {'C': 0.01, 'gamma': 0.1, 'kernel': 'rbf'}\n",
      "0.775 (+/-0.001) for {'C': 0.01, 'gamma': 1, 'kernel': 'rbf'}\n",
      "0.775 (+/-0.003) for {'C': 0.01, 'gamma': 10, 'kernel': 'rbf'}\n",
      "0.758 (+/-0.004) for {'C': 0.1, 'gamma': 0.01, 'kernel': 'rbf'}\n",
      "0.775 (+/-0.001) for {'C': 0.1, 'gamma': 0.1, 'kernel': 'rbf'}\n",
      "0.778 (+/-0.004) for {'C': 0.1, 'gamma': 1, 'kernel': 'rbf'}\n",
      "0.777 (+/-0.001) for {'C': 0.1, 'gamma': 10, 'kernel': 'rbf'}\n",
      "0.775 (+/-0.001) for {'C': 1, 'gamma': 0.01, 'kernel': 'rbf'}\n",
      "0.777 (+/-0.004) for {'C': 1, 'gamma': 0.1, 'kernel': 'rbf'}\n",
      "0.778 (+/-0.002) for {'C': 1, 'gamma': 1, 'kernel': 'rbf'}\n",
      "0.775 (+/-0.001) for {'C': 1, 'gamma': 10, 'kernel': 'rbf'}\n",
      "0.777 (+/-0.003) for {'C': 10, 'gamma': 0.01, 'kernel': 'rbf'}\n",
      "0.778 (+/-0.004) for {'C': 10, 'gamma': 0.1, 'kernel': 'rbf'}\n",
      "0.777 (+/-0.002) for {'C': 10, 'gamma': 1, 'kernel': 'rbf'}\n",
      "0.773 (+/-0.003) for {'C': 10, 'gamma': 10, 'kernel': 'rbf'}\n",
      "\n",
      "Detailed classification report:\n",
      "\n",
      "The model is trained on the full development set.\n",
      "The scores are computed on the full evaluation set.\n",
      "\n",
      "              precision    recall  f1-score   support\n",
      "\n",
      "           0       0.77      0.79      0.78      3413\n",
      "           1       0.78      0.77      0.78      3448\n",
      "\n",
      "    accuracy                           0.78      6861\n",
      "   macro avg       0.78      0.78      0.78      6861\n",
      "weighted avg       0.78      0.78      0.78      6861\n",
      "\n",
      "\n",
      "# Tuning hyper-parameters for recall\n",
      "\n",
      "Fitting 3 folds for each of 24 candidates, totalling 72 fits\n"
     ]
    },
    {
     "name": "stderr",
     "output_type": "stream",
     "text": [
      "[Parallel(n_jobs=-1)]: Using backend LokyBackend with 12 concurrent workers.\n",
      "[Parallel(n_jobs=-1)]: Done   1 tasks      | elapsed:    7.3s\n",
      "[Parallel(n_jobs=-1)]: Done   8 tasks      | elapsed:    7.9s\n",
      "[Parallel(n_jobs=-1)]: Done  17 tasks      | elapsed:   15.3s\n",
      "[Parallel(n_jobs=-1)]: Done  26 tasks      | elapsed:   21.1s\n",
      "[Parallel(n_jobs=-1)]: Done  37 tasks      | elapsed:   25.9s\n",
      "[Parallel(n_jobs=-1)]: Done  48 tasks      | elapsed:   27.7s\n",
      "[Parallel(n_jobs=-1)]: Done  57 out of  72 | elapsed:   30.9s remaining:    8.1s\n",
      "[Parallel(n_jobs=-1)]: Done  65 out of  72 | elapsed:   34.7s remaining:    3.6s\n",
      "[Parallel(n_jobs=-1)]: Done  72 out of  72 | elapsed:   37.5s finished\n"
     ]
    },
    {
     "name": "stdout",
     "output_type": "stream",
     "text": [
      "Best parameters set found on development set:\n",
      "\n",
      "{'C': 0.1, 'gamma': 1, 'kernel': 'rbf'}\n",
      "\n",
      "Grid scores on development set:\n",
      "\n",
      "0.500 (+/-0.000) for {'C': 0.0001, 'gamma': 0.01, 'kernel': 'rbf'}\n",
      "0.500 (+/-0.000) for {'C': 0.0001, 'gamma': 0.1, 'kernel': 'rbf'}\n",
      "0.500 (+/-0.000) for {'C': 0.0001, 'gamma': 1, 'kernel': 'rbf'}\n",
      "0.500 (+/-0.000) for {'C': 0.0001, 'gamma': 10, 'kernel': 'rbf'}\n",
      "0.500 (+/-0.000) for {'C': 0.001, 'gamma': 0.01, 'kernel': 'rbf'}\n",
      "0.500 (+/-0.000) for {'C': 0.001, 'gamma': 0.1, 'kernel': 'rbf'}\n",
      "0.549 (+/-0.002) for {'C': 0.001, 'gamma': 1, 'kernel': 'rbf'}\n",
      "0.763 (+/-0.006) for {'C': 0.001, 'gamma': 10, 'kernel': 'rbf'}\n",
      "0.500 (+/-0.000) for {'C': 0.01, 'gamma': 0.01, 'kernel': 'rbf'}\n",
      "0.654 (+/-0.001) for {'C': 0.01, 'gamma': 0.1, 'kernel': 'rbf'}\n",
      "0.775 (+/-0.001) for {'C': 0.01, 'gamma': 1, 'kernel': 'rbf'}\n",
      "0.775 (+/-0.003) for {'C': 0.01, 'gamma': 10, 'kernel': 'rbf'}\n",
      "0.660 (+/-0.004) for {'C': 0.1, 'gamma': 0.01, 'kernel': 'rbf'}\n",
      "0.774 (+/-0.001) for {'C': 0.1, 'gamma': 0.1, 'kernel': 'rbf'}\n",
      "0.778 (+/-0.004) for {'C': 0.1, 'gamma': 1, 'kernel': 'rbf'}\n",
      "0.777 (+/-0.001) for {'C': 0.1, 'gamma': 10, 'kernel': 'rbf'}\n",
      "0.774 (+/-0.001) for {'C': 1, 'gamma': 0.01, 'kernel': 'rbf'}\n",
      "0.777 (+/-0.004) for {'C': 1, 'gamma': 0.1, 'kernel': 'rbf'}\n",
      "0.777 (+/-0.002) for {'C': 1, 'gamma': 1, 'kernel': 'rbf'}\n",
      "0.775 (+/-0.001) for {'C': 1, 'gamma': 10, 'kernel': 'rbf'}\n",
      "0.777 (+/-0.003) for {'C': 10, 'gamma': 0.01, 'kernel': 'rbf'}\n",
      "0.778 (+/-0.004) for {'C': 10, 'gamma': 0.1, 'kernel': 'rbf'}\n",
      "0.777 (+/-0.002) for {'C': 10, 'gamma': 1, 'kernel': 'rbf'}\n",
      "0.773 (+/-0.002) for {'C': 10, 'gamma': 10, 'kernel': 'rbf'}\n",
      "\n",
      "Detailed classification report:\n",
      "\n",
      "The model is trained on the full development set.\n",
      "The scores are computed on the full evaluation set.\n",
      "\n",
      "              precision    recall  f1-score   support\n",
      "\n",
      "           0       0.77      0.79      0.78      3413\n",
      "           1       0.78      0.77      0.78      3448\n",
      "\n",
      "    accuracy                           0.78      6861\n",
      "   macro avg       0.78      0.78      0.78      6861\n",
      "weighted avg       0.78      0.78      0.78      6861\n",
      "\n",
      "\n"
     ]
    }
   ],
   "source": [
    "# Select the optimal C, kernel and gamma parameter by cross-validation\n",
    "tuned_parameters = [{'kernel':['rbf'], 'C':(0.0001, 0.001, 0.01, .1, 1, 10),\n",
    "                    'gamma':(0.01, 0.1, 1, 10)}]\n",
    "#clf = GridSearchCV(svc, tuned_parameters, n_jobs=-1, cv=3, scoring='accuracy', verbose=10)\n",
    "scores = ['precision', 'recall']\n",
    "\n",
    "show_grid_search(svc, X_train, y_train, tuned_parameters, scores)"
   ]
  },
  {
   "cell_type": "code",
   "execution_count": 14,
   "metadata": {},
   "outputs": [
    {
     "data": {
      "text/plain": [
       "SVC(C=0.1, cache_size=200, class_weight=None, coef0=0.0,\n",
       "    decision_function_shape='ovr', degree=3, gamma=1, kernel='rbf', max_iter=-1,\n",
       "    probability=True, random_state=None, shrinking=True, tol=0.001,\n",
       "    verbose=False)"
      ]
     },
     "execution_count": 14,
     "metadata": {},
     "output_type": "execute_result"
    }
   ],
   "source": [
    "#{'C': 0.1, 'gamma': 1, 'kernel': 'rbf'}\n",
    "svc2 = SVC(kernel='rbf', C=0.1, gamma=1, probability=True)\n",
    "svc2.fit(X_train, y_train)"
   ]
  },
  {
   "cell_type": "code",
   "execution_count": 15,
   "metadata": {},
   "outputs": [
    {
     "data": {
      "image/png": "[encoded data removed]",
      "text/plain": [
       "<Figure size 432x288 with 1 Axes>"
      ]
     },
     "metadata": {
      "needs_background": "light"
     },
     "output_type": "display_data"
    },
    {
     "data": {
      "text/plain": [
       "0.859857270855328"
      ]
     },
     "execution_count": 15,
     "metadata": {},
     "output_type": "execute_result"
    }
   ],
   "source": [
    "# function for printing the ROC curve\n",
    "def plot_roc_curve(fpr, tpr):\n",
    "    plt.plot(fpr, tpr, color='orange', label='ROC')\n",
    "    plt.plot([0, 1], [0, 1], color='darkblue', linestyle='--')\n",
    "    plt.xlabel('False Positive Rate')\n",
    "    plt.ylabel('True Positive Rate')\n",
    "    plt.title('Receiver Operating Characteristic (ROC) Curve')\n",
    "    plt.legend()\n",
    "    plt.show()\n",
    "\n",
    "y_probs = svc2.predict_proba(X_test) # we have to get the probability values to plot roc curve\n",
    "y_probs = y_probs[:, 1] # keep probabilities for the positive outcome only\n",
    "fpr, tpr, _ = roc_curve(y_test, y_probs)\n",
    "roc_auc = auc(fpr, tpr)\n",
    "plot_roc_curve(fpr, tpr)\n",
    "svc2_auc = roc_auc_score(y_test, y_probs)\n",
    "svc2_auc"
   ]
  },
  {
   "cell_type": "code",
   "execution_count": null,
   "metadata": {},
   "outputs": [],
   "source": []
  },
  {
   "cell_type": "code",
   "execution_count": null,
   "metadata": {},
   "outputs": [],
   "source": []
  }
 ],
 "metadata": {
  "kernelspec": {
   "display_name": "Python 3",
   "language": "python",
   "name": "python3"
  },
  "language_info": {
   "codemirror_mode": {
    "name": "ipython",
    "version": 3
   },
   "file_extension": ".py",
   "mimetype": "text/x-python",
   "name": "python",
   "nbconvert_exporter": "python",
   "pygments_lexer": "ipython3",
   "version": "3.7.4"
  }
 },
 "nbformat": 4,
 "nbformat_minor": 2
}
