{
 "cells": [
  {
   "cell_type": "code",
   "execution_count": 2,
   "metadata": {},
   "outputs": [],
   "source": [
    "import pandas as pd\n",
    "import numpy as np\n",
    "import matplotlib.pyplot as plt\n",
    "%matplotlib inline\n",
    "import statsmodels.api as sm\n",
    "import math\n",
    "import random\n",
    "import seaborn as sns\n",
    "import statsmodels.api as sm\n",
    "import statsmodels.formula.api as smf\n",
    "from statsmodels.stats.anova import anova_lm\n",
    "from sklearn.model_selection import train_test_split\n",
    "from sklearn.ensemble import RandomForestClassifier\n",
    "from sklearn.metrics import confusion_matrix, classification_report\n",
    "from sklearn.metrics import precision_score, roc_curve, auc, roc_auc_score\n",
    "from sklearn.linear_model import LogisticRegression\n",
    "from sklearn.discriminant_analysis import LinearDiscriminantAnalysis, QuadraticDiscriminantAnalysis\n",
    "from sklearn.neighbors import KNeighborsClassifier\n",
    "from sklearn import preprocessing\n",
    "from sklearn.svm import SVC\n"
   ]
  },
  {
   "cell_type": "code",
   "execution_count": 3,
   "metadata": {},
   "outputs": [
    {
     "data": {
      "text/html": [
       "<div>\n",
       "<style scoped>\n",
       "    .dataframe tbody tr th:only-of-type {\n",
       "        vertical-align: middle;\n",
       "    }\n",
       "\n",
       "    .dataframe tbody tr th {\n",
       "        vertical-align: top;\n",
       "    }\n",
       "\n",
       "    .dataframe thead th {\n",
       "        text-align: right;\n",
       "    }\n",
       "</style>\n",
       "<table border=\"1\" class=\"dataframe\">\n",
       "  <thead>\n",
       "    <tr style=\"text-align: right;\">\n",
       "      <th></th>\n",
       "      <th>game_id</th>\n",
       "      <th>team_id</th>\n",
       "      <th>HoA</th>\n",
       "      <th>won</th>\n",
       "      <th>settled_in</th>\n",
       "      <th>head_coach</th>\n",
       "      <th>goals</th>\n",
       "      <th>shots</th>\n",
       "      <th>hits</th>\n",
       "      <th>pim</th>\n",
       "      <th>powerPlayOpportunities</th>\n",
       "      <th>powerPlayGoals</th>\n",
       "      <th>faceOffWinPercentage</th>\n",
       "      <th>giveaways</th>\n",
       "      <th>takeaways</th>\n",
       "    </tr>\n",
       "  </thead>\n",
       "  <tbody>\n",
       "    <tr>\n",
       "      <td>0</td>\n",
       "      <td>2011030221</td>\n",
       "      <td>1</td>\n",
       "      <td>away</td>\n",
       "      <td>False</td>\n",
       "      <td>OT</td>\n",
       "      <td>Peter DeBoer</td>\n",
       "      <td>3</td>\n",
       "      <td>26</td>\n",
       "      <td>31</td>\n",
       "      <td>12</td>\n",
       "      <td>3</td>\n",
       "      <td>1</td>\n",
       "      <td>44.9</td>\n",
       "      <td>6</td>\n",
       "      <td>7</td>\n",
       "    </tr>\n",
       "    <tr>\n",
       "      <td>1</td>\n",
       "      <td>2011030221</td>\n",
       "      <td>4</td>\n",
       "      <td>home</td>\n",
       "      <td>True</td>\n",
       "      <td>OT</td>\n",
       "      <td>Peter Laviolette</td>\n",
       "      <td>4</td>\n",
       "      <td>36</td>\n",
       "      <td>27</td>\n",
       "      <td>6</td>\n",
       "      <td>6</td>\n",
       "      <td>1</td>\n",
       "      <td>55.1</td>\n",
       "      <td>13</td>\n",
       "      <td>4</td>\n",
       "    </tr>\n",
       "    <tr>\n",
       "      <td>2</td>\n",
       "      <td>2011030222</td>\n",
       "      <td>1</td>\n",
       "      <td>away</td>\n",
       "      <td>True</td>\n",
       "      <td>REG</td>\n",
       "      <td>Peter DeBoer</td>\n",
       "      <td>4</td>\n",
       "      <td>35</td>\n",
       "      <td>32</td>\n",
       "      <td>12</td>\n",
       "      <td>4</td>\n",
       "      <td>0</td>\n",
       "      <td>50.9</td>\n",
       "      <td>8</td>\n",
       "      <td>7</td>\n",
       "    </tr>\n",
       "    <tr>\n",
       "      <td>3</td>\n",
       "      <td>2011030222</td>\n",
       "      <td>4</td>\n",
       "      <td>home</td>\n",
       "      <td>False</td>\n",
       "      <td>REG</td>\n",
       "      <td>Peter Laviolette</td>\n",
       "      <td>1</td>\n",
       "      <td>20</td>\n",
       "      <td>24</td>\n",
       "      <td>32</td>\n",
       "      <td>5</td>\n",
       "      <td>0</td>\n",
       "      <td>49.1</td>\n",
       "      <td>9</td>\n",
       "      <td>6</td>\n",
       "    </tr>\n",
       "    <tr>\n",
       "      <td>4</td>\n",
       "      <td>2011030223</td>\n",
       "      <td>4</td>\n",
       "      <td>away</td>\n",
       "      <td>False</td>\n",
       "      <td>OT</td>\n",
       "      <td>Peter Laviolette</td>\n",
       "      <td>3</td>\n",
       "      <td>28</td>\n",
       "      <td>28</td>\n",
       "      <td>4</td>\n",
       "      <td>5</td>\n",
       "      <td>1</td>\n",
       "      <td>50.8</td>\n",
       "      <td>2</td>\n",
       "      <td>1</td>\n",
       "    </tr>\n",
       "  </tbody>\n",
       "</table>\n",
       "</div>"
      ],
      "text/plain": [
       "      game_id  team_id   HoA    won settled_in        head_coach  goals  \\\n",
       "0  2011030221        1  away  False         OT      Peter DeBoer      3   \n",
       "1  2011030221        4  home   True         OT  Peter Laviolette      4   \n",
       "2  2011030222        1  away   True        REG      Peter DeBoer      4   \n",
       "3  2011030222        4  home  False        REG  Peter Laviolette      1   \n",
       "4  2011030223        4  away  False         OT  Peter Laviolette      3   \n",
       "\n",
       "   shots  hits  pim  powerPlayOpportunities  powerPlayGoals  \\\n",
       "0     26    31   12                       3               1   \n",
       "1     36    27    6                       6               1   \n",
       "2     35    32   12                       4               0   \n",
       "3     20    24   32                       5               0   \n",
       "4     28    28    4                       5               1   \n",
       "\n",
       "   faceOffWinPercentage  giveaways  takeaways  \n",
       "0                  44.9          6          7  \n",
       "1                  55.1         13          4  \n",
       "2                  50.9          8          7  \n",
       "3                  49.1          9          6  \n",
       "4                  50.8          2          1  "
      ]
     },
     "execution_count": 3,
     "metadata": {},
     "output_type": "execute_result"
    }
   ],
   "source": [
    "df = pd.read_csv(\"nhl_game_data/game_teams_stats.csv\")\n",
    "df.head()"
   ]
  },
  {
   "cell_type": "code",
   "execution_count": 4,
   "metadata": {},
   "outputs": [
    {
     "data": {
      "text/html": [
       "<div>\n",
       "<style scoped>\n",
       "    .dataframe tbody tr th:only-of-type {\n",
       "        vertical-align: middle;\n",
       "    }\n",
       "\n",
       "    .dataframe tbody tr th {\n",
       "        vertical-align: top;\n",
       "    }\n",
       "\n",
       "    .dataframe thead th {\n",
       "        text-align: right;\n",
       "    }\n",
       "</style>\n",
       "<table border=\"1\" class=\"dataframe\">\n",
       "  <thead>\n",
       "    <tr style=\"text-align: right;\">\n",
       "      <th></th>\n",
       "      <th>goals</th>\n",
       "      <th>shots</th>\n",
       "      <th>hits</th>\n",
       "      <th>pim</th>\n",
       "      <th>powerPlayOpportunities</th>\n",
       "      <th>powerPlayGoals</th>\n",
       "      <th>faceOffWinPercentage</th>\n",
       "      <th>giveaways</th>\n",
       "      <th>takeaways</th>\n",
       "      <th>won_true</th>\n",
       "    </tr>\n",
       "  </thead>\n",
       "  <tbody>\n",
       "    <tr>\n",
       "      <td>0</td>\n",
       "      <td>3</td>\n",
       "      <td>-0.081415</td>\n",
       "      <td>0.094775</td>\n",
       "      <td>0.009968</td>\n",
       "      <td>-0.014944</td>\n",
       "      <td>0.067941</td>\n",
       "      <td>-0.087329</td>\n",
       "      <td>-0.073560</td>\n",
       "      <td>0.002587</td>\n",
       "      <td>0</td>\n",
       "    </tr>\n",
       "    <tr>\n",
       "      <td>1</td>\n",
       "      <td>4</td>\n",
       "      <td>0.103770</td>\n",
       "      <td>0.043493</td>\n",
       "      <td>-0.022819</td>\n",
       "      <td>0.235056</td>\n",
       "      <td>0.067941</td>\n",
       "      <td>0.087329</td>\n",
       "      <td>0.120885</td>\n",
       "      <td>-0.094187</td>\n",
       "      <td>1</td>\n",
       "    </tr>\n",
       "    <tr>\n",
       "      <td>2</td>\n",
       "      <td>4</td>\n",
       "      <td>0.085252</td>\n",
       "      <td>0.107595</td>\n",
       "      <td>0.009968</td>\n",
       "      <td>0.068389</td>\n",
       "      <td>-0.098726</td>\n",
       "      <td>0.015411</td>\n",
       "      <td>-0.018004</td>\n",
       "      <td>0.002587</td>\n",
       "      <td>1</td>\n",
       "    </tr>\n",
       "    <tr>\n",
       "      <td>3</td>\n",
       "      <td>1</td>\n",
       "      <td>-0.192526</td>\n",
       "      <td>0.005031</td>\n",
       "      <td>0.119258</td>\n",
       "      <td>0.151722</td>\n",
       "      <td>-0.098726</td>\n",
       "      <td>-0.015411</td>\n",
       "      <td>0.009773</td>\n",
       "      <td>-0.029671</td>\n",
       "      <td>0</td>\n",
       "    </tr>\n",
       "    <tr>\n",
       "      <td>4</td>\n",
       "      <td>3</td>\n",
       "      <td>-0.044378</td>\n",
       "      <td>0.056313</td>\n",
       "      <td>-0.033747</td>\n",
       "      <td>0.151722</td>\n",
       "      <td>0.067941</td>\n",
       "      <td>0.013699</td>\n",
       "      <td>-0.184671</td>\n",
       "      <td>-0.190961</td>\n",
       "      <td>0</td>\n",
       "    </tr>\n",
       "  </tbody>\n",
       "</table>\n",
       "</div>"
      ],
      "text/plain": [
       "   goals     shots      hits       pim  powerPlayOpportunities  \\\n",
       "0      3 -0.081415  0.094775  0.009968               -0.014944   \n",
       "1      4  0.103770  0.043493 -0.022819                0.235056   \n",
       "2      4  0.085252  0.107595  0.009968                0.068389   \n",
       "3      1 -0.192526  0.005031  0.119258                0.151722   \n",
       "4      3 -0.044378  0.056313 -0.033747                0.151722   \n",
       "\n",
       "   powerPlayGoals  faceOffWinPercentage  giveaways  takeaways  won_true  \n",
       "0        0.067941             -0.087329  -0.073560   0.002587         0  \n",
       "1        0.067941              0.087329   0.120885  -0.094187         1  \n",
       "2       -0.098726              0.015411  -0.018004   0.002587         1  \n",
       "3       -0.098726             -0.015411   0.009773  -0.029671         0  \n",
       "4        0.067941              0.013699  -0.184671  -0.190961         0  "
      ]
     },
     "execution_count": 4,
     "metadata": {},
     "output_type": "execute_result"
    }
   ],
   "source": [
    "#df['won_true'] = np.where(df['won'] == 'TRUE', 1, 0)\n",
    "df['won_true'] = df['won'].astype(int)\n",
    "# drop unnecessary columns\n",
    "df.drop(['game_id'], axis=1, inplace=True)\n",
    "df.drop(['team_id'], axis=1, inplace=True)\n",
    "df.drop(['HoA'], axis=1, inplace=True)\n",
    "df.drop(['won'], axis=1, inplace=True)\n",
    "df.drop(['settled_in'], axis=1, inplace=True)\n",
    "df.drop(['head_coach'], axis=1, inplace=True)\n",
    "# normalize \n",
    "df['shots'] = (df['shots'] - df['shots'].mean()) / (df['shots'].max() - df['shots'].min())\n",
    "df['hits'] = (df['hits'] - df['hits'].mean()) / (df['hits'].max() - df['hits'].min())\n",
    "df['pim'] = (df['pim'] - df['pim'].mean()) / (df['pim'].max() - df['pim'].min())\n",
    "df['powerPlayOpportunities'] = (df['powerPlayOpportunities'] - df['powerPlayOpportunities'].mean()) / (df['powerPlayOpportunities'].max() - df['powerPlayOpportunities'].min())\n",
    "df['powerPlayGoals'] = (df['powerPlayGoals'] - df['powerPlayGoals'].mean()) / (df['powerPlayGoals'].max() - df['powerPlayGoals'].min())\n",
    "df['giveaways'] = (df['giveaways'] - df['giveaways'].mean()) / (df['giveaways'].max() - df['giveaways'].min())\n",
    "df['takeaways'] = (df['takeaways'] - df['takeaways'].mean()) / (df['takeaways'].max() - df['takeaways'].min())\n",
    "df['faceOffWinPercentage'] = (df['faceOffWinPercentage'] - df['faceOffWinPercentage'].mean()) / (df['faceOffWinPercentage'].max() - df['faceOffWinPercentage'].min())\n",
    "df.head()"
   ]
  },
  {
   "cell_type": "code",
   "execution_count": null,
   "metadata": {},
   "outputs": [],
   "source": []
  },
  {
   "cell_type": "code",
   "execution_count": 5,
   "metadata": {
    "scrolled": true
   },
   "outputs": [
    {
     "data": {
      "text/html": [
       "<div>\n",
       "<style scoped>\n",
       "    .dataframe tbody tr th:only-of-type {\n",
       "        vertical-align: middle;\n",
       "    }\n",
       "\n",
       "    .dataframe tbody tr th {\n",
       "        vertical-align: top;\n",
       "    }\n",
       "\n",
       "    .dataframe thead th {\n",
       "        text-align: right;\n",
       "    }\n",
       "</style>\n",
       "<table border=\"1\" class=\"dataframe\">\n",
       "  <thead>\n",
       "    <tr style=\"text-align: right;\">\n",
       "      <th></th>\n",
       "      <th>goals</th>\n",
       "      <th>shots</th>\n",
       "      <th>hits</th>\n",
       "      <th>pim</th>\n",
       "      <th>powerPlayOpportunities</th>\n",
       "      <th>powerPlayGoals</th>\n",
       "      <th>faceOffWinPercentage</th>\n",
       "      <th>giveaways</th>\n",
       "      <th>takeaways</th>\n",
       "    </tr>\n",
       "  </thead>\n",
       "  <tbody>\n",
       "    <tr>\n",
       "      <td>0</td>\n",
       "      <td>3</td>\n",
       "      <td>-0.081415</td>\n",
       "      <td>0.094775</td>\n",
       "      <td>0.009968</td>\n",
       "      <td>-0.014944</td>\n",
       "      <td>0.067941</td>\n",
       "      <td>-0.087329</td>\n",
       "      <td>-0.073560</td>\n",
       "      <td>0.002587</td>\n",
       "    </tr>\n",
       "    <tr>\n",
       "      <td>1</td>\n",
       "      <td>4</td>\n",
       "      <td>0.103770</td>\n",
       "      <td>0.043493</td>\n",
       "      <td>-0.022819</td>\n",
       "      <td>0.235056</td>\n",
       "      <td>0.067941</td>\n",
       "      <td>0.087329</td>\n",
       "      <td>0.120885</td>\n",
       "      <td>-0.094187</td>\n",
       "    </tr>\n",
       "    <tr>\n",
       "      <td>2</td>\n",
       "      <td>4</td>\n",
       "      <td>0.085252</td>\n",
       "      <td>0.107595</td>\n",
       "      <td>0.009968</td>\n",
       "      <td>0.068389</td>\n",
       "      <td>-0.098726</td>\n",
       "      <td>0.015411</td>\n",
       "      <td>-0.018004</td>\n",
       "      <td>0.002587</td>\n",
       "    </tr>\n",
       "    <tr>\n",
       "      <td>3</td>\n",
       "      <td>1</td>\n",
       "      <td>-0.192526</td>\n",
       "      <td>0.005031</td>\n",
       "      <td>0.119258</td>\n",
       "      <td>0.151722</td>\n",
       "      <td>-0.098726</td>\n",
       "      <td>-0.015411</td>\n",
       "      <td>0.009773</td>\n",
       "      <td>-0.029671</td>\n",
       "    </tr>\n",
       "    <tr>\n",
       "      <td>4</td>\n",
       "      <td>3</td>\n",
       "      <td>-0.044378</td>\n",
       "      <td>0.056313</td>\n",
       "      <td>-0.033747</td>\n",
       "      <td>0.151722</td>\n",
       "      <td>0.067941</td>\n",
       "      <td>0.013699</td>\n",
       "      <td>-0.184671</td>\n",
       "      <td>-0.190961</td>\n",
       "    </tr>\n",
       "  </tbody>\n",
       "</table>\n",
       "</div>"
      ],
      "text/plain": [
       "   goals     shots      hits       pim  powerPlayOpportunities  \\\n",
       "0      3 -0.081415  0.094775  0.009968               -0.014944   \n",
       "1      4  0.103770  0.043493 -0.022819                0.235056   \n",
       "2      4  0.085252  0.107595  0.009968                0.068389   \n",
       "3      1 -0.192526  0.005031  0.119258                0.151722   \n",
       "4      3 -0.044378  0.056313 -0.033747                0.151722   \n",
       "\n",
       "   powerPlayGoals  faceOffWinPercentage  giveaways  takeaways  \n",
       "0        0.067941             -0.087329  -0.073560   0.002587  \n",
       "1        0.067941              0.087329   0.120885  -0.094187  \n",
       "2       -0.098726              0.015411  -0.018004   0.002587  \n",
       "3       -0.098726             -0.015411   0.009773  -0.029671  \n",
       "4        0.067941              0.013699  -0.184671  -0.190961  "
      ]
     },
     "execution_count": 5,
     "metadata": {},
     "output_type": "execute_result"
    }
   ],
   "source": [
    "y = df[df.columns[-1]] # last column\n",
    "y.shape # only one list\n",
    "# X is features\n",
    "X = df[df.columns[0:9]]\n",
    "X.shape # size is amount o features\n",
    "X.head()"
   ]
  },
  {
   "cell_type": "code",
   "execution_count": 6,
   "metadata": {},
   "outputs": [
    {
     "data": {
      "text/plain": [
       "0.7778555186286514"
      ]
     },
     "execution_count": 6,
     "metadata": {},
     "output_type": "execute_result"
    }
   ],
   "source": [
    "# creating logistic regression model with just training set (whole set currently)\n",
    "lr = LogisticRegression(C=100000, tol=.0000001, solver='newton-cg')\n",
    "lr.fit(X, y)\n",
    "lr.score(X, y)\n",
    "# print out beta, coefficients\n",
    "# lr.coef_"
   ]
  },
  {
   "cell_type": "code",
   "execution_count": 7,
   "metadata": {},
   "outputs": [
    {
     "name": "stdout",
     "output_type": "stream",
     "text": [
      "Optimization terminated successfully.\n",
      "         Current function value: 0.464512\n",
      "         Iterations 7\n"
     ]
    }
   ],
   "source": [
    "# first param in '' is the depandant variable, then ~ followed by the \n",
    "# features\n",
    "results = smf.logit('won_true ~ goals + shots + hits + pim + powerPlayOpportunities + powerPlayGoals + faceOffWinPercentage + giveaways + takeaways', data = df).fit()"
   ]
  },
  {
   "cell_type": "code",
   "execution_count": 8,
   "metadata": {},
   "outputs": [
    {
     "data": {
      "text/html": [
       "<table class=\"simpletable\">\n",
       "<caption>Logit Regression Results</caption>\n",
       "<tr>\n",
       "  <th>Dep. Variable:</th>       <td>won_true</td>     <th>  No. Observations:  </th>  <td> 22868</td> \n",
       "</tr>\n",
       "<tr>\n",
       "  <th>Model:</th>                 <td>Logit</td>      <th>  Df Residuals:      </th>  <td> 22858</td> \n",
       "</tr>\n",
       "<tr>\n",
       "  <th>Method:</th>                 <td>MLE</td>       <th>  Df Model:          </th>  <td>     9</td> \n",
       "</tr>\n",
       "<tr>\n",
       "  <th>Date:</th>            <td>Tue, 03 Mar 2020</td> <th>  Pseudo R-squ.:     </th>  <td>0.3299</td> \n",
       "</tr>\n",
       "<tr>\n",
       "  <th>Time:</th>                <td>15:06:19</td>     <th>  Log-Likelihood:    </th> <td> -10622.</td>\n",
       "</tr>\n",
       "<tr>\n",
       "  <th>converged:</th>             <td>True</td>       <th>  LL-Null:           </th> <td> -15851.</td>\n",
       "</tr>\n",
       "<tr>\n",
       "  <th>Covariance Type:</th>     <td>nonrobust</td>    <th>  LLR p-value:       </th>  <td> 0.000</td> \n",
       "</tr>\n",
       "</table>\n",
       "<table class=\"simpletable\">\n",
       "<tr>\n",
       "             <td></td>               <th>coef</th>     <th>std err</th>      <th>z</th>      <th>P>|z|</th>  <th>[0.025</th>    <th>0.975]</th>  \n",
       "</tr>\n",
       "<tr>\n",
       "  <th>Intercept</th>              <td>   -3.2013</td> <td>    0.047</td> <td>  -67.932</td> <td> 0.000</td> <td>   -3.294</td> <td>   -3.109</td>\n",
       "</tr>\n",
       "<tr>\n",
       "  <th>goals</th>                  <td>    1.1986</td> <td>    0.017</td> <td>   71.354</td> <td> 0.000</td> <td>    1.166</td> <td>    1.232</td>\n",
       "</tr>\n",
       "<tr>\n",
       "  <th>shots</th>                  <td>   -2.0037</td> <td>    0.140</td> <td>  -14.302</td> <td> 0.000</td> <td>   -2.278</td> <td>   -1.729</td>\n",
       "</tr>\n",
       "<tr>\n",
       "  <th>hits</th>                   <td>   -0.2699</td> <td>    0.156</td> <td>   -1.732</td> <td> 0.083</td> <td>   -0.575</td> <td>    0.035</td>\n",
       "</tr>\n",
       "<tr>\n",
       "  <th>pim</th>                    <td>   -4.7902</td> <td>    0.449</td> <td>  -10.667</td> <td> 0.000</td> <td>   -5.670</td> <td>   -3.910</td>\n",
       "</tr>\n",
       "<tr>\n",
       "  <th>powerPlayOpportunities</th> <td>    0.0102</td> <td>    0.149</td> <td>    0.068</td> <td> 0.946</td> <td>   -0.281</td> <td>    0.301</td>\n",
       "</tr>\n",
       "<tr>\n",
       "  <th>powerPlayGoals</th>         <td>   -0.7999</td> <td>    0.165</td> <td>   -4.857</td> <td> 0.000</td> <td>   -1.123</td> <td>   -0.477</td>\n",
       "</tr>\n",
       "<tr>\n",
       "  <th>faceOffWinPercentage</th>   <td>    0.5907</td> <td>    0.140</td> <td>    4.230</td> <td> 0.000</td> <td>    0.317</td> <td>    0.864</td>\n",
       "</tr>\n",
       "<tr>\n",
       "  <th>giveaways</th>              <td>   -0.7564</td> <td>    0.131</td> <td>   -5.789</td> <td> 0.000</td> <td>   -1.012</td> <td>   -0.500</td>\n",
       "</tr>\n",
       "<tr>\n",
       "  <th>takeaways</th>              <td>    1.2989</td> <td>    0.143</td> <td>    9.088</td> <td> 0.000</td> <td>    1.019</td> <td>    1.579</td>\n",
       "</tr>\n",
       "</table>"
      ],
      "text/plain": [
       "<class 'statsmodels.iolib.summary.Summary'>\n",
       "\"\"\"\n",
       "                           Logit Regression Results                           \n",
       "==============================================================================\n",
       "Dep. Variable:               won_true   No. Observations:                22868\n",
       "Model:                          Logit   Df Residuals:                    22858\n",
       "Method:                           MLE   Df Model:                            9\n",
       "Date:                Tue, 03 Mar 2020   Pseudo R-squ.:                  0.3299\n",
       "Time:                        15:06:19   Log-Likelihood:                -10622.\n",
       "converged:                       True   LL-Null:                       -15851.\n",
       "Covariance Type:            nonrobust   LLR p-value:                     0.000\n",
       "==========================================================================================\n",
       "                             coef    std err          z      P>|z|      [0.025      0.975]\n",
       "------------------------------------------------------------------------------------------\n",
       "Intercept                 -3.2013      0.047    -67.932      0.000      -3.294      -3.109\n",
       "goals                      1.1986      0.017     71.354      0.000       1.166       1.232\n",
       "shots                     -2.0037      0.140    -14.302      0.000      -2.278      -1.729\n",
       "hits                      -0.2699      0.156     -1.732      0.083      -0.575       0.035\n",
       "pim                       -4.7902      0.449    -10.667      0.000      -5.670      -3.910\n",
       "powerPlayOpportunities     0.0102      0.149      0.068      0.946      -0.281       0.301\n",
       "powerPlayGoals            -0.7999      0.165     -4.857      0.000      -1.123      -0.477\n",
       "faceOffWinPercentage       0.5907      0.140      4.230      0.000       0.317       0.864\n",
       "giveaways                 -0.7564      0.131     -5.789      0.000      -1.012      -0.500\n",
       "takeaways                  1.2989      0.143      9.088      0.000       1.019       1.579\n",
       "==========================================================================================\n",
       "\"\"\""
      ]
     },
     "execution_count": 8,
     "metadata": {},
     "output_type": "execute_result"
    }
   ],
   "source": [
    "results.summary()"
   ]
  },
  {
   "cell_type": "code",
   "execution_count": 9,
   "metadata": {},
   "outputs": [
    {
     "data": {
      "text/plain": [
       "0.22214448137134857"
      ]
     },
     "execution_count": 9,
     "metadata": {},
     "output_type": "execute_result"
    }
   ],
   "source": [
    "from sklearn.metrics import accuracy_score\n",
    "lr_y_pred = lr.predict(X)\n",
    "lr_a_score = accuracy_score(y, lr_y_pred)\n",
    "lr_error_rate = 1 - lr_a_score\n",
    "lr_error_rate"
   ]
  },
  {
   "cell_type": "code",
   "execution_count": 10,
   "metadata": {},
   "outputs": [
    {
     "data": {
      "text/plain": [
       "0.7778555186286514"
      ]
     },
     "execution_count": 10,
     "metadata": {},
     "output_type": "execute_result"
    }
   ],
   "source": [
    "(((results.predict(X)) > .5) * 1 == y).mean()\n",
    "\n",
    "#sm_y_pred = results.predict(X)\n",
    "#sm_a_score = accuracy_score(y, sm_y_pred)"
   ]
  },
  {
   "cell_type": "markdown",
   "metadata": {},
   "source": [
    "Noticed the p-value is abonormally high for powerPlayOpportunities/hits. Will remove feature."
   ]
  },
  {
   "cell_type": "code",
   "execution_count": 11,
   "metadata": {},
   "outputs": [
    {
     "name": "stdout",
     "output_type": "stream",
     "text": [
      "Optimization terminated successfully.\n",
      "         Current function value: 0.464579\n",
      "         Iterations 7\n"
     ]
    },
    {
     "data": {
      "text/html": [
       "<table class=\"simpletable\">\n",
       "<caption>Logit Regression Results</caption>\n",
       "<tr>\n",
       "  <th>Dep. Variable:</th>       <td>won_true</td>     <th>  No. Observations:  </th>  <td> 22868</td> \n",
       "</tr>\n",
       "<tr>\n",
       "  <th>Model:</th>                 <td>Logit</td>      <th>  Df Residuals:      </th>  <td> 22860</td> \n",
       "</tr>\n",
       "<tr>\n",
       "  <th>Method:</th>                 <td>MLE</td>       <th>  Df Model:          </th>  <td>     7</td> \n",
       "</tr>\n",
       "<tr>\n",
       "  <th>Date:</th>            <td>Tue, 03 Mar 2020</td> <th>  Pseudo R-squ.:     </th>  <td>0.3298</td> \n",
       "</tr>\n",
       "<tr>\n",
       "  <th>Time:</th>                <td>15:06:19</td>     <th>  Log-Likelihood:    </th> <td> -10624.</td>\n",
       "</tr>\n",
       "<tr>\n",
       "  <th>converged:</th>             <td>True</td>       <th>  LL-Null:           </th> <td> -15851.</td>\n",
       "</tr>\n",
       "<tr>\n",
       "  <th>Covariance Type:</th>     <td>nonrobust</td>    <th>  LLR p-value:       </th>  <td> 0.000</td> \n",
       "</tr>\n",
       "</table>\n",
       "<table class=\"simpletable\">\n",
       "<tr>\n",
       "            <td></td>              <th>coef</th>     <th>std err</th>      <th>z</th>      <th>P>|z|</th>  <th>[0.025</th>    <th>0.975]</th>  \n",
       "</tr>\n",
       "<tr>\n",
       "  <th>Intercept</th>            <td>   -3.2051</td> <td>    0.047</td> <td>  -68.272</td> <td> 0.000</td> <td>   -3.297</td> <td>   -3.113</td>\n",
       "</tr>\n",
       "<tr>\n",
       "  <th>goals</th>                <td>    1.1998</td> <td>    0.017</td> <td>   71.707</td> <td> 0.000</td> <td>    1.167</td> <td>    1.233</td>\n",
       "</tr>\n",
       "<tr>\n",
       "  <th>shots</th>                <td>   -2.0076</td> <td>    0.138</td> <td>  -14.581</td> <td> 0.000</td> <td>   -2.277</td> <td>   -1.738</td>\n",
       "</tr>\n",
       "<tr>\n",
       "  <th>pim</th>                  <td>   -4.8202</td> <td>    0.437</td> <td>  -11.028</td> <td> 0.000</td> <td>   -5.677</td> <td>   -3.963</td>\n",
       "</tr>\n",
       "<tr>\n",
       "  <th>powerPlayGoals</th>       <td>   -0.7942</td> <td>    0.153</td> <td>   -5.186</td> <td> 0.000</td> <td>   -1.094</td> <td>   -0.494</td>\n",
       "</tr>\n",
       "<tr>\n",
       "  <th>faceOffWinPercentage</th> <td>    0.5937</td> <td>    0.140</td> <td>    4.252</td> <td> 0.000</td> <td>    0.320</td> <td>    0.867</td>\n",
       "</tr>\n",
       "<tr>\n",
       "  <th>giveaways</th>            <td>   -0.7822</td> <td>    0.130</td> <td>   -6.030</td> <td> 0.000</td> <td>   -1.036</td> <td>   -0.528</td>\n",
       "</tr>\n",
       "<tr>\n",
       "  <th>takeaways</th>            <td>    1.2936</td> <td>    0.143</td> <td>    9.062</td> <td> 0.000</td> <td>    1.014</td> <td>    1.573</td>\n",
       "</tr>\n",
       "</table>"
      ],
      "text/plain": [
       "<class 'statsmodels.iolib.summary.Summary'>\n",
       "\"\"\"\n",
       "                           Logit Regression Results                           \n",
       "==============================================================================\n",
       "Dep. Variable:               won_true   No. Observations:                22868\n",
       "Model:                          Logit   Df Residuals:                    22860\n",
       "Method:                           MLE   Df Model:                            7\n",
       "Date:                Tue, 03 Mar 2020   Pseudo R-squ.:                  0.3298\n",
       "Time:                        15:06:19   Log-Likelihood:                -10624.\n",
       "converged:                       True   LL-Null:                       -15851.\n",
       "Covariance Type:            nonrobust   LLR p-value:                     0.000\n",
       "========================================================================================\n",
       "                           coef    std err          z      P>|z|      [0.025      0.975]\n",
       "----------------------------------------------------------------------------------------\n",
       "Intercept               -3.2051      0.047    -68.272      0.000      -3.297      -3.113\n",
       "goals                    1.1998      0.017     71.707      0.000       1.167       1.233\n",
       "shots                   -2.0076      0.138    -14.581      0.000      -2.277      -1.738\n",
       "pim                     -4.8202      0.437    -11.028      0.000      -5.677      -3.963\n",
       "powerPlayGoals          -0.7942      0.153     -5.186      0.000      -1.094      -0.494\n",
       "faceOffWinPercentage     0.5937      0.140      4.252      0.000       0.320       0.867\n",
       "giveaways               -0.7822      0.130     -6.030      0.000      -1.036      -0.528\n",
       "takeaways                1.2936      0.143      9.062      0.000       1.014       1.573\n",
       "========================================================================================\n",
       "\"\"\""
      ]
     },
     "execution_count": 11,
     "metadata": {},
     "output_type": "execute_result"
    }
   ],
   "source": [
    "results_noPPO = smf.logit('won_true ~ goals + shots + pim + powerPlayGoals + faceOffWinPercentage + giveaways + takeaways', data = df).fit()\n",
    "results_noPPO.summary()"
   ]
  },
  {
   "cell_type": "code",
   "execution_count": 12,
   "metadata": {},
   "outputs": [
    {
     "data": {
      "text/html": [
       "<div>\n",
       "<style scoped>\n",
       "    .dataframe tbody tr th:only-of-type {\n",
       "        vertical-align: middle;\n",
       "    }\n",
       "\n",
       "    .dataframe tbody tr th {\n",
       "        vertical-align: top;\n",
       "    }\n",
       "\n",
       "    .dataframe thead th {\n",
       "        text-align: right;\n",
       "    }\n",
       "</style>\n",
       "<table border=\"1\" class=\"dataframe\">\n",
       "  <thead>\n",
       "    <tr style=\"text-align: right;\">\n",
       "      <th></th>\n",
       "      <th>goals</th>\n",
       "      <th>shots</th>\n",
       "      <th>pim</th>\n",
       "      <th>powerPlayGoals</th>\n",
       "      <th>faceOffWinPercentage</th>\n",
       "      <th>giveaways</th>\n",
       "      <th>takeaways</th>\n",
       "    </tr>\n",
       "  </thead>\n",
       "  <tbody>\n",
       "    <tr>\n",
       "      <td>0</td>\n",
       "      <td>3</td>\n",
       "      <td>-0.081415</td>\n",
       "      <td>0.009968</td>\n",
       "      <td>0.067941</td>\n",
       "      <td>-0.087329</td>\n",
       "      <td>-0.073560</td>\n",
       "      <td>0.002587</td>\n",
       "    </tr>\n",
       "    <tr>\n",
       "      <td>1</td>\n",
       "      <td>4</td>\n",
       "      <td>0.103770</td>\n",
       "      <td>-0.022819</td>\n",
       "      <td>0.067941</td>\n",
       "      <td>0.087329</td>\n",
       "      <td>0.120885</td>\n",
       "      <td>-0.094187</td>\n",
       "    </tr>\n",
       "    <tr>\n",
       "      <td>2</td>\n",
       "      <td>4</td>\n",
       "      <td>0.085252</td>\n",
       "      <td>0.009968</td>\n",
       "      <td>-0.098726</td>\n",
       "      <td>0.015411</td>\n",
       "      <td>-0.018004</td>\n",
       "      <td>0.002587</td>\n",
       "    </tr>\n",
       "    <tr>\n",
       "      <td>3</td>\n",
       "      <td>1</td>\n",
       "      <td>-0.192526</td>\n",
       "      <td>0.119258</td>\n",
       "      <td>-0.098726</td>\n",
       "      <td>-0.015411</td>\n",
       "      <td>0.009773</td>\n",
       "      <td>-0.029671</td>\n",
       "    </tr>\n",
       "    <tr>\n",
       "      <td>4</td>\n",
       "      <td>3</td>\n",
       "      <td>-0.044378</td>\n",
       "      <td>-0.033747</td>\n",
       "      <td>0.067941</td>\n",
       "      <td>0.013699</td>\n",
       "      <td>-0.184671</td>\n",
       "      <td>-0.190961</td>\n",
       "    </tr>\n",
       "  </tbody>\n",
       "</table>\n",
       "</div>"
      ],
      "text/plain": [
       "   goals     shots       pim  powerPlayGoals  faceOffWinPercentage  giveaways  \\\n",
       "0      3 -0.081415  0.009968        0.067941             -0.087329  -0.073560   \n",
       "1      4  0.103770 -0.022819        0.067941              0.087329   0.120885   \n",
       "2      4  0.085252  0.009968       -0.098726              0.015411  -0.018004   \n",
       "3      1 -0.192526  0.119258       -0.098726             -0.015411   0.009773   \n",
       "4      3 -0.044378 -0.033747        0.067941              0.013699  -0.184671   \n",
       "\n",
       "   takeaways  \n",
       "0   0.002587  \n",
       "1  -0.094187  \n",
       "2   0.002587  \n",
       "3  -0.029671  \n",
       "4  -0.190961  "
      ]
     },
     "execution_count": 12,
     "metadata": {},
     "output_type": "execute_result"
    }
   ],
   "source": [
    "df.drop(['powerPlayOpportunities'], axis=1, inplace=True)\n",
    "df.drop(['hits'], axis=1, inplace=True)\n",
    "# remove pPO from X\n",
    "X = df[df.columns[0:7]]\n",
    "X.shape # size is amount o features\n",
    "X.head()"
   ]
  },
  {
   "cell_type": "code",
   "execution_count": 13,
   "metadata": {},
   "outputs": [
    {
     "data": {
      "text/plain": [
       "0.7775494140283365"
      ]
     },
     "execution_count": 13,
     "metadata": {},
     "output_type": "execute_result"
    }
   ],
   "source": [
    "# creating logistic regression model with just training set\n",
    "lr = LogisticRegression(C=100000, tol=.0000001, solver='newton-cg')\n",
    "lr.fit(X, y)\n",
    "lr.score(X, y)\n",
    "# print out beta, coefficients\n",
    "# lr.coef_"
   ]
  },
  {
   "cell_type": "code",
   "execution_count": 14,
   "metadata": {},
   "outputs": [
    {
     "data": {
      "text/plain": [
       "0.22245058597166345"
      ]
     },
     "execution_count": 14,
     "metadata": {},
     "output_type": "execute_result"
    }
   ],
   "source": [
    "from sklearn.metrics import accuracy_score\n",
    "lr_y_pred = lr.predict(X)\n",
    "lr_a_score = accuracy_score(y, lr_y_pred)\n",
    "lr_error_rate = 1 - lr_a_score\n",
    "lr_error_rate"
   ]
  },
  {
   "cell_type": "code",
   "execution_count": 15,
   "metadata": {},
   "outputs": [
    {
     "data": {
      "text/plain": [
       "((12863, 7), (4288, 7), (5717, 7))"
      ]
     },
     "execution_count": 15,
     "metadata": {},
     "output_type": "execute_result"
    }
   ],
   "source": [
    "X_train, X_test, y_train, y_test = train_test_split(X, y, random_state=3)\n",
    "X_train, X_valid, y_train, y_valid = train_test_split(X_train, y_train, random_state=3)\n",
    "X_train.shape, X_valid.shape, X_test.shape"
   ]
  },
  {
   "cell_type": "code",
   "execution_count": 16,
   "metadata": {},
   "outputs": [],
   "source": [
    "df_train = X_train.join(y_train) # join the train set\n",
    "df_valid = X_valid.join(y_valid) # join the valid set\n",
    "df_test = X_test.join(y_test) # join the test set"
   ]
  },
  {
   "cell_type": "code",
   "execution_count": 17,
   "metadata": {},
   "outputs": [
    {
     "name": "stdout",
     "output_type": "stream",
     "text": [
      "Optimization terminated successfully.\n",
      "         Current function value: 0.464579\n",
      "         Iterations 7\n"
     ]
    },
    {
     "data": {
      "text/html": [
       "<table class=\"simpletable\">\n",
       "<caption>Logit Regression Results</caption>\n",
       "<tr>\n",
       "  <th>Dep. Variable:</th>       <td>won_true</td>     <th>  No. Observations:  </th>  <td> 22868</td> \n",
       "</tr>\n",
       "<tr>\n",
       "  <th>Model:</th>                 <td>Logit</td>      <th>  Df Residuals:      </th>  <td> 22860</td> \n",
       "</tr>\n",
       "<tr>\n",
       "  <th>Method:</th>                 <td>MLE</td>       <th>  Df Model:          </th>  <td>     7</td> \n",
       "</tr>\n",
       "<tr>\n",
       "  <th>Date:</th>            <td>Tue, 03 Mar 2020</td> <th>  Pseudo R-squ.:     </th>  <td>0.3298</td> \n",
       "</tr>\n",
       "<tr>\n",
       "  <th>Time:</th>                <td>15:06:19</td>     <th>  Log-Likelihood:    </th> <td> -10624.</td>\n",
       "</tr>\n",
       "<tr>\n",
       "  <th>converged:</th>             <td>True</td>       <th>  LL-Null:           </th> <td> -15851.</td>\n",
       "</tr>\n",
       "<tr>\n",
       "  <th>Covariance Type:</th>     <td>nonrobust</td>    <th>  LLR p-value:       </th>  <td> 0.000</td> \n",
       "</tr>\n",
       "</table>\n",
       "<table class=\"simpletable\">\n",
       "<tr>\n",
       "            <td></td>              <th>coef</th>     <th>std err</th>      <th>z</th>      <th>P>|z|</th>  <th>[0.025</th>    <th>0.975]</th>  \n",
       "</tr>\n",
       "<tr>\n",
       "  <th>Intercept</th>            <td>   -3.2051</td> <td>    0.047</td> <td>  -68.272</td> <td> 0.000</td> <td>   -3.297</td> <td>   -3.113</td>\n",
       "</tr>\n",
       "<tr>\n",
       "  <th>goals</th>                <td>    1.1998</td> <td>    0.017</td> <td>   71.707</td> <td> 0.000</td> <td>    1.167</td> <td>    1.233</td>\n",
       "</tr>\n",
       "<tr>\n",
       "  <th>shots</th>                <td>   -2.0076</td> <td>    0.138</td> <td>  -14.581</td> <td> 0.000</td> <td>   -2.277</td> <td>   -1.738</td>\n",
       "</tr>\n",
       "<tr>\n",
       "  <th>pim</th>                  <td>   -4.8202</td> <td>    0.437</td> <td>  -11.028</td> <td> 0.000</td> <td>   -5.677</td> <td>   -3.963</td>\n",
       "</tr>\n",
       "<tr>\n",
       "  <th>powerPlayGoals</th>       <td>   -0.7942</td> <td>    0.153</td> <td>   -5.186</td> <td> 0.000</td> <td>   -1.094</td> <td>   -0.494</td>\n",
       "</tr>\n",
       "<tr>\n",
       "  <th>faceOffWinPercentage</th> <td>    0.5937</td> <td>    0.140</td> <td>    4.252</td> <td> 0.000</td> <td>    0.320</td> <td>    0.867</td>\n",
       "</tr>\n",
       "<tr>\n",
       "  <th>giveaways</th>            <td>   -0.7822</td> <td>    0.130</td> <td>   -6.030</td> <td> 0.000</td> <td>   -1.036</td> <td>   -0.528</td>\n",
       "</tr>\n",
       "<tr>\n",
       "  <th>takeaways</th>            <td>    1.2936</td> <td>    0.143</td> <td>    9.062</td> <td> 0.000</td> <td>    1.014</td> <td>    1.573</td>\n",
       "</tr>\n",
       "</table>"
      ],
      "text/plain": [
       "<class 'statsmodels.iolib.summary.Summary'>\n",
       "\"\"\"\n",
       "                           Logit Regression Results                           \n",
       "==============================================================================\n",
       "Dep. Variable:               won_true   No. Observations:                22868\n",
       "Model:                          Logit   Df Residuals:                    22860\n",
       "Method:                           MLE   Df Model:                            7\n",
       "Date:                Tue, 03 Mar 2020   Pseudo R-squ.:                  0.3298\n",
       "Time:                        15:06:19   Log-Likelihood:                -10624.\n",
       "converged:                       True   LL-Null:                       -15851.\n",
       "Covariance Type:            nonrobust   LLR p-value:                     0.000\n",
       "========================================================================================\n",
       "                           coef    std err          z      P>|z|      [0.025      0.975]\n",
       "----------------------------------------------------------------------------------------\n",
       "Intercept               -3.2051      0.047    -68.272      0.000      -3.297      -3.113\n",
       "goals                    1.1998      0.017     71.707      0.000       1.167       1.233\n",
       "shots                   -2.0076      0.138    -14.581      0.000      -2.277      -1.738\n",
       "pim                     -4.8202      0.437    -11.028      0.000      -5.677      -3.963\n",
       "powerPlayGoals          -0.7942      0.153     -5.186      0.000      -1.094      -0.494\n",
       "faceOffWinPercentage     0.5937      0.140      4.252      0.000       0.320       0.867\n",
       "giveaways               -0.7822      0.130     -6.030      0.000      -1.036      -0.528\n",
       "takeaways                1.2936      0.143      9.062      0.000       1.014       1.573\n",
       "========================================================================================\n",
       "\"\"\""
      ]
     },
     "execution_count": 17,
     "metadata": {},
     "output_type": "execute_result"
    }
   ],
   "source": [
    "results_train = smf.logit('won_true ~ goals + shots + pim + powerPlayGoals + faceOffWinPercentage + giveaways + takeaways', data = df).fit()\n",
    "results_train.summary()"
   ]
  },
  {
   "cell_type": "markdown",
   "metadata": {},
   "source": []
  },
  {
   "cell_type": "code",
   "execution_count": 18,
   "metadata": {},
   "outputs": [
    {
     "data": {
      "text/plain": [
       "0.7758687708932598"
      ]
     },
     "execution_count": 18,
     "metadata": {},
     "output_type": "execute_result"
    }
   ],
   "source": [
    "lr = LogisticRegression(C=100000, tol=.0000001, solver='newton-cg')\n",
    "lr.fit(X_train, y_train)\n",
    "lr.score(X_train, y_train)"
   ]
  },
  {
   "cell_type": "code",
   "execution_count": 19,
   "metadata": {},
   "outputs": [
    {
     "data": {
      "text/plain": [
       "array([[2229,  606],\n",
       "       [ 648, 2234]], dtype=int64)"
      ]
     },
     "execution_count": 19,
     "metadata": {},
     "output_type": "execute_result"
    }
   ],
   "source": [
    "y_pred = lr.predict(X_test)\n",
    "confusion_matrix(y_test, y_pred)"
   ]
  },
  {
   "cell_type": "code",
   "execution_count": 20,
   "metadata": {},
   "outputs": [
    {
     "name": "stdout",
     "output_type": "stream",
     "text": [
      "              precision    recall  f1-score   support\n",
      "\n",
      "           0      0.775     0.786     0.780      2835\n",
      "           1      0.787     0.775     0.781      2882\n",
      "\n",
      "    accuracy                          0.781      5717\n",
      "   macro avg      0.781     0.781     0.781      5717\n",
      "weighted avg      0.781     0.781     0.781      5717\n",
      "\n"
     ]
    }
   ],
   "source": [
    "print(classification_report(y_test, y_pred, digits=3))"
   ]
  },
  {
   "cell_type": "code",
   "execution_count": 21,
   "metadata": {},
   "outputs": [],
   "source": [
    "# function for printing the ROC curve\n",
    "def plot_roc_curve(fpr, tpr):\n",
    "    plt.plot(fpr, tpr, color='orange', label='ROC')\n",
    "    plt.plot([0, 1], [0, 1], color='darkblue', linestyle='--')\n",
    "    plt.xlabel('False Positive Rate')\n",
    "    plt.ylabel('True Positive Rate')\n",
    "    plt.title('Receiver Operating Characteristic (ROC) Curve')\n",
    "    plt.legend()\n",
    "    plt.show()"
   ]
  },
  {
   "cell_type": "code",
   "execution_count": 22,
   "metadata": {},
   "outputs": [
    {
     "data": {
      "image/png": "[encoded data removed]",
      "text/plain": [
       "<Figure size 432x288 with 1 Axes>"
      ]
     },
     "metadata": {
      "needs_background": "light"
     },
     "output_type": "display_data"
    },
    {
     "data": {
      "text/plain": [
       "0.8608468056305205"
      ]
     },
     "execution_count": 22,
     "metadata": {},
     "output_type": "execute_result"
    }
   ],
   "source": [
    "y_probs = lr.predict_proba(X_test) # we have to get the probability values to plot roc curve\n",
    "y_probs = y_probs[:, 1] # keep probabilities for the positive outcome only\n",
    "fpr, tpr, _ = roc_curve(y_test, y_probs)\n",
    "# roc_auc = auc(fpr, tpr)\n",
    "plot_roc_curve(fpr, tpr)\n",
    "lr_auc = roc_auc_score(y_test, y_probs)\n",
    "lr_auc"
   ]
  },
  {
   "cell_type": "code",
   "execution_count": 23,
   "metadata": {},
   "outputs": [
    {
     "data": {
      "text/plain": [
       "LinearDiscriminantAnalysis(n_components=None, priors=None, shrinkage=None,\n",
       "                           solver='svd', store_covariance=False, tol=0.0001)"
      ]
     },
     "execution_count": 23,
     "metadata": {},
     "output_type": "execute_result"
    }
   ],
   "source": [
    "lda = LinearDiscriminantAnalysis()\n",
    "lda.fit(X_train, y_train)"
   ]
  },
  {
   "cell_type": "code",
   "execution_count": 24,
   "metadata": {},
   "outputs": [
    {
     "data": {
      "text/plain": [
       "2765"
      ]
     },
     "execution_count": 24,
     "metadata": {},
     "output_type": "execute_result"
    }
   ],
   "source": [
    "pred = lda.fit(X_train, y_train).predict(X_test)\n",
    "np.count_nonzero(pred)"
   ]
  },
  {
   "cell_type": "code",
   "execution_count": 25,
   "metadata": {},
   "outputs": [
    {
     "name": "stdout",
     "output_type": "stream",
     "text": [
      "              precision    recall  f1-score   support\n",
      "\n",
      "           0      0.767     0.798     0.782      2835\n",
      "           1      0.793     0.761     0.777      2882\n",
      "\n",
      "    accuracy                          0.779      5717\n",
      "   macro avg      0.780     0.780     0.779      5717\n",
      "weighted avg      0.780     0.779     0.779      5717\n",
      "\n"
     ]
    }
   ],
   "source": [
    "print(classification_report(y_test, pred, digits=3))"
   ]
  },
  {
   "cell_type": "code",
   "execution_count": 26,
   "metadata": {},
   "outputs": [
    {
     "data": {
      "text/html": [
       "<table class=\"simpletable\">\n",
       "<caption>OLS Regression Results</caption>\n",
       "<tr>\n",
       "  <th>Dep. Variable:</th>        <td>won_true</td>     <th>  R-squared:         </th> <td>   0.365</td> \n",
       "</tr>\n",
       "<tr>\n",
       "  <th>Model:</th>                   <td>OLS</td>       <th>  Adj. R-squared:    </th> <td>   0.365</td> \n",
       "</tr>\n",
       "<tr>\n",
       "  <th>Method:</th>             <td>Least Squares</td>  <th>  F-statistic:       </th> <td>   1057.</td> \n",
       "</tr>\n",
       "<tr>\n",
       "  <th>Date:</th>             <td>Tue, 03 Mar 2020</td> <th>  Prob (F-statistic):</th>  <td>  0.00</td>  \n",
       "</tr>\n",
       "<tr>\n",
       "  <th>Time:</th>                 <td>15:06:19</td>     <th>  Log-Likelihood:    </th> <td> -6412.7</td> \n",
       "</tr>\n",
       "<tr>\n",
       "  <th>No. Observations:</th>      <td> 12863</td>      <th>  AIC:               </th> <td>1.284e+04</td>\n",
       "</tr>\n",
       "<tr>\n",
       "  <th>Df Residuals:</th>          <td> 12855</td>      <th>  BIC:               </th> <td>1.290e+04</td>\n",
       "</tr>\n",
       "<tr>\n",
       "  <th>Df Model:</th>              <td>     7</td>      <th>                     </th>     <td> </td>    \n",
       "</tr>\n",
       "<tr>\n",
       "  <th>Covariance Type:</th>      <td>nonrobust</td>    <th>                     </th>     <td> </td>    \n",
       "</tr>\n",
       "</table>\n",
       "<table class=\"simpletable\">\n",
       "<tr>\n",
       "            <td></td>              <th>coef</th>     <th>std err</th>      <th>t</th>      <th>P>|t|</th>  <th>[0.025</th>    <th>0.975]</th>  \n",
       "</tr>\n",
       "<tr>\n",
       "  <th>Intercept</th>            <td>   -0.0136</td> <td>    0.007</td> <td>   -1.822</td> <td> 0.069</td> <td>   -0.028</td> <td>    0.001</td>\n",
       "</tr>\n",
       "<tr>\n",
       "  <th>goals</th>                <td>    0.1867</td> <td>    0.002</td> <td>   77.459</td> <td> 0.000</td> <td>    0.182</td> <td>    0.191</td>\n",
       "</tr>\n",
       "<tr>\n",
       "  <th>shots</th>                <td>   -0.3141</td> <td>    0.028</td> <td>  -11.042</td> <td> 0.000</td> <td>   -0.370</td> <td>   -0.258</td>\n",
       "</tr>\n",
       "<tr>\n",
       "  <th>pim</th>                  <td>   -0.6347</td> <td>    0.080</td> <td>   -7.942</td> <td> 0.000</td> <td>   -0.791</td> <td>   -0.478</td>\n",
       "</tr>\n",
       "<tr>\n",
       "  <th>powerPlayGoals</th>       <td>   -0.1274</td> <td>    0.031</td> <td>   -4.129</td> <td> 0.000</td> <td>   -0.188</td> <td>   -0.067</td>\n",
       "</tr>\n",
       "<tr>\n",
       "  <th>faceOffWinPercentage</th> <td>    0.0966</td> <td>    0.029</td> <td>    3.340</td> <td> 0.001</td> <td>    0.040</td> <td>    0.153</td>\n",
       "</tr>\n",
       "<tr>\n",
       "  <th>giveaways</th>            <td>   -0.0982</td> <td>    0.027</td> <td>   -3.644</td> <td> 0.000</td> <td>   -0.151</td> <td>   -0.045</td>\n",
       "</tr>\n",
       "<tr>\n",
       "  <th>takeaways</th>            <td>    0.2236</td> <td>    0.029</td> <td>    7.601</td> <td> 0.000</td> <td>    0.166</td> <td>    0.281</td>\n",
       "</tr>\n",
       "</table>\n",
       "<table class=\"simpletable\">\n",
       "<tr>\n",
       "  <th>Omnibus:</th>       <td>1169.044</td> <th>  Durbin-Watson:     </th> <td>   2.003</td>\n",
       "</tr>\n",
       "<tr>\n",
       "  <th>Prob(Omnibus):</th>  <td> 0.000</td>  <th>  Jarque-Bera (JB):  </th> <td> 378.545</td>\n",
       "</tr>\n",
       "<tr>\n",
       "  <th>Skew:</th>           <td> 0.112</td>  <th>  Prob(JB):          </th> <td>6.31e-83</td>\n",
       "</tr>\n",
       "<tr>\n",
       "  <th>Kurtosis:</th>       <td> 2.190</td>  <th>  Cond. No.          </th> <td>    75.7</td>\n",
       "</tr>\n",
       "</table><br/><br/>Warnings:<br/>[1] Standard Errors assume that the covariance matrix of the errors is correctly specified."
      ],
      "text/plain": [
       "<class 'statsmodels.iolib.summary.Summary'>\n",
       "\"\"\"\n",
       "                            OLS Regression Results                            \n",
       "==============================================================================\n",
       "Dep. Variable:               won_true   R-squared:                       0.365\n",
       "Model:                            OLS   Adj. R-squared:                  0.365\n",
       "Method:                 Least Squares   F-statistic:                     1057.\n",
       "Date:                Tue, 03 Mar 2020   Prob (F-statistic):               0.00\n",
       "Time:                        15:06:19   Log-Likelihood:                -6412.7\n",
       "No. Observations:               12863   AIC:                         1.284e+04\n",
       "Df Residuals:                   12855   BIC:                         1.290e+04\n",
       "Df Model:                           7                                         \n",
       "Covariance Type:            nonrobust                                         \n",
       "========================================================================================\n",
       "                           coef    std err          t      P>|t|      [0.025      0.975]\n",
       "----------------------------------------------------------------------------------------\n",
       "Intercept               -0.0136      0.007     -1.822      0.069      -0.028       0.001\n",
       "goals                    0.1867      0.002     77.459      0.000       0.182       0.191\n",
       "shots                   -0.3141      0.028    -11.042      0.000      -0.370      -0.258\n",
       "pim                     -0.6347      0.080     -7.942      0.000      -0.791      -0.478\n",
       "powerPlayGoals          -0.1274      0.031     -4.129      0.000      -0.188      -0.067\n",
       "faceOffWinPercentage     0.0966      0.029      3.340      0.001       0.040       0.153\n",
       "giveaways               -0.0982      0.027     -3.644      0.000      -0.151      -0.045\n",
       "takeaways                0.2236      0.029      7.601      0.000       0.166       0.281\n",
       "==============================================================================\n",
       "Omnibus:                     1169.044   Durbin-Watson:                   2.003\n",
       "Prob(Omnibus):                  0.000   Jarque-Bera (JB):              378.545\n",
       "Skew:                           0.112   Prob(JB):                     6.31e-83\n",
       "Kurtosis:                       2.190   Cond. No.                         75.7\n",
       "==============================================================================\n",
       "\n",
       "Warnings:\n",
       "[1] Standard Errors assume that the covariance matrix of the errors is correctly specified.\n",
       "\"\"\""
      ]
     },
     "execution_count": 26,
     "metadata": {},
     "output_type": "execute_result"
    }
   ],
   "source": [
    "results_ols = smf.ols('won_true ~ goals + shots + pim + powerPlayGoals + faceOffWinPercentage + giveaways + takeaways', data = df_train).fit()\n",
    "results_ols.summary()"
   ]
  },
  {
   "cell_type": "code",
   "execution_count": 27,
   "metadata": {},
   "outputs": [],
   "source": [
    "def get_score(model, X_train, X_test, y_train, y_test):\n",
    "    model.fit(X_train, y_train)\n",
    "    return model.score(X_test, y_test)"
   ]
  },
  {
   "cell_type": "code",
   "execution_count": 28,
   "metadata": {},
   "outputs": [
    {
     "name": "stderr",
     "output_type": "stream",
     "text": [
      "C:\\Users\\jkom8\\Anaconda3\\lib\\site-packages\\sklearn\\svm\\base.py:193: FutureWarning: The default value of gamma will change from 'auto' to 'scale' in version 0.22 to account better for unscaled features. Set gamma explicitly to 'auto' or 'scale' to avoid this warning.\n",
      "  \"avoid this warning.\", FutureWarning)\n"
     ]
    },
    {
     "data": {
      "text/plain": [
       "0.7771558509707889"
      ]
     },
     "execution_count": 28,
     "metadata": {},
     "output_type": "execute_result"
    }
   ],
   "source": [
    "get_score(SVC(), X_train, X_test, y_train, y_test)"
   ]
  },
  {
   "cell_type": "code",
   "execution_count": 29,
   "metadata": {},
   "outputs": [
    {
     "name": "stderr",
     "output_type": "stream",
     "text": [
      "C:\\Users\\jkom8\\Anaconda3\\lib\\site-packages\\sklearn\\linear_model\\logistic.py:432: FutureWarning: Default solver will be changed to 'lbfgs' in 0.22. Specify a solver to silence this warning.\n",
      "  FutureWarning)\n",
      "C:\\Users\\jkom8\\Anaconda3\\lib\\site-packages\\sklearn\\linear_model\\logistic.py:432: FutureWarning: Default solver will be changed to 'lbfgs' in 0.22. Specify a solver to silence this warning.\n",
      "  FutureWarning)\n",
      "C:\\Users\\jkom8\\Anaconda3\\lib\\site-packages\\sklearn\\linear_model\\logistic.py:432: FutureWarning: Default solver will be changed to 'lbfgs' in 0.22. Specify a solver to silence this warning.\n",
      "  FutureWarning)\n"
     ]
    },
    {
     "name": "stdout",
     "output_type": "stream",
     "text": [
      "Optimization terminated successfully.\n",
      "         Current function value: 0.464595\n",
      "         Iterations 7\n",
      "0.7818786076613609 0.7818786076613609\n",
      "Optimization terminated successfully.\n",
      "         Current function value: 0.463777\n",
      "         Iterations 6\n",
      "0.7759314325695295 0.7759314325695295\n",
      "Optimization terminated successfully.\n",
      "         Current function value: 0.463286\n",
      "         Iterations 7\n",
      "0.7748819310827357 0.7748819310827357\n"
     ]
    }
   ],
   "source": [
    "model = LogisticRegression(C=100000, tol=.0000001)\n",
    "\n",
    "for i in range(3):\n",
    "    X_train, X_test, y_train, y_test = train_test_split(X, y)\n",
    "    model.fit(X_train, y_train)\n",
    "    \n",
    "    X_train_sm = X_train.join(y_train)\n",
    "    result = smf.logit(formula='won_true ~ goals + shots + pim + powerPlayGoals + faceOffWinPercentage + giveaways + takeaways', data=X_train_sm).fit()\n",
    "    print((model.predict(X_test) == y_test).mean(), ((result.predict(X_test) > .5) * 1 == y_test).mean())"
   ]
  },
  {
   "cell_type": "code",
   "execution_count": 30,
   "metadata": {},
   "outputs": [],
   "source": [
    "from sklearn.model_selection import cross_val_score"
   ]
  },
  {
   "cell_type": "code",
   "execution_count": 31,
   "metadata": {},
   "outputs": [
    {
     "name": "stderr",
     "output_type": "stream",
     "text": [
      "C:\\Users\\jkom8\\Anaconda3\\lib\\site-packages\\sklearn\\linear_model\\logistic.py:432: FutureWarning: Default solver will be changed to 'lbfgs' in 0.22. Specify a solver to silence this warning.\n",
      "  FutureWarning)\n",
      "C:\\Users\\jkom8\\Anaconda3\\lib\\site-packages\\sklearn\\linear_model\\logistic.py:432: FutureWarning: Default solver will be changed to 'lbfgs' in 0.22. Specify a solver to silence this warning.\n",
      "  FutureWarning)\n",
      "C:\\Users\\jkom8\\Anaconda3\\lib\\site-packages\\sklearn\\linear_model\\logistic.py:432: FutureWarning: Default solver will be changed to 'lbfgs' in 0.22. Specify a solver to silence this warning.\n",
      "  FutureWarning)\n"
     ]
    },
    {
     "data": {
      "text/plain": [
       "array([0.77085884, 0.78047927, 0.78415253])"
      ]
     },
     "execution_count": 31,
     "metadata": {},
     "output_type": "execute_result"
    }
   ],
   "source": [
    "cross_val_score(LogisticRegression(), X_train, y_train, cv=3)\n",
    "#cross_val_score(RandomForest(), X_train, y_train, cv=3)"
   ]
  },
  {
   "cell_type": "code",
   "execution_count": null,
   "metadata": {},
   "outputs": [],
   "source": []
  }
 ],
 "metadata": {
  "kernelspec": {
   "display_name": "Python 3",
   "language": "python",
   "name": "python3"
  },
  "language_info": {
   "codemirror_mode": {
    "name": "ipython",
    "version": 3
   },
   "file_extension": ".py",
   "mimetype": "text/x-python",
   "name": "python",
   "nbconvert_exporter": "python",
   "pygments_lexer": "ipython3",
   "version": "3.7.4"
  }
 },
 "nbformat": 4,
 "nbformat_minor": 2
}
