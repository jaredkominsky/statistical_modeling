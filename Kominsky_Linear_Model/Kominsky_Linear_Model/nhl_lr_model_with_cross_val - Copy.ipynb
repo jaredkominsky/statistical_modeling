{
 "cells": [
  {
   "cell_type": "code",
   "execution_count": 113,
   "metadata": {},
   "outputs": [],
   "source": [
    "import pandas as pd\n",
    "import numpy as np\n",
    "import matplotlib.pyplot as plt\n",
    "%matplotlib inline\n",
    "import statsmodels.api as sm\n",
    "import math\n",
    "import random\n",
    "import seaborn as sns\n",
    "import statsmodels.api as sm\n",
    "import statsmodels.formula.api as smf\n",
    "from sklearn.svm import SVC\n",
    "from sklearn.ensemble import RandomForestClassifier\n",
    "from statsmodels.stats.anova import anova_lm\n",
    "from sklearn.model_selection import train_test_split, KFold\n",
    "from sklearn.metrics import confusion_matrix, classification_report\n",
    "from sklearn.metrics import precision_score, roc_curve, auc, roc_auc_score\n",
    "from sklearn.linear_model import LogisticRegression\n",
    "from sklearn.discriminant_analysis import LinearDiscriminantAnalysis, QuadraticDiscriminantAnalysis\n",
    "from sklearn.neighbors import KNeighborsClassifier\n",
    "from sklearn import preprocessing"
   ]
  },
  {
   "cell_type": "code",
   "execution_count": 114,
   "metadata": {},
   "outputs": [
    {
     "data": {
      "text/html": [
       "<div>\n",
       "<style scoped>\n",
       "    .dataframe tbody tr th:only-of-type {\n",
       "        vertical-align: middle;\n",
       "    }\n",
       "\n",
       "    .dataframe tbody tr th {\n",
       "        vertical-align: top;\n",
       "    }\n",
       "\n",
       "    .dataframe thead th {\n",
       "        text-align: right;\n",
       "    }\n",
       "</style>\n",
       "<table border=\"1\" class=\"dataframe\">\n",
       "  <thead>\n",
       "    <tr style=\"text-align: right;\">\n",
       "      <th></th>\n",
       "      <th>game_id</th>\n",
       "      <th>team_id</th>\n",
       "      <th>HoA</th>\n",
       "      <th>won</th>\n",
       "      <th>settled_in</th>\n",
       "      <th>head_coach</th>\n",
       "      <th>goals</th>\n",
       "      <th>shots</th>\n",
       "      <th>hits</th>\n",
       "      <th>pim</th>\n",
       "      <th>powerPlayOpportunities</th>\n",
       "      <th>powerPlayGoals</th>\n",
       "      <th>faceOffWinPercentage</th>\n",
       "      <th>giveaways</th>\n",
       "      <th>takeaways</th>\n",
       "    </tr>\n",
       "  </thead>\n",
       "  <tbody>\n",
       "    <tr>\n",
       "      <td>0</td>\n",
       "      <td>2011030221</td>\n",
       "      <td>1</td>\n",
       "      <td>away</td>\n",
       "      <td>False</td>\n",
       "      <td>OT</td>\n",
       "      <td>Peter DeBoer</td>\n",
       "      <td>3</td>\n",
       "      <td>26</td>\n",
       "      <td>31</td>\n",
       "      <td>12</td>\n",
       "      <td>3</td>\n",
       "      <td>1</td>\n",
       "      <td>44.9</td>\n",
       "      <td>6</td>\n",
       "      <td>7</td>\n",
       "    </tr>\n",
       "    <tr>\n",
       "      <td>1</td>\n",
       "      <td>2011030221</td>\n",
       "      <td>4</td>\n",
       "      <td>home</td>\n",
       "      <td>True</td>\n",
       "      <td>OT</td>\n",
       "      <td>Peter Laviolette</td>\n",
       "      <td>4</td>\n",
       "      <td>36</td>\n",
       "      <td>27</td>\n",
       "      <td>6</td>\n",
       "      <td>6</td>\n",
       "      <td>1</td>\n",
       "      <td>55.1</td>\n",
       "      <td>13</td>\n",
       "      <td>4</td>\n",
       "    </tr>\n",
       "    <tr>\n",
       "      <td>2</td>\n",
       "      <td>2011030222</td>\n",
       "      <td>1</td>\n",
       "      <td>away</td>\n",
       "      <td>True</td>\n",
       "      <td>REG</td>\n",
       "      <td>Peter DeBoer</td>\n",
       "      <td>4</td>\n",
       "      <td>35</td>\n",
       "      <td>32</td>\n",
       "      <td>12</td>\n",
       "      <td>4</td>\n",
       "      <td>0</td>\n",
       "      <td>50.9</td>\n",
       "      <td>8</td>\n",
       "      <td>7</td>\n",
       "    </tr>\n",
       "    <tr>\n",
       "      <td>3</td>\n",
       "      <td>2011030222</td>\n",
       "      <td>4</td>\n",
       "      <td>home</td>\n",
       "      <td>False</td>\n",
       "      <td>REG</td>\n",
       "      <td>Peter Laviolette</td>\n",
       "      <td>1</td>\n",
       "      <td>20</td>\n",
       "      <td>24</td>\n",
       "      <td>32</td>\n",
       "      <td>5</td>\n",
       "      <td>0</td>\n",
       "      <td>49.1</td>\n",
       "      <td>9</td>\n",
       "      <td>6</td>\n",
       "    </tr>\n",
       "    <tr>\n",
       "      <td>4</td>\n",
       "      <td>2011030223</td>\n",
       "      <td>4</td>\n",
       "      <td>away</td>\n",
       "      <td>False</td>\n",
       "      <td>OT</td>\n",
       "      <td>Peter Laviolette</td>\n",
       "      <td>3</td>\n",
       "      <td>28</td>\n",
       "      <td>28</td>\n",
       "      <td>4</td>\n",
       "      <td>5</td>\n",
       "      <td>1</td>\n",
       "      <td>50.8</td>\n",
       "      <td>2</td>\n",
       "      <td>1</td>\n",
       "    </tr>\n",
       "  </tbody>\n",
       "</table>\n",
       "</div>"
      ],
      "text/plain": [
       "      game_id  team_id   HoA    won settled_in        head_coach  goals  \\\n",
       "0  2011030221        1  away  False         OT      Peter DeBoer      3   \n",
       "1  2011030221        4  home   True         OT  Peter Laviolette      4   \n",
       "2  2011030222        1  away   True        REG      Peter DeBoer      4   \n",
       "3  2011030222        4  home  False        REG  Peter Laviolette      1   \n",
       "4  2011030223        4  away  False         OT  Peter Laviolette      3   \n",
       "\n",
       "   shots  hits  pim  powerPlayOpportunities  powerPlayGoals  \\\n",
       "0     26    31   12                       3               1   \n",
       "1     36    27    6                       6               1   \n",
       "2     35    32   12                       4               0   \n",
       "3     20    24   32                       5               0   \n",
       "4     28    28    4                       5               1   \n",
       "\n",
       "   faceOffWinPercentage  giveaways  takeaways  \n",
       "0                  44.9          6          7  \n",
       "1                  55.1         13          4  \n",
       "2                  50.9          8          7  \n",
       "3                  49.1          9          6  \n",
       "4                  50.8          2          1  "
      ]
     },
     "execution_count": 114,
     "metadata": {},
     "output_type": "execute_result"
    }
   ],
   "source": [
    "# Load data\n",
    "df = pd.read_csv(\"nhl_game_data/game_teams_stats.csv\")\n",
    "df.head()"
   ]
  },
  {
   "cell_type": "code",
   "execution_count": 115,
   "metadata": {},
   "outputs": [
    {
     "data": {
      "text/html": [
       "<div>\n",
       "<style scoped>\n",
       "    .dataframe tbody tr th:only-of-type {\n",
       "        vertical-align: middle;\n",
       "    }\n",
       "\n",
       "    .dataframe tbody tr th {\n",
       "        vertical-align: top;\n",
       "    }\n",
       "\n",
       "    .dataframe thead th {\n",
       "        text-align: right;\n",
       "    }\n",
       "</style>\n",
       "<table border=\"1\" class=\"dataframe\">\n",
       "  <thead>\n",
       "    <tr style=\"text-align: right;\">\n",
       "      <th></th>\n",
       "      <th>goals</th>\n",
       "      <th>shots</th>\n",
       "      <th>hits</th>\n",
       "      <th>pim</th>\n",
       "      <th>powerPlayOpportunities</th>\n",
       "      <th>powerPlayGoals</th>\n",
       "      <th>faceOffWinPercentage</th>\n",
       "      <th>giveaways</th>\n",
       "      <th>takeaways</th>\n",
       "      <th>won_true</th>\n",
       "    </tr>\n",
       "  </thead>\n",
       "  <tbody>\n",
       "    <tr>\n",
       "      <td>0</td>\n",
       "      <td>3</td>\n",
       "      <td>-0.081415</td>\n",
       "      <td>0.094775</td>\n",
       "      <td>0.009968</td>\n",
       "      <td>-0.014944</td>\n",
       "      <td>0.067941</td>\n",
       "      <td>-0.087329</td>\n",
       "      <td>-0.073560</td>\n",
       "      <td>0.002587</td>\n",
       "      <td>0</td>\n",
       "    </tr>\n",
       "    <tr>\n",
       "      <td>1</td>\n",
       "      <td>4</td>\n",
       "      <td>0.103770</td>\n",
       "      <td>0.043493</td>\n",
       "      <td>-0.022819</td>\n",
       "      <td>0.235056</td>\n",
       "      <td>0.067941</td>\n",
       "      <td>0.087329</td>\n",
       "      <td>0.120885</td>\n",
       "      <td>-0.094187</td>\n",
       "      <td>1</td>\n",
       "    </tr>\n",
       "    <tr>\n",
       "      <td>2</td>\n",
       "      <td>4</td>\n",
       "      <td>0.085252</td>\n",
       "      <td>0.107595</td>\n",
       "      <td>0.009968</td>\n",
       "      <td>0.068389</td>\n",
       "      <td>-0.098726</td>\n",
       "      <td>0.015411</td>\n",
       "      <td>-0.018004</td>\n",
       "      <td>0.002587</td>\n",
       "      <td>1</td>\n",
       "    </tr>\n",
       "    <tr>\n",
       "      <td>3</td>\n",
       "      <td>1</td>\n",
       "      <td>-0.192526</td>\n",
       "      <td>0.005031</td>\n",
       "      <td>0.119258</td>\n",
       "      <td>0.151722</td>\n",
       "      <td>-0.098726</td>\n",
       "      <td>-0.015411</td>\n",
       "      <td>0.009773</td>\n",
       "      <td>-0.029671</td>\n",
       "      <td>0</td>\n",
       "    </tr>\n",
       "    <tr>\n",
       "      <td>4</td>\n",
       "      <td>3</td>\n",
       "      <td>-0.044378</td>\n",
       "      <td>0.056313</td>\n",
       "      <td>-0.033747</td>\n",
       "      <td>0.151722</td>\n",
       "      <td>0.067941</td>\n",
       "      <td>0.013699</td>\n",
       "      <td>-0.184671</td>\n",
       "      <td>-0.190961</td>\n",
       "      <td>0</td>\n",
       "    </tr>\n",
       "  </tbody>\n",
       "</table>\n",
       "</div>"
      ],
      "text/plain": [
       "   goals     shots      hits       pim  powerPlayOpportunities  \\\n",
       "0      3 -0.081415  0.094775  0.009968               -0.014944   \n",
       "1      4  0.103770  0.043493 -0.022819                0.235056   \n",
       "2      4  0.085252  0.107595  0.009968                0.068389   \n",
       "3      1 -0.192526  0.005031  0.119258                0.151722   \n",
       "4      3 -0.044378  0.056313 -0.033747                0.151722   \n",
       "\n",
       "   powerPlayGoals  faceOffWinPercentage  giveaways  takeaways  won_true  \n",
       "0        0.067941             -0.087329  -0.073560   0.002587         0  \n",
       "1        0.067941              0.087329   0.120885  -0.094187         1  \n",
       "2       -0.098726              0.015411  -0.018004   0.002587         1  \n",
       "3       -0.098726             -0.015411   0.009773  -0.029671         0  \n",
       "4        0.067941              0.013699  -0.184671  -0.190961         0  "
      ]
     },
     "execution_count": 115,
     "metadata": {},
     "output_type": "execute_result"
    }
   ],
   "source": [
    "# Change catergorical data to numerical\n",
    "df['won_true'] = df['won'].astype(int)\n",
    "# drop unnecessary columns\n",
    "df.drop(['game_id'], axis=1, inplace=True)\n",
    "df.drop(['team_id'], axis=1, inplace=True)\n",
    "df.drop(['HoA'], axis=1, inplace=True)\n",
    "df.drop(['won'], axis=1, inplace=True)\n",
    "df.drop(['settled_in'], axis=1, inplace=True)\n",
    "df.drop(['head_coach'], axis=1, inplace=True)\n",
    "# normalize \n",
    "df['shots'] = (df['shots'] - df['shots'].mean()) / (df['shots'].max() - df['shots'].min())\n",
    "df['hits'] = (df['hits'] - df['hits'].mean()) / (df['hits'].max() - df['hits'].min())\n",
    "df['pim'] = (df['pim'] - df['pim'].mean()) / (df['pim'].max() - df['pim'].min())\n",
    "df['powerPlayOpportunities'] = (df['powerPlayOpportunities'] - df['powerPlayOpportunities'].mean()) / (df['powerPlayOpportunities'].max() - df['powerPlayOpportunities'].min())\n",
    "df['powerPlayGoals'] = (df['powerPlayGoals'] - df['powerPlayGoals'].mean()) / (df['powerPlayGoals'].max() - df['powerPlayGoals'].min())\n",
    "df['giveaways'] = (df['giveaways'] - df['giveaways'].mean()) / (df['giveaways'].max() - df['giveaways'].min())\n",
    "df['takeaways'] = (df['takeaways'] - df['takeaways'].mean()) / (df['takeaways'].max() - df['takeaways'].min())\n",
    "df['faceOffWinPercentage'] = (df['faceOffWinPercentage'] - df['faceOffWinPercentage'].mean()) / (df['faceOffWinPercentage'].max() - df['faceOffWinPercentage'].min())\n",
    "df.head()"
   ]
  },
  {
   "cell_type": "code",
   "execution_count": 116,
   "metadata": {},
   "outputs": [
    {
     "name": "stdout",
     "output_type": "stream",
     "text": [
      "   goals     shots      hits       pim  powerPlayOpportunities  \\\n",
      "0      3 -0.081415  0.094775  0.009968               -0.014944   \n",
      "1      4  0.103770  0.043493 -0.022819                0.235056   \n",
      "2      4  0.085252  0.107595  0.009968                0.068389   \n",
      "3      1 -0.192526  0.005031  0.119258                0.151722   \n",
      "4      3 -0.044378  0.056313 -0.033747                0.151722   \n",
      "\n",
      "   powerPlayGoals  faceOffWinPercentage  giveaways  takeaways  \n",
      "0        0.067941             -0.087329  -0.073560   0.002587  \n",
      "1        0.067941              0.087329   0.120885  -0.094187  \n",
      "2       -0.098726              0.015411  -0.018004   0.002587  \n",
      "3       -0.098726             -0.015411   0.009773  -0.029671  \n",
      "4        0.067941              0.013699  -0.184671  -0.190961  \n",
      "0    0\n",
      "1    1\n",
      "2    1\n",
      "3    0\n",
      "4    0\n",
      "Name: won_true, dtype: int32\n"
     ]
    }
   ],
   "source": [
    "# Saving X and y data \n",
    "y = df[df.columns[-1]] # last column\n",
    "y.shape # only one list\n",
    "# X is features\n",
    "X = df[df.columns[0:9]]\n",
    "X.shape # size is amount o features\n",
    "print(X.head())\n",
    "print(y.head())"
   ]
  },
  {
   "cell_type": "code",
   "execution_count": 117,
   "metadata": {},
   "outputs": [
    {
     "data": {
      "text/plain": [
       "0.7778555186286514"
      ]
     },
     "execution_count": 117,
     "metadata": {},
     "output_type": "execute_result"
    }
   ],
   "source": [
    "# creating logistic regression model with just training set (whole set currently)\n",
    "lr = LogisticRegression(C=100000, tol=.0000001, solver='newton-cg')\n",
    "lr.fit(X, y)\n",
    "lr.score(X, y)\n",
    "# print out beta, coefficients\n",
    "# lr.coef_"
   ]
  },
  {
   "cell_type": "code",
   "execution_count": 118,
   "metadata": {},
   "outputs": [
    {
     "name": "stdout",
     "output_type": "stream",
     "text": [
      "Optimization terminated successfully.\n",
      "         Current function value: 0.464512\n",
      "         Iterations 7\n"
     ]
    },
    {
     "data": {
      "text/html": [
       "<table class=\"simpletable\">\n",
       "<caption>Logit Regression Results</caption>\n",
       "<tr>\n",
       "  <th>Dep. Variable:</th>       <td>won_true</td>     <th>  No. Observations:  </th>  <td> 22868</td> \n",
       "</tr>\n",
       "<tr>\n",
       "  <th>Model:</th>                 <td>Logit</td>      <th>  Df Residuals:      </th>  <td> 22858</td> \n",
       "</tr>\n",
       "<tr>\n",
       "  <th>Method:</th>                 <td>MLE</td>       <th>  Df Model:          </th>  <td>     9</td> \n",
       "</tr>\n",
       "<tr>\n",
       "  <th>Date:</th>            <td>Tue, 03 Mar 2020</td> <th>  Pseudo R-squ.:     </th>  <td>0.3299</td> \n",
       "</tr>\n",
       "<tr>\n",
       "  <th>Time:</th>                <td>14:45:06</td>     <th>  Log-Likelihood:    </th> <td> -10622.</td>\n",
       "</tr>\n",
       "<tr>\n",
       "  <th>converged:</th>             <td>True</td>       <th>  LL-Null:           </th> <td> -15851.</td>\n",
       "</tr>\n",
       "<tr>\n",
       "  <th>Covariance Type:</th>     <td>nonrobust</td>    <th>  LLR p-value:       </th>  <td> 0.000</td> \n",
       "</tr>\n",
       "</table>\n",
       "<table class=\"simpletable\">\n",
       "<tr>\n",
       "             <td></td>               <th>coef</th>     <th>std err</th>      <th>z</th>      <th>P>|z|</th>  <th>[0.025</th>    <th>0.975]</th>  \n",
       "</tr>\n",
       "<tr>\n",
       "  <th>Intercept</th>              <td>   -3.2013</td> <td>    0.047</td> <td>  -67.932</td> <td> 0.000</td> <td>   -3.294</td> <td>   -3.109</td>\n",
       "</tr>\n",
       "<tr>\n",
       "  <th>goals</th>                  <td>    1.1986</td> <td>    0.017</td> <td>   71.354</td> <td> 0.000</td> <td>    1.166</td> <td>    1.232</td>\n",
       "</tr>\n",
       "<tr>\n",
       "  <th>shots</th>                  <td>   -2.0037</td> <td>    0.140</td> <td>  -14.302</td> <td> 0.000</td> <td>   -2.278</td> <td>   -1.729</td>\n",
       "</tr>\n",
       "<tr>\n",
       "  <th>hits</th>                   <td>   -0.2699</td> <td>    0.156</td> <td>   -1.732</td> <td> 0.083</td> <td>   -0.575</td> <td>    0.035</td>\n",
       "</tr>\n",
       "<tr>\n",
       "  <th>pim</th>                    <td>   -4.7902</td> <td>    0.449</td> <td>  -10.667</td> <td> 0.000</td> <td>   -5.670</td> <td>   -3.910</td>\n",
       "</tr>\n",
       "<tr>\n",
       "  <th>powerPlayOpportunities</th> <td>    0.0102</td> <td>    0.149</td> <td>    0.068</td> <td> 0.946</td> <td>   -0.281</td> <td>    0.301</td>\n",
       "</tr>\n",
       "<tr>\n",
       "  <th>powerPlayGoals</th>         <td>   -0.7999</td> <td>    0.165</td> <td>   -4.857</td> <td> 0.000</td> <td>   -1.123</td> <td>   -0.477</td>\n",
       "</tr>\n",
       "<tr>\n",
       "  <th>faceOffWinPercentage</th>   <td>    0.5907</td> <td>    0.140</td> <td>    4.230</td> <td> 0.000</td> <td>    0.317</td> <td>    0.864</td>\n",
       "</tr>\n",
       "<tr>\n",
       "  <th>giveaways</th>              <td>   -0.7564</td> <td>    0.131</td> <td>   -5.789</td> <td> 0.000</td> <td>   -1.012</td> <td>   -0.500</td>\n",
       "</tr>\n",
       "<tr>\n",
       "  <th>takeaways</th>              <td>    1.2989</td> <td>    0.143</td> <td>    9.088</td> <td> 0.000</td> <td>    1.019</td> <td>    1.579</td>\n",
       "</tr>\n",
       "</table>"
      ],
      "text/plain": [
       "<class 'statsmodels.iolib.summary.Summary'>\n",
       "\"\"\"\n",
       "                           Logit Regression Results                           \n",
       "==============================================================================\n",
       "Dep. Variable:               won_true   No. Observations:                22868\n",
       "Model:                          Logit   Df Residuals:                    22858\n",
       "Method:                           MLE   Df Model:                            9\n",
       "Date:                Tue, 03 Mar 2020   Pseudo R-squ.:                  0.3299\n",
       "Time:                        14:45:06   Log-Likelihood:                -10622.\n",
       "converged:                       True   LL-Null:                       -15851.\n",
       "Covariance Type:            nonrobust   LLR p-value:                     0.000\n",
       "==========================================================================================\n",
       "                             coef    std err          z      P>|z|      [0.025      0.975]\n",
       "------------------------------------------------------------------------------------------\n",
       "Intercept                 -3.2013      0.047    -67.932      0.000      -3.294      -3.109\n",
       "goals                      1.1986      0.017     71.354      0.000       1.166       1.232\n",
       "shots                     -2.0037      0.140    -14.302      0.000      -2.278      -1.729\n",
       "hits                      -0.2699      0.156     -1.732      0.083      -0.575       0.035\n",
       "pim                       -4.7902      0.449    -10.667      0.000      -5.670      -3.910\n",
       "powerPlayOpportunities     0.0102      0.149      0.068      0.946      -0.281       0.301\n",
       "powerPlayGoals            -0.7999      0.165     -4.857      0.000      -1.123      -0.477\n",
       "faceOffWinPercentage       0.5907      0.140      4.230      0.000       0.317       0.864\n",
       "giveaways                 -0.7564      0.131     -5.789      0.000      -1.012      -0.500\n",
       "takeaways                  1.2989      0.143      9.088      0.000       1.019       1.579\n",
       "==========================================================================================\n",
       "\"\"\""
      ]
     },
     "execution_count": 118,
     "metadata": {},
     "output_type": "execute_result"
    }
   ],
   "source": [
    "# smf model to determine if features are insignificant. \n",
    "\n",
    "results = smf.logit('won_true ~ goals + shots + hits + pim + powerPlayOpportunities + powerPlayGoals + faceOffWinPercentage + giveaways + takeaways', data = df).fit()\n",
    "results.summary()"
   ]
  },
  {
   "cell_type": "markdown",
   "metadata": {},
   "source": [
    "Power Play Opportunities and Hits seem to be less significant to the dependant variable. Removing the variables seem best. "
   ]
  },
  {
   "cell_type": "code",
   "execution_count": 119,
   "metadata": {},
   "outputs": [
    {
     "data": {
      "text/html": [
       "<div>\n",
       "<style scoped>\n",
       "    .dataframe tbody tr th:only-of-type {\n",
       "        vertical-align: middle;\n",
       "    }\n",
       "\n",
       "    .dataframe tbody tr th {\n",
       "        vertical-align: top;\n",
       "    }\n",
       "\n",
       "    .dataframe thead th {\n",
       "        text-align: right;\n",
       "    }\n",
       "</style>\n",
       "<table border=\"1\" class=\"dataframe\">\n",
       "  <thead>\n",
       "    <tr style=\"text-align: right;\">\n",
       "      <th></th>\n",
       "      <th>goals</th>\n",
       "      <th>shots</th>\n",
       "      <th>pim</th>\n",
       "      <th>powerPlayGoals</th>\n",
       "      <th>faceOffWinPercentage</th>\n",
       "      <th>giveaways</th>\n",
       "      <th>takeaways</th>\n",
       "    </tr>\n",
       "  </thead>\n",
       "  <tbody>\n",
       "    <tr>\n",
       "      <td>0</td>\n",
       "      <td>3</td>\n",
       "      <td>-0.081415</td>\n",
       "      <td>0.009968</td>\n",
       "      <td>0.067941</td>\n",
       "      <td>-0.087329</td>\n",
       "      <td>-0.073560</td>\n",
       "      <td>0.002587</td>\n",
       "    </tr>\n",
       "    <tr>\n",
       "      <td>1</td>\n",
       "      <td>4</td>\n",
       "      <td>0.103770</td>\n",
       "      <td>-0.022819</td>\n",
       "      <td>0.067941</td>\n",
       "      <td>0.087329</td>\n",
       "      <td>0.120885</td>\n",
       "      <td>-0.094187</td>\n",
       "    </tr>\n",
       "    <tr>\n",
       "      <td>2</td>\n",
       "      <td>4</td>\n",
       "      <td>0.085252</td>\n",
       "      <td>0.009968</td>\n",
       "      <td>-0.098726</td>\n",
       "      <td>0.015411</td>\n",
       "      <td>-0.018004</td>\n",
       "      <td>0.002587</td>\n",
       "    </tr>\n",
       "    <tr>\n",
       "      <td>3</td>\n",
       "      <td>1</td>\n",
       "      <td>-0.192526</td>\n",
       "      <td>0.119258</td>\n",
       "      <td>-0.098726</td>\n",
       "      <td>-0.015411</td>\n",
       "      <td>0.009773</td>\n",
       "      <td>-0.029671</td>\n",
       "    </tr>\n",
       "    <tr>\n",
       "      <td>4</td>\n",
       "      <td>3</td>\n",
       "      <td>-0.044378</td>\n",
       "      <td>-0.033747</td>\n",
       "      <td>0.067941</td>\n",
       "      <td>0.013699</td>\n",
       "      <td>-0.184671</td>\n",
       "      <td>-0.190961</td>\n",
       "    </tr>\n",
       "  </tbody>\n",
       "</table>\n",
       "</div>"
      ],
      "text/plain": [
       "   goals     shots       pim  powerPlayGoals  faceOffWinPercentage  giveaways  \\\n",
       "0      3 -0.081415  0.009968        0.067941             -0.087329  -0.073560   \n",
       "1      4  0.103770 -0.022819        0.067941              0.087329   0.120885   \n",
       "2      4  0.085252  0.009968       -0.098726              0.015411  -0.018004   \n",
       "3      1 -0.192526  0.119258       -0.098726             -0.015411   0.009773   \n",
       "4      3 -0.044378 -0.033747        0.067941              0.013699  -0.184671   \n",
       "\n",
       "   takeaways  \n",
       "0   0.002587  \n",
       "1  -0.094187  \n",
       "2   0.002587  \n",
       "3  -0.029671  \n",
       "4  -0.190961  "
      ]
     },
     "execution_count": 119,
     "metadata": {},
     "output_type": "execute_result"
    }
   ],
   "source": [
    "# Drop insignificant features\n",
    "df.drop(['powerPlayOpportunities'], axis=1, inplace=True)\n",
    "df.drop(['hits'], axis=1, inplace=True)\n",
    "# Remove these features from X\n",
    "X = df[df.columns[0:7]]\n",
    "X.head()"
   ]
  },
  {
   "cell_type": "code",
   "execution_count": 120,
   "metadata": {},
   "outputs": [
    {
     "name": "stdout",
     "output_type": "stream",
     "text": [
      "Optimization terminated successfully.\n",
      "         Current function value: 0.464579\n",
      "         Iterations 7\n"
     ]
    },
    {
     "data": {
      "text/html": [
       "<table class=\"simpletable\">\n",
       "<caption>Logit Regression Results</caption>\n",
       "<tr>\n",
       "  <th>Dep. Variable:</th>       <td>won_true</td>     <th>  No. Observations:  </th>  <td> 22868</td> \n",
       "</tr>\n",
       "<tr>\n",
       "  <th>Model:</th>                 <td>Logit</td>      <th>  Df Residuals:      </th>  <td> 22860</td> \n",
       "</tr>\n",
       "<tr>\n",
       "  <th>Method:</th>                 <td>MLE</td>       <th>  Df Model:          </th>  <td>     7</td> \n",
       "</tr>\n",
       "<tr>\n",
       "  <th>Date:</th>            <td>Tue, 03 Mar 2020</td> <th>  Pseudo R-squ.:     </th>  <td>0.3298</td> \n",
       "</tr>\n",
       "<tr>\n",
       "  <th>Time:</th>                <td>14:45:06</td>     <th>  Log-Likelihood:    </th> <td> -10624.</td>\n",
       "</tr>\n",
       "<tr>\n",
       "  <th>converged:</th>             <td>True</td>       <th>  LL-Null:           </th> <td> -15851.</td>\n",
       "</tr>\n",
       "<tr>\n",
       "  <th>Covariance Type:</th>     <td>nonrobust</td>    <th>  LLR p-value:       </th>  <td> 0.000</td> \n",
       "</tr>\n",
       "</table>\n",
       "<table class=\"simpletable\">\n",
       "<tr>\n",
       "            <td></td>              <th>coef</th>     <th>std err</th>      <th>z</th>      <th>P>|z|</th>  <th>[0.025</th>    <th>0.975]</th>  \n",
       "</tr>\n",
       "<tr>\n",
       "  <th>Intercept</th>            <td>   -3.2051</td> <td>    0.047</td> <td>  -68.272</td> <td> 0.000</td> <td>   -3.297</td> <td>   -3.113</td>\n",
       "</tr>\n",
       "<tr>\n",
       "  <th>goals</th>                <td>    1.1998</td> <td>    0.017</td> <td>   71.707</td> <td> 0.000</td> <td>    1.167</td> <td>    1.233</td>\n",
       "</tr>\n",
       "<tr>\n",
       "  <th>shots</th>                <td>   -2.0076</td> <td>    0.138</td> <td>  -14.581</td> <td> 0.000</td> <td>   -2.277</td> <td>   -1.738</td>\n",
       "</tr>\n",
       "<tr>\n",
       "  <th>pim</th>                  <td>   -4.8202</td> <td>    0.437</td> <td>  -11.028</td> <td> 0.000</td> <td>   -5.677</td> <td>   -3.963</td>\n",
       "</tr>\n",
       "<tr>\n",
       "  <th>powerPlayGoals</th>       <td>   -0.7942</td> <td>    0.153</td> <td>   -5.186</td> <td> 0.000</td> <td>   -1.094</td> <td>   -0.494</td>\n",
       "</tr>\n",
       "<tr>\n",
       "  <th>faceOffWinPercentage</th> <td>    0.5937</td> <td>    0.140</td> <td>    4.252</td> <td> 0.000</td> <td>    0.320</td> <td>    0.867</td>\n",
       "</tr>\n",
       "<tr>\n",
       "  <th>giveaways</th>            <td>   -0.7822</td> <td>    0.130</td> <td>   -6.030</td> <td> 0.000</td> <td>   -1.036</td> <td>   -0.528</td>\n",
       "</tr>\n",
       "<tr>\n",
       "  <th>takeaways</th>            <td>    1.2936</td> <td>    0.143</td> <td>    9.062</td> <td> 0.000</td> <td>    1.014</td> <td>    1.573</td>\n",
       "</tr>\n",
       "</table>"
      ],
      "text/plain": [
       "<class 'statsmodels.iolib.summary.Summary'>\n",
       "\"\"\"\n",
       "                           Logit Regression Results                           \n",
       "==============================================================================\n",
       "Dep. Variable:               won_true   No. Observations:                22868\n",
       "Model:                          Logit   Df Residuals:                    22860\n",
       "Method:                           MLE   Df Model:                            7\n",
       "Date:                Tue, 03 Mar 2020   Pseudo R-squ.:                  0.3298\n",
       "Time:                        14:45:06   Log-Likelihood:                -10624.\n",
       "converged:                       True   LL-Null:                       -15851.\n",
       "Covariance Type:            nonrobust   LLR p-value:                     0.000\n",
       "========================================================================================\n",
       "                           coef    std err          z      P>|z|      [0.025      0.975]\n",
       "----------------------------------------------------------------------------------------\n",
       "Intercept               -3.2051      0.047    -68.272      0.000      -3.297      -3.113\n",
       "goals                    1.1998      0.017     71.707      0.000       1.167       1.233\n",
       "shots                   -2.0076      0.138    -14.581      0.000      -2.277      -1.738\n",
       "pim                     -4.8202      0.437    -11.028      0.000      -5.677      -3.963\n",
       "powerPlayGoals          -0.7942      0.153     -5.186      0.000      -1.094      -0.494\n",
       "faceOffWinPercentage     0.5937      0.140      4.252      0.000       0.320       0.867\n",
       "giveaways               -0.7822      0.130     -6.030      0.000      -1.036      -0.528\n",
       "takeaways                1.2936      0.143      9.062      0.000       1.014       1.573\n",
       "========================================================================================\n",
       "\"\"\""
      ]
     },
     "execution_count": 120,
     "metadata": {},
     "output_type": "execute_result"
    }
   ],
   "source": [
    "results = smf.logit('won_true ~ goals + shots + pim + powerPlayGoals + faceOffWinPercentage + giveaways + takeaways', data = df).fit()\n",
    "results.summary()"
   ]
  },
  {
   "cell_type": "code",
   "execution_count": 121,
   "metadata": {},
   "outputs": [
    {
     "name": "stdout",
     "output_type": "stream",
     "text": [
      "0.7775494140283365\n"
     ]
    },
    {
     "data": {
      "text/plain": [
       "0.22245058597166345"
      ]
     },
     "execution_count": 121,
     "metadata": {},
     "output_type": "execute_result"
    }
   ],
   "source": [
    "# Refit the LR\n",
    "lr = LogisticRegression(C=100000, tol=.0000001, solver='newton-cg')\n",
    "lr.fit(X, y)\n",
    "print(lr.score(X, y))\n",
    "# Error rate\n",
    "from sklearn.metrics import accuracy_score\n",
    "lr_y_pred = lr.predict(X)\n",
    "lr_a_score = accuracy_score(y, lr_y_pred)\n",
    "lr_error_rate = 1 - lr_a_score\n",
    "lr_error_rate"
   ]
  },
  {
   "cell_type": "code",
   "execution_count": 122,
   "metadata": {},
   "outputs": [
    {
     "data": {
      "text/plain": [
       "((12863, 7), (4288, 7), (5717, 7))"
      ]
     },
     "execution_count": 122,
     "metadata": {},
     "output_type": "execute_result"
    }
   ],
   "source": [
    "# Split data set into training, validation and test sets.\n",
    "X_train, X_test, y_train, y_test = train_test_split(X, y, random_state=3)\n",
    "X_train, X_valid, y_train, y_valid = train_test_split(X_train, y_train, random_state=3)\n",
    "X_train.shape, X_valid.shape, X_test.shape"
   ]
  },
  {
   "cell_type": "code",
   "execution_count": 124,
   "metadata": {},
   "outputs": [
    {
     "name": "stdout",
     "output_type": "stream",
     "text": [
      "Optimization terminated successfully.\n",
      "         Current function value: 0.466941\n",
      "         Iterations 6\n"
     ]
    },
    {
     "data": {
      "text/html": [
       "<table class=\"simpletable\">\n",
       "<caption>Logit Regression Results</caption>\n",
       "<tr>\n",
       "  <th>Dep. Variable:</th>       <td>won_true</td>     <th>  No. Observations:  </th>  <td> 12863</td> \n",
       "</tr>\n",
       "<tr>\n",
       "  <th>Model:</th>                 <td>Logit</td>      <th>  Df Residuals:      </th>  <td> 12855</td> \n",
       "</tr>\n",
       "<tr>\n",
       "  <th>Method:</th>                 <td>MLE</td>       <th>  Df Model:          </th>  <td>     7</td> \n",
       "</tr>\n",
       "<tr>\n",
       "  <th>Date:</th>            <td>Tue, 03 Mar 2020</td> <th>  Pseudo R-squ.:     </th>  <td>0.3263</td> \n",
       "</tr>\n",
       "<tr>\n",
       "  <th>Time:</th>                <td>14:45:06</td>     <th>  Log-Likelihood:    </th> <td> -6006.3</td>\n",
       "</tr>\n",
       "<tr>\n",
       "  <th>converged:</th>             <td>True</td>       <th>  LL-Null:           </th> <td> -8915.9</td>\n",
       "</tr>\n",
       "<tr>\n",
       "  <th>Covariance Type:</th>     <td>nonrobust</td>    <th>  LLR p-value:       </th>  <td> 0.000</td> \n",
       "</tr>\n",
       "</table>\n",
       "<table class=\"simpletable\">\n",
       "<tr>\n",
       "            <td></td>              <th>coef</th>     <th>std err</th>      <th>z</th>      <th>P>|z|</th>  <th>[0.025</th>    <th>0.975]</th>  \n",
       "</tr>\n",
       "<tr>\n",
       "  <th>Intercept</th>            <td>   -3.1731</td> <td>    0.062</td> <td>  -51.165</td> <td> 0.000</td> <td>   -3.295</td> <td>   -3.052</td>\n",
       "</tr>\n",
       "<tr>\n",
       "  <th>goals</th>                <td>    1.1843</td> <td>    0.022</td> <td>   53.646</td> <td> 0.000</td> <td>    1.141</td> <td>    1.228</td>\n",
       "</tr>\n",
       "<tr>\n",
       "  <th>shots</th>                <td>   -1.9115</td> <td>    0.183</td> <td>  -10.424</td> <td> 0.000</td> <td>   -2.271</td> <td>   -1.552</td>\n",
       "</tr>\n",
       "<tr>\n",
       "  <th>pim</th>                  <td>   -4.2356</td> <td>    0.576</td> <td>   -7.360</td> <td> 0.000</td> <td>   -5.364</td> <td>   -3.108</td>\n",
       "</tr>\n",
       "<tr>\n",
       "  <th>powerPlayGoals</th>       <td>   -0.8143</td> <td>    0.202</td> <td>   -4.022</td> <td> 0.000</td> <td>   -1.211</td> <td>   -0.417</td>\n",
       "</tr>\n",
       "<tr>\n",
       "  <th>faceOffWinPercentage</th> <td>    0.6611</td> <td>    0.187</td> <td>    3.530</td> <td> 0.000</td> <td>    0.294</td> <td>    1.028</td>\n",
       "</tr>\n",
       "<tr>\n",
       "  <th>giveaways</th>            <td>   -0.6154</td> <td>    0.172</td> <td>   -3.573</td> <td> 0.000</td> <td>   -0.953</td> <td>   -0.278</td>\n",
       "</tr>\n",
       "<tr>\n",
       "  <th>takeaways</th>            <td>    1.4036</td> <td>    0.189</td> <td>    7.413</td> <td> 0.000</td> <td>    1.033</td> <td>    1.775</td>\n",
       "</tr>\n",
       "</table>"
      ],
      "text/plain": [
       "<class 'statsmodels.iolib.summary.Summary'>\n",
       "\"\"\"\n",
       "                           Logit Regression Results                           \n",
       "==============================================================================\n",
       "Dep. Variable:               won_true   No. Observations:                12863\n",
       "Model:                          Logit   Df Residuals:                    12855\n",
       "Method:                           MLE   Df Model:                            7\n",
       "Date:                Tue, 03 Mar 2020   Pseudo R-squ.:                  0.3263\n",
       "Time:                        14:45:06   Log-Likelihood:                -6006.3\n",
       "converged:                       True   LL-Null:                       -8915.9\n",
       "Covariance Type:            nonrobust   LLR p-value:                     0.000\n",
       "========================================================================================\n",
       "                           coef    std err          z      P>|z|      [0.025      0.975]\n",
       "----------------------------------------------------------------------------------------\n",
       "Intercept               -3.1731      0.062    -51.165      0.000      -3.295      -3.052\n",
       "goals                    1.1843      0.022     53.646      0.000       1.141       1.228\n",
       "shots                   -1.9115      0.183    -10.424      0.000      -2.271      -1.552\n",
       "pim                     -4.2356      0.576     -7.360      0.000      -5.364      -3.108\n",
       "powerPlayGoals          -0.8143      0.202     -4.022      0.000      -1.211      -0.417\n",
       "faceOffWinPercentage     0.6611      0.187      3.530      0.000       0.294       1.028\n",
       "giveaways               -0.6154      0.172     -3.573      0.000      -0.953      -0.278\n",
       "takeaways                1.4036      0.189      7.413      0.000       1.033       1.775\n",
       "========================================================================================\n",
       "\"\"\""
      ]
     },
     "execution_count": 124,
     "metadata": {},
     "output_type": "execute_result"
    }
   ],
   "source": [
    "# Join the X and y of training set, validation set, and test set\n",
    "df_train = X_train.join(y_train)\n",
    "df_valid = X_valid.join(y_valid)\n",
    "df_test = X_test.join(y_test)\n",
    "\n",
    "# Set new model with training set using statsmodel\n",
    "results_train = smf.logit('won_true ~ goals + shots + pim + powerPlayGoals + faceOffWinPercentage + giveaways + takeaways', data = df_train).fit()\n",
    "results_train.summary()"
   ]
  },
  {
   "cell_type": "code",
   "execution_count": 125,
   "metadata": {},
   "outputs": [
    {
     "name": "stderr",
     "output_type": "stream",
     "text": [
      "C:\\Users\\jkom8\\Anaconda3\\lib\\site-packages\\sklearn\\linear_model\\logistic.py:432: FutureWarning: Default solver will be changed to 'lbfgs' in 0.22. Specify a solver to silence this warning.\n",
      "  FutureWarning)\n"
     ]
    },
    {
     "data": {
      "text/plain": [
       "0.7797796046877733"
      ]
     },
     "execution_count": 125,
     "metadata": {},
     "output_type": "execute_result"
    }
   ],
   "source": [
    "# Logistic Regression model\n",
    "lr = LogisticRegression(solver = 'newton-cg')\n",
    "lr.fit(X_train, y_train)\n",
    "lr.score(X_test, y_test)"
   ]
  },
  {
   "cell_type": "code",
   "execution_count": 126,
   "metadata": {},
   "outputs": [
    {
     "name": "stderr",
     "output_type": "stream",
     "text": [
      "C:\\Users\\jkom8\\Anaconda3\\lib\\site-packages\\sklearn\\svm\\base.py:193: FutureWarning: The default value of gamma will change from 'auto' to 'scale' in version 0.22 to account better for unscaled features. Set gamma explicitly to 'auto' or 'scale' to avoid this warning.\n",
      "  \"avoid this warning.\", FutureWarning)\n"
     ]
    },
    {
     "data": {
      "text/plain": [
       "0.7771558509707889"
      ]
     },
     "execution_count": 126,
     "metadata": {},
     "output_type": "execute_result"
    }
   ],
   "source": [
    "# SVC model\n",
    "smv = SVC()\n",
    "smv.fit(X_train, y_train)\n",
    "smv.score(X_test, y_test)"
   ]
  },
  {
   "cell_type": "code",
   "execution_count": 127,
   "metadata": {},
   "outputs": [
    {
     "data": {
      "text/plain": [
       "0.7582648242085009"
      ]
     },
     "execution_count": 127,
     "metadata": {},
     "output_type": "execute_result"
    }
   ],
   "source": [
    "# Random Forest Model\n",
    "rf = RandomForestClassifier(n_estimators=40)\n",
    "rf.fit(X_train, y_train)\n",
    "rf.score(X_test, y_test)"
   ]
  },
  {
   "cell_type": "code",
   "execution_count": 138,
   "metadata": {},
   "outputs": [
    {
     "name": "stderr",
     "output_type": "stream",
     "text": [
      "C:\\Users\\jkom8\\Anaconda3\\lib\\site-packages\\sklearn\\linear_model\\logistic.py:432: FutureWarning: Default solver will be changed to 'lbfgs' in 0.22. Specify a solver to silence this warning.\n",
      "  FutureWarning)\n",
      "C:\\Users\\jkom8\\Anaconda3\\lib\\site-packages\\sklearn\\svm\\base.py:193: FutureWarning: The default value of gamma will change from 'auto' to 'scale' in version 0.22 to account better for unscaled features. Set gamma explicitly to 'auto' or 'scale' to avoid this warning.\n",
      "  \"avoid this warning.\", FutureWarning)\n",
      "C:\\Users\\jkom8\\Anaconda3\\lib\\site-packages\\sklearn\\ensemble\\forest.py:245: FutureWarning: The default value of n_estimators will change from 10 in version 0.20 to 100 in 0.22.\n",
      "  \"10 in version 0.20 to 100 in 0.22.\", FutureWarning)\n",
      "C:\\Users\\jkom8\\Anaconda3\\lib\\site-packages\\sklearn\\linear_model\\logistic.py:432: FutureWarning: Default solver will be changed to 'lbfgs' in 0.22. Specify a solver to silence this warning.\n",
      "  FutureWarning)\n",
      "C:\\Users\\jkom8\\Anaconda3\\lib\\site-packages\\sklearn\\svm\\base.py:193: FutureWarning: The default value of gamma will change from 'auto' to 'scale' in version 0.22 to account better for unscaled features. Set gamma explicitly to 'auto' or 'scale' to avoid this warning.\n",
      "  \"avoid this warning.\", FutureWarning)\n",
      "C:\\Users\\jkom8\\Anaconda3\\lib\\site-packages\\sklearn\\ensemble\\forest.py:245: FutureWarning: The default value of n_estimators will change from 10 in version 0.20 to 100 in 0.22.\n",
      "  \"10 in version 0.20 to 100 in 0.22.\", FutureWarning)\n",
      "C:\\Users\\jkom8\\Anaconda3\\lib\\site-packages\\sklearn\\linear_model\\logistic.py:432: FutureWarning: Default solver will be changed to 'lbfgs' in 0.22. Specify a solver to silence this warning.\n",
      "  FutureWarning)\n",
      "C:\\Users\\jkom8\\Anaconda3\\lib\\site-packages\\sklearn\\svm\\base.py:193: FutureWarning: The default value of gamma will change from 'auto' to 'scale' in version 0.22 to account better for unscaled features. Set gamma explicitly to 'auto' or 'scale' to avoid this warning.\n",
      "  \"avoid this warning.\", FutureWarning)\n",
      "C:\\Users\\jkom8\\Anaconda3\\lib\\site-packages\\sklearn\\ensemble\\forest.py:245: FutureWarning: The default value of n_estimators will change from 10 in version 0.20 to 100 in 0.22.\n",
      "  \"10 in version 0.20 to 100 in 0.22.\", FutureWarning)\n"
     ]
    }
   ],
   "source": [
    "# Testing with KFold\n",
    "kf = KFold(n_splits=3)\n",
    "\n",
    "def get_score(model, X_train, X_test, y_train, y_test):\n",
    "    model.fit(X_train, y_train)\n",
    "    return model.score(X_test, y_test)\n",
    "\n",
    "lr_scores = []\n",
    "svm_scores = []\n",
    "rf_scores = []\n",
    "\n",
    "for df_train, df_test in kf.split(X):\n",
    "    # Split data for each test\n",
    "    X_train, X_test, y_train, y_test = train_test_split(X, y, random_state=3)\n",
    "    \n",
    "    lr_scores.append(get_score(LogisticRegression(), X_train, X_test, y_train, y_test))\n",
    "    svm_scores.append(get_score(SVC(), X_train, X_test, y_train, y_test))\n",
    "    rf_scores.append(get_score(RandomForestClassifier(), X_train, X_test, y_train, y_test))"
   ]
  },
  {
   "cell_type": "code",
   "execution_count": 139,
   "metadata": {},
   "outputs": [
    {
     "data": {
      "text/plain": [
       "[0.7801294385167046, 0.7801294385167046, 0.7801294385167046]"
      ]
     },
     "execution_count": 139,
     "metadata": {},
     "output_type": "execute_result"
    }
   ],
   "source": [
    "lr_scores"
   ]
  },
  {
   "cell_type": "code",
   "execution_count": 140,
   "metadata": {},
   "outputs": [
    {
     "data": {
      "text/plain": [
       "[0.7771558509707889, 0.7771558509707889, 0.7771558509707889]"
      ]
     },
     "execution_count": 140,
     "metadata": {},
     "output_type": "execute_result"
    }
   ],
   "source": [
    "svm_scores"
   ]
  },
  {
   "cell_type": "code",
   "execution_count": 141,
   "metadata": {},
   "outputs": [
    {
     "data": {
      "text/plain": [
       "[0.7500437292286164, 0.7479447262550288, 0.7419975511631974]"
      ]
     },
     "execution_count": 141,
     "metadata": {},
     "output_type": "execute_result"
    }
   ],
   "source": [
    "rf_scores"
   ]
  },
  {
   "cell_type": "code",
   "execution_count": 135,
   "metadata": {},
   "outputs": [
    {
     "name": "stderr",
     "output_type": "stream",
     "text": [
      "C:\\Users\\jkom8\\Anaconda3\\lib\\site-packages\\sklearn\\linear_model\\logistic.py:432: FutureWarning: Default solver will be changed to 'lbfgs' in 0.22. Specify a solver to silence this warning.\n",
      "  FutureWarning)\n",
      "C:\\Users\\jkom8\\Anaconda3\\lib\\site-packages\\sklearn\\linear_model\\logistic.py:432: FutureWarning: Default solver will be changed to 'lbfgs' in 0.22. Specify a solver to silence this warning.\n",
      "  FutureWarning)\n",
      "C:\\Users\\jkom8\\Anaconda3\\lib\\site-packages\\sklearn\\linear_model\\logistic.py:432: FutureWarning: Default solver will be changed to 'lbfgs' in 0.22. Specify a solver to silence this warning.\n",
      "  FutureWarning)\n"
     ]
    },
    {
     "data": {
      "text/plain": [
       "array([0.76941238, 0.78037261, 0.77984781])"
      ]
     },
     "execution_count": 135,
     "metadata": {},
     "output_type": "execute_result"
    }
   ],
   "source": [
    "# Test using shortcut\n",
    "from sklearn.model_selection import cross_val_score\n",
    "\n",
    "cross_val_score(LogisticRegression(), X, y, cv=3)"
   ]
  },
  {
   "cell_type": "code",
   "execution_count": 136,
   "metadata": {},
   "outputs": [
    {
     "name": "stderr",
     "output_type": "stream",
     "text": [
      "C:\\Users\\jkom8\\Anaconda3\\lib\\site-packages\\sklearn\\ensemble\\forest.py:245: FutureWarning: The default value of n_estimators will change from 10 in version 0.20 to 100 in 0.22.\n",
      "  \"10 in version 0.20 to 100 in 0.22.\", FutureWarning)\n",
      "C:\\Users\\jkom8\\Anaconda3\\lib\\site-packages\\sklearn\\ensemble\\forest.py:245: FutureWarning: The default value of n_estimators will change from 10 in version 0.20 to 100 in 0.22.\n",
      "  \"10 in version 0.20 to 100 in 0.22.\", FutureWarning)\n",
      "C:\\Users\\jkom8\\Anaconda3\\lib\\site-packages\\sklearn\\ensemble\\forest.py:245: FutureWarning: The default value of n_estimators will change from 10 in version 0.20 to 100 in 0.22.\n",
      "  \"10 in version 0.20 to 100 in 0.22.\", FutureWarning)\n"
     ]
    },
    {
     "data": {
      "text/plain": [
       "array([0.74724554, 0.75098399, 0.750328  ])"
      ]
     },
     "execution_count": 136,
     "metadata": {},
     "output_type": "execute_result"
    }
   ],
   "source": [
    "cross_val_score(RandomForestClassifier(), X, y, cv=3)"
   ]
  },
  {
   "cell_type": "code",
   "execution_count": 137,
   "metadata": {},
   "outputs": [
    {
     "name": "stderr",
     "output_type": "stream",
     "text": [
      "C:\\Users\\jkom8\\Anaconda3\\lib\\site-packages\\sklearn\\svm\\base.py:193: FutureWarning: The default value of gamma will change from 'auto' to 'scale' in version 0.22 to account better for unscaled features. Set gamma explicitly to 'auto' or 'scale' to avoid this warning.\n",
      "  \"avoid this warning.\", FutureWarning)\n",
      "C:\\Users\\jkom8\\Anaconda3\\lib\\site-packages\\sklearn\\svm\\base.py:193: FutureWarning: The default value of gamma will change from 'auto' to 'scale' in version 0.22 to account better for unscaled features. Set gamma explicitly to 'auto' or 'scale' to avoid this warning.\n",
      "  \"avoid this warning.\", FutureWarning)\n",
      "C:\\Users\\jkom8\\Anaconda3\\lib\\site-packages\\sklearn\\svm\\base.py:193: FutureWarning: The default value of gamma will change from 'auto' to 'scale' in version 0.22 to account better for unscaled features. Set gamma explicitly to 'auto' or 'scale' to avoid this warning.\n",
      "  \"avoid this warning.\", FutureWarning)\n"
     ]
    },
    {
     "data": {
      "text/plain": [
       "array([0.76770724, 0.77604303, 0.77604303])"
      ]
     },
     "execution_count": 137,
     "metadata": {},
     "output_type": "execute_result"
    }
   ],
   "source": [
    "cross_val_score(SVC(), X, y, cv=3)"
   ]
  },
  {
   "cell_type": "code",
   "execution_count": 198,
   "metadata": {},
   "outputs": [
    {
     "data": {
      "image/png": "[encoded data removed]",
      "text/plain": [
       "<Figure size 432x288 with 2 Axes>"
      ]
     },
     "metadata": {
      "needs_background": "light"
     },
     "output_type": "display_data"
    },
    {
     "name": "stdout",
     "output_type": "stream",
     "text": [
      "Predicted     0     1\n",
      "True                 \n",
      "0          1918   917\n",
      "1           903  1979\n",
      "   Precision\n",
      "0   0.679901\n",
      "1   0.683356\n"
     ]
    },
    {
     "data": {
      "image/png": "[encoded data removed]",
      "text/plain": [
       "<Figure size 432x288 with 2 Axes>"
      ]
     },
     "metadata": {
      "needs_background": "light"
     },
     "output_type": "display_data"
    },
    {
     "name": "stdout",
     "output_type": "stream",
     "text": [
      "Predicted     0     1\n",
      "True                 \n",
      "0          2068   767\n",
      "1           792  2090\n",
      "   Precision\n",
      "0   0.723077\n",
      "1   0.731537\n"
     ]
    },
    {
     "data": {
      "image/png": "[encoded data removed]",
      "text/plain": [
       "<Figure size 432x288 with 2 Axes>"
      ]
     },
     "metadata": {
      "needs_background": "light"
     },
     "output_type": "display_data"
    },
    {
     "name": "stdout",
     "output_type": "stream",
     "text": [
      "Predicted     0     1\n",
      "True                 \n",
      "0          2140   695\n",
      "1           761  2121\n",
      "   Precision\n",
      "0   0.737677\n",
      "1   0.753196\n"
     ]
    }
   ],
   "source": [
    "def KNN(X_train, y_train, X_test, y_test, n_neighbors=1):\n",
    "    knn = KNeighborsClassifier(n_neighbors)\n",
    "    knn.fit(X_train, y_train)\n",
    "    pred = knn.predict(X_test)\n",
    "    score = knn.score(X_test, y_test)\n",
    "    return(pred, score, knn.classes_)\n",
    "\n",
    "def plot_confusion_matrix(cm, classes, n_neighbors, title='Confusion matrix (Normalized)',\n",
    "                          cmap=plt.cm.Blues):\n",
    "    plt.imshow(cm, interpolation='nearest', cmap=plt.cm.Blues)\n",
    "    plt.title('Normalized confusion matrix: KNN-{}'.format(n_neighbors))\n",
    "    plt.colorbar()\n",
    "    plt.xticks(np.arange(2), classes)\n",
    "    plt.yticks(np.arange(2), classes)\n",
    "    plt.tight_layout()\n",
    "    plt.xlabel('Predicted label',rotation='horizontal', ha='right')\n",
    "    plt.ylabel('True label')\n",
    "    plt.show()\n",
    "\n",
    "for k in [1,3,5]:\n",
    "    pred, score, classes = KNN(X_train, y_train, X_test, y_test, k)\n",
    "    cm = confusion_matrix(y_test, pred)\n",
    "    cm_normalized = cm.astype('float') / cm.sum(axis=1)[:, np.newaxis]\n",
    "    plot_confusion_matrix(cm_normalized, classes, n_neighbors=k)\n",
    "    cm_df = pd.DataFrame(cm, index=classes, columns=classes)\n",
    "    cm_df.index.name = 'True'\n",
    "    cm_df.columns.name = 'Predicted'\n",
    "    print(cm_df)    \n",
    "    print(pd.DataFrame(precision_score(y_test, pred, average=None),\n",
    "                       index=classes, columns=['Precision']))"
   ]
  },
  {
   "cell_type": "markdown",
   "metadata": {},
   "source": [
    "From these results, it looks as though a LR model will be produce the best model."
   ]
  },
  {
   "cell_type": "code",
   "execution_count": 146,
   "metadata": {},
   "outputs": [
    {
     "data": {
      "image/png": "[encoded data removed]",
      "text/plain": [
       "<Figure size 432x288 with 1 Axes>"
      ]
     },
     "metadata": {
      "needs_background": "light"
     },
     "output_type": "display_data"
    },
    {
     "data": {
      "text/plain": [
       "0.8605271177790261"
      ]
     },
     "execution_count": 146,
     "metadata": {},
     "output_type": "execute_result"
    }
   ],
   "source": [
    "# function for printing the ROC curve\n",
    "def plot_roc_curve(fpr, tpr):\n",
    "    plt.plot(fpr, tpr, color='orange', label='ROC')\n",
    "    plt.plot([0, 1], [0, 1], color='darkblue', linestyle='--')\n",
    "    plt.xlabel('False Positive Rate')\n",
    "    plt.ylabel('True Positive Rate')\n",
    "    plt.title('Receiver Operating Characteristic (ROC) Curve')\n",
    "    plt.legend()\n",
    "    plt.show()\n",
    "\n",
    "y_probs = lr.predict_proba(X_test) # we have to get the probability values to plot roc curve\n",
    "y_probs = y_probs[:, 1] # keep probabilities for the positive outcome only\n",
    "fpr, tpr, _ = roc_curve(y_test, y_probs)\n",
    "roc_auc = auc(fpr, tpr)\n",
    "plot_roc_curve(fpr, tpr)\n",
    "lr_auc = roc_auc_score(y_test, y_probs)\n",
    "lr_auc"
   ]
  },
  {
   "cell_type": "code",
   "execution_count": 147,
   "metadata": {},
   "outputs": [
    {
     "data": {
      "text/plain": [
       "array([[2216,  619],\n",
       "       [ 640, 2242]], dtype=int64)"
      ]
     },
     "execution_count": 147,
     "metadata": {},
     "output_type": "execute_result"
    }
   ],
   "source": [
    "# Confusion Matrix\n",
    "y_pred = lr.predict(X_test)\n",
    "confusion_matrix(y_test, y_pred)"
   ]
  },
  {
   "cell_type": "code",
   "execution_count": 148,
   "metadata": {},
   "outputs": [
    {
     "name": "stdout",
     "output_type": "stream",
     "text": [
      "              precision    recall  f1-score   support\n",
      "\n",
      "           0      0.776     0.782     0.779      2835\n",
      "           1      0.784     0.778     0.781      2882\n",
      "\n",
      "    accuracy                          0.780      5717\n",
      "   macro avg      0.780     0.780     0.780      5717\n",
      "weighted avg      0.780     0.780     0.780      5717\n",
      "\n"
     ]
    }
   ],
   "source": [
    "print(classification_report(y_test, y_pred, digits=3))"
   ]
  },
  {
   "cell_type": "code",
   "execution_count": 174,
   "metadata": {},
   "outputs": [
    {
     "name": "stderr",
     "output_type": "stream",
     "text": [
      "C:\\Users\\jkom8\\Anaconda3\\lib\\site-packages\\sklearn\\linear_model\\logistic.py:432: FutureWarning: Default solver will be changed to 'lbfgs' in 0.22. Specify a solver to silence this warning.\n",
      "  FutureWarning)\n",
      "C:\\Users\\jkom8\\Anaconda3\\lib\\site-packages\\sklearn\\linear_model\\logistic.py:432: FutureWarning: Default solver will be changed to 'lbfgs' in 0.22. Specify a solver to silence this warning.\n",
      "  FutureWarning)\n",
      "C:\\Users\\jkom8\\Anaconda3\\lib\\site-packages\\sklearn\\linear_model\\logistic.py:432: FutureWarning: Default solver will be changed to 'lbfgs' in 0.22. Specify a solver to silence this warning.\n",
      "  FutureWarning)\n"
     ]
    },
    {
     "data": {
      "text/plain": [
       "array([0.76941238, 0.78037261, 0.77984781])"
      ]
     },
     "execution_count": 174,
     "metadata": {},
     "output_type": "execute_result"
    }
   ],
   "source": [
    "cross_val_score(LogisticRegression(), X, y, cv=3)"
   ]
  },
  {
   "cell_type": "code",
   "execution_count": 176,
   "metadata": {},
   "outputs": [
    {
     "data": {
      "text/plain": [
       "array([0.76956712, 0.77372103, 0.78334062, 0.7783122 , 0.78368329])"
      ]
     },
     "execution_count": 176,
     "metadata": {},
     "output_type": "execute_result"
    }
   ],
   "source": [
    "cross_val_score(LogisticRegression(solver = \"liblinear\", class_weight='balanced', C=100000, tol=.0000001), X, y, cv=5)"
   ]
  },
  {
   "cell_type": "code",
   "execution_count": 194,
   "metadata": {},
   "outputs": [
    {
     "data": {
      "text/plain": [
       "0.7803043554311702"
      ]
     },
     "execution_count": 194,
     "metadata": {},
     "output_type": "execute_result"
    }
   ],
   "source": [
    "# Updated Logistic Regression model\n",
    "lr = LogisticRegression(solver = \"liblinear\", class_weight='balanced', C=100000, tol=.0000001)\n",
    "X_train, X_test, y_train, y_test = train_test_split(X, y, random_state=3)\n",
    "lr.fit(X_train, y_train)\n",
    "lr.score(X_test, y_test)"
   ]
  },
  {
   "cell_type": "code",
   "execution_count": 199,
   "metadata": {},
   "outputs": [
    {
     "data": {
      "image/png": "[encoded data removed]",
      "text/plain": [
       "<Figure size 432x288 with 1 Axes>"
      ]
     },
     "metadata": {
      "needs_background": "light"
     },
     "output_type": "display_data"
    },
    {
     "data": {
      "text/plain": [
       "0.8608797290731134"
      ]
     },
     "execution_count": 199,
     "metadata": {},
     "output_type": "execute_result"
    }
   ],
   "source": [
    "# function for printing the ROC curve\n",
    "def plot_roc_curve(fpr, tpr):\n",
    "    plt.plot(fpr, tpr, color='orange', label='ROC')\n",
    "    plt.plot([0, 1], [0, 1], color='darkblue', linestyle='--')\n",
    "    plt.xlabel('False Positive Rate')\n",
    "    plt.ylabel('True Positive Rate')\n",
    "    plt.title('Receiver Operating Characteristic (ROC) Curve')\n",
    "    plt.legend()\n",
    "    plt.show()\n",
    "\n",
    "y_probs = lr.predict_proba(X_test) # we have to get the probability values to plot roc curve\n",
    "y_probs = y_probs[:, 1] # keep probabilities for the positive outcome only\n",
    "fpr, tpr, _ = roc_curve(y_test, y_probs)\n",
    "roc_auc = auc(fpr, tpr)\n",
    "plot_roc_curve(fpr, tpr)\n",
    "lr_auc = roc_auc_score(y_test, y_probs)\n",
    "lr_auc"
   ]
  },
  {
   "cell_type": "code",
   "execution_count": 200,
   "metadata": {},
   "outputs": [
    {
     "data": {
      "text/plain": [
       "array([[2230,  605],\n",
       "       [ 651, 2231]], dtype=int64)"
      ]
     },
     "execution_count": 200,
     "metadata": {},
     "output_type": "execute_result"
    }
   ],
   "source": [
    "# Confusion Matrix\n",
    "y_pred = lr.predict(X_test)\n",
    "confusion_matrix(y_test, y_pred)"
   ]
  },
  {
   "cell_type": "code",
   "execution_count": 201,
   "metadata": {},
   "outputs": [
    {
     "name": "stdout",
     "output_type": "stream",
     "text": [
      "              precision    recall  f1-score   support\n",
      "\n",
      "           0      0.774     0.787     0.780      2835\n",
      "           1      0.787     0.774     0.780      2882\n",
      "\n",
      "    accuracy                          0.780      5717\n",
      "   macro avg      0.780     0.780     0.780      5717\n",
      "weighted avg      0.780     0.780     0.780      5717\n",
      "\n"
     ]
    }
   ],
   "source": [
    "print(classification_report(y_test, y_pred, digits=3))"
   ]
  },
  {
   "cell_type": "code",
   "execution_count": null,
   "metadata": {},
   "outputs": [],
   "source": []
  }
 ],
 "metadata": {
  "kernelspec": {
   "display_name": "Python 3",
   "language": "python",
   "name": "python3"
  },
  "language_info": {
   "codemirror_mode": {
    "name": "ipython",
    "version": 3
   },
   "file_extension": ".py",
   "mimetype": "text/x-python",
   "name": "python",
   "nbconvert_exporter": "python",
   "pygments_lexer": "ipython3",
   "version": "3.7.4"
  }
 },
 "nbformat": 4,
 "nbformat_minor": 2
}
